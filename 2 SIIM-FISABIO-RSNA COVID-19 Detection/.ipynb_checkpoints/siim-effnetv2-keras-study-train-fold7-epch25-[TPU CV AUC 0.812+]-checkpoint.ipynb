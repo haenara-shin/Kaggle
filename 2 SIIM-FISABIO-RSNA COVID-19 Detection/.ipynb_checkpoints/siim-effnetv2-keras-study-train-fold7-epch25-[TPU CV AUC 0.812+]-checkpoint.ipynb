{
 "cells": [
  {
   "cell_type": "markdown",
   "metadata": {
    "papermill": {
     "duration": 0.014257,
     "end_time": "2021-07-29T18:25:31.467278",
     "exception": false,
     "start_time": "2021-07-29T18:25:31.453021",
     "status": "completed"
    },
    "tags": []
   },
   "source": [
    "![](https://i.ibb.co/Zm9Rmdb/lung-nb4-short.jpg)\n",
    "\n",
    "<p style='text-align: center;'><span style=\"color: #000508; font-family: Segoe UI; font-size: 2.5em; font-weight: 300;\">SIIM COVID-19 EffNetV2 Keras Study Level Train [TPU]</span></p>\n",
    "\n",
    "<span style=\"color: #027fc1; font-family: Segoe UI; font-size: 1.9em; font-weight: 300;\">Overview</span>\n",
    "\n",
    "&nbsp;&nbsp;✅&nbsp;&nbsp;Training Official TF EfficientNetV2 Models on TPU [**CV AUC 0.804+**]<br>\n",
    "&nbsp;&nbsp;✅&nbsp;&nbsp;Minimal Overhead TPU Augmentations<br>\n",
    "&nbsp;&nbsp;✅&nbsp;&nbsp;Weights & Biases Integration<br>\n",
    "<br>\n",
    "\n",
    "**Please use v6 or above of this notebook, v4 or above of the TFHub Weight Files dataset and v6 or above of the inference notebook as some of the weight files are fixed.**\n",
    "\n",
    "<br>\n",
    "\n",
    "<p style='text-align: left;'><span style=\"color: #000508; font-family: Segoe UI; font-size: 1.1em;\"> 🏷️ Dataset with EffNetV2 TfHub Weights used in this notebook:</span></p>\n",
    "\n",
    "\n",
    ">  [EfficientNetV2 TFHub Weight Files](https://www.kaggle.com/sreevishnudamodaran/efficientnetv2-tfhub-weight-files?select=tfhub_models)<br>\n",
    "  Official EfficientNetV2 Saved Model Files from tfhub.dev\n",
    "\n",
    "<br>\n",
    "\n",
    "<p style='text-align: left;'><span style=\"color: #000508; font-family: Segoe UI; font-size: 1.1em;\"> 🏷️ Inference notebook for EffNetV2_L and Cascade RCNN:</span></p>\n",
    "\n",
    ">[SIIM EffNetV2_L CascadeRCNN MMDetection Infer](https://www.kaggle.com/sreevishnudamodaran/siim-effnetv2-l-cascadercnn-mmdetection-infer)\n",
    "<br>\n",
    "\n",
    "<span style=\"color: #000508; font-family: Segoe UI; font-size: 1.6em;\">References:</span>\n",
    "\n",
    "- https://www.kaggle.com/xhlulu/ranzcr-efficientnet-tpu-training\n",
    "- https://www.kaggle.com/h053473666/siim-covid19-efnb7-train-study\n",
    "- https://www.kaggle.com/cdeotte/rotation-augmentation-gpu-tpu-0-96\n",
    "- https://github.com/google/automl/blob/master/efficientnetv2\n",
    "\n",
    "<br>\n",
    "<span style=\"color: #000508; font-family: Segoe UI; font-size: 1.3em;\">Related Notebooks:</span>\n",
    "\n",
    "EfficientNetV2 with Fastai:\n",
    "[SIIM Covid19 Fastai+EfficientNetV2+TIMM Models💠🏮](https://www.kaggle.com/sreevishnudamodaran/siim-covid19-fastai-efficientnetv2-timm-models)\n",
    "\n",
    "<br>\n",
    "<a href=\"https://www.kaggle.com/sreevishnudamodaran\"><center><img border=\"0\" alt=\"Ask Me Something\" src=\"https://img.shields.io/badge/Ask%20me-something-1abc9c.svg?style=flat-square&logo=kaggle\" width=\"130\" height=\"10\"></center></a>\n",
    "<br>\n",
    "<center><img border=\"0\" alt=\"Ask Me Something\" src=\"https://img.shields.io/badge/Please-Upvote%20If%20you%20like%20this-07b3c8?style=for-the-badge&logo=kaggle\" width=\"260\" height=\"20\"></center>"
   ]
  },
  {
   "cell_type": "code",
   "execution_count": 1,
   "metadata": {
    "execution": {
     "iopub.execute_input": "2021-07-29T18:25:31.509960Z",
     "iopub.status.busy": "2021-07-29T18:25:31.509285Z",
     "iopub.status.idle": "2021-07-29T18:25:38.102148Z",
     "shell.execute_reply": "2021-07-29T18:25:38.101472Z",
     "shell.execute_reply.started": "2021-07-29T17:06:13.979241Z"
    },
    "papermill": {
     "duration": 6.621572,
     "end_time": "2021-07-29T18:25:38.102320",
     "exception": false,
     "start_time": "2021-07-29T18:25:31.480748",
     "status": "completed"
    },
    "tags": []
   },
   "outputs": [
    {
     "name": "stdout",
     "output_type": "stream",
     "text": [
      "TF version: 2.4.1\n",
      "Hub version: 0.12.0\n",
      "Physical devices: [PhysicalDevice(name='/physical_device:CPU:0', device_type='CPU')]\n"
     ]
    }
   ],
   "source": [
    "import itertools\n",
    "import os\n",
    "import random\n",
    "import gc\n",
    "import numpy as np\n",
    "import pandas as pd\n",
    "import math\n",
    "import pprint\n",
    "import matplotlib.pylab as plt\n",
    "import seaborn as sns\n",
    "sns.set(rc={\"axes.titlesize\":15, \"axes.labelsize\":9,\"axes.titlepad\":15,\n",
    "            \"axes.labelpad\":12, \"legend.fontsize\":9,\n",
    "            \"legend.title_fontsize\":9, \"figure.titlesize\":15,\n",
    "            \"axes.grid\":False})\n",
    "\n",
    "from sklearn.model_selection import train_test_split, GroupKFold\n",
    "import tensorflow as tf\n",
    "import tensorflow_hub as tfhub\n",
    "import tensorflow.keras.backend as K\n",
    "from kaggle_datasets import KaggleDatasets\n",
    "\n",
    "print('TF version:', tf.__version__)\n",
    "print('Hub version:', tfhub.__version__)\n",
    "print('Physical devices:', tf.config.list_physical_devices())"
   ]
  },
  {
   "cell_type": "markdown",
   "metadata": {
    "papermill": {
     "duration": 0.013244,
     "end_time": "2021-07-29T18:25:38.129593",
     "exception": false,
     "start_time": "2021-07-29T18:25:38.116349",
     "status": "completed"
    },
    "tags": []
   },
   "source": [
    "<span style=\"color: #027fc1; font-family: Segoe UI; font-size: 1.9em; font-weight: 300;\">Data Loaders & Augmentations on TPU</span>\n",
    "\n",
    "Thanks to [@cdeotte](https://www.kaggle.com/cdeotte) & [@xhlulu](https://www.kaggle.com/xhlulu)"
   ]
  },
  {
   "cell_type": "code",
   "execution_count": 2,
   "metadata": {
    "execution": {
     "iopub.execute_input": "2021-07-29T18:25:38.177663Z",
     "iopub.status.busy": "2021-07-29T18:25:38.176980Z",
     "iopub.status.idle": "2021-07-29T18:25:38.179571Z",
     "shell.execute_reply": "2021-07-29T18:25:38.180045Z",
     "shell.execute_reply.started": "2021-07-29T17:06:22.237623Z"
    },
    "papermill": {
     "duration": 0.036887,
     "end_time": "2021-07-29T18:25:38.180219",
     "exception": false,
     "start_time": "2021-07-29T18:25:38.143332",
     "status": "completed"
    },
    "tags": []
   },
   "outputs": [],
   "source": [
    "SATURATION  = (0.9, 1.1)\n",
    "CONTRAST = (0.9, 1.1)\n",
    "BRIGHTNESS  =  0.1\n",
    "ROTATION    = 10.0\n",
    "SHEAR    = 2.0\n",
    "HZOOM  = 8.0\n",
    "WZOOM  = 4.0\n",
    "HSHIFT = 4.0\n",
    "WSHIFT = 4.0\n",
    "\n",
    "def get_mat(rotation, shear, height_zoom, width_zoom, height_shift, width_shift):\n",
    "    # returns 3x3 transformmatrix which transforms indicies\n",
    "        \n",
    "    # CONVERT DEGREES TO RADIANS\n",
    "    rotation = math.pi * rotation / 180.\n",
    "    shear    = math.pi * shear    / 180.\n",
    "\n",
    "    def get_3x3_mat(lst):\n",
    "        return tf.reshape(tf.concat([lst],axis=0), [3,3])\n",
    "    \n",
    "    # ROTATION MATRIX\n",
    "    c1   = tf.math.cos(rotation)\n",
    "    s1   = tf.math.sin(rotation)\n",
    "    one  = tf.constant([1],dtype='float32')\n",
    "    zero = tf.constant([0],dtype='float32')\n",
    "    \n",
    "    rotation_matrix = get_3x3_mat([c1,   s1,   zero, \n",
    "                                   -s1,  c1,   zero, \n",
    "                                   zero, zero, one])    \n",
    "    # SHEAR MATRIX\n",
    "    c2 = tf.math.cos(shear)\n",
    "    s2 = tf.math.sin(shear)    \n",
    "    \n",
    "    shear_matrix = get_3x3_mat([one,  s2,   zero, \n",
    "                                zero, c2,   zero, \n",
    "                                zero, zero, one])        \n",
    "    # ZOOM MATRIX\n",
    "    zoom_matrix = get_3x3_mat([one/height_zoom, zero,           zero, \n",
    "                               zero,            one/width_zoom, zero, \n",
    "                               zero,            zero,           one])    \n",
    "    # SHIFT MATRIX\n",
    "    shift_matrix = get_3x3_mat([one,  zero, height_shift, \n",
    "                                zero, one,  width_shift, \n",
    "                                zero, zero, one])\n",
    "    \n",
    "    return K.dot(K.dot(rotation_matrix, shear_matrix), \n",
    "                 K.dot(zoom_matrix,     shift_matrix))\n",
    "\n",
    "\n",
    "def transform(image, label):\n",
    "    # input image - is one image of size [dim,dim,3] not a batch of [b,dim,dim,3]\n",
    "    # output - image randomly rotated, sheared, zoomed, and shifted\n",
    "    DIM = cfg.input_dims[0]\n",
    "    XDIM = DIM%2\n",
    "    \n",
    "    rot = ROTATION * tf.random.normal([1], dtype='float32')\n",
    "    shr = SHEAR * tf.random.normal([1], dtype='float32')\n",
    "    h_zoom = 1.0 + tf.random.normal([1], dtype='float32') / HZOOM\n",
    "    w_zoom = 1.0 + tf.random.normal([1], dtype='float32') / WZOOM\n",
    "    h_shift = HSHIFT * tf.random.normal([1], dtype='float32')\n",
    "    w_shift = WSHIFT * tf.random.normal([1], dtype='float32')\n",
    "  \n",
    "    # GET TRANSFORMATION MATRIX\n",
    "    m = get_mat(rot, shr, h_zoom, w_zoom, h_shift, w_shift) \n",
    "\n",
    "    # LIST DESTINATION PIXEL INDICES\n",
    "    x = tf.repeat( tf.range(DIM//2,-DIM//2,-1), DIM )\n",
    "    y = tf.tile( tf.range(-DIM//2,DIM//2),[DIM] )\n",
    "    z = tf.ones([DIM*DIM],dtype='int32')\n",
    "    idx = tf.stack( [x,y,z] )\n",
    "    \n",
    "    # ROTATE DESTINATION PIXELS ONTO ORIGIN PIXELS\n",
    "    idx2 = K.dot(m,tf.cast(idx,dtype='float32'))\n",
    "    idx2 = K.cast(idx2,dtype='int32')\n",
    "    idx2 = K.clip(idx2,-DIM//2+XDIM+1,DIM//2)\n",
    "    \n",
    "    # FIND ORIGIN PIXEL VALUES           \n",
    "    idx3 = tf.stack( [DIM//2-idx2[0,], DIM//2-1+idx2[1,]] )\n",
    "    d = tf.gather_nd(image,tf.transpose(idx3))\n",
    "        \n",
    "    return tf.reshape(d,[DIM,DIM,3]), label"
   ]
  },
  {
   "cell_type": "code",
   "execution_count": 3,
   "metadata": {
    "execution": {
     "iopub.execute_input": "2021-07-29T18:25:38.226241Z",
     "iopub.status.busy": "2021-07-29T18:25:38.225510Z",
     "iopub.status.idle": "2021-07-29T18:25:38.230093Z",
     "shell.execute_reply": "2021-07-29T18:25:38.229405Z",
     "shell.execute_reply.started": "2021-07-29T17:06:22.259438Z"
    },
    "papermill": {
     "duration": 0.036526,
     "end_time": "2021-07-29T18:25:38.230247",
     "exception": false,
     "start_time": "2021-07-29T18:25:38.193721",
     "status": "completed"
    },
    "tags": []
   },
   "outputs": [],
   "source": [
    "def auto_select_accelerator():\n",
    "    try:\n",
    "        tpu = tf.distribute.cluster_resolver.TPUClusterResolver()\n",
    "        tf.config.experimental_connect_to_cluster(tpu)\n",
    "        tf.tpu.experimental.initialize_tpu_system(tpu)\n",
    "        strategy = tf.distribute.experimental.TPUStrategy(tpu)\n",
    "        print(\"Running on TPU:\", tpu.master())\n",
    "    except ValueError:\n",
    "        strategy = tf.distribute.get_strategy()\n",
    "    print(f\"Running on {strategy.num_replicas_in_sync} replicas\")\n",
    "    \n",
    "    return strategy\n",
    "\n",
    "\n",
    "def build_decoder(with_labels=True, target_size=(256, 256), ext='jpg'):\n",
    "    def decode(path):\n",
    "        file_bytes = tf.io.read_file(path)\n",
    "\n",
    "        if ext == 'png':\n",
    "            img = tf.image.decode_png(file_bytes, channels=3)\n",
    "        elif ext in ['jpg', 'jpeg']:\n",
    "            img = tf.image.decode_jpeg(file_bytes, channels=3)\n",
    "        else:\n",
    "            raise ValueError(\"Image extension not supported\")\n",
    "        img = tf.cast(img, tf.float32) / 255.0\n",
    "        img = tf.image.resize(img, target_size)\n",
    "\n",
    "        return img\n",
    "    \n",
    "    def decode_with_labels(path, label):\n",
    "        return decode(path), label\n",
    "    \n",
    "    return decode_with_labels if with_labels else decode\n",
    "\n",
    "\n",
    "def build_augmenter(with_labels=True):\n",
    "    def augment(img):\n",
    "        img = tf.image.random_flip_left_right(img)\n",
    "#         img = tf.image.random_flip_up_down(img)\n",
    "        img = tf.image.random_saturation(img, SATURATION[0], SATURATION[1])\n",
    "        img = tf.image.random_contrast(img, CONTRAST[0], CONTRAST[1])\n",
    "        img = tf.image.random_brightness(img, BRIGHTNESS)\n",
    "        return img\n",
    "    \n",
    "    def augment_with_labels(img, label):\n",
    "        return augment(img), label\n",
    "    \n",
    "    return augment_with_labels if with_labels else augment\n",
    "\n",
    "\n",
    "def build_dataset(paths, labels=None, bsize=128, cache=True,\n",
    "                  decode_fn=None, augment_fn=None,\n",
    "                  augment=True, repeat=True, shuffle=1024,\n",
    "                  seed=None, cache_dir=\"\"):\n",
    "    if cache_dir != \"\" and cache is True:\n",
    "        os.makedirs(cache_dir, exist_ok=True)\n",
    "    \n",
    "    if decode_fn is None:\n",
    "        decode_fn = build_decoder(labels is not None)\n",
    "    \n",
    "    if augment_fn is None:\n",
    "        augment_fn = build_augmenter(labels is not None)\n",
    "    \n",
    "    AUTO = tf.data.experimental.AUTOTUNE\n",
    "    slices = paths if labels is None else (paths, labels)\n",
    "    \n",
    "    dset = tf.data.Dataset.from_tensor_slices(slices)\n",
    "    dset = dset.map(decode_fn, num_parallel_calls=AUTO)\n",
    "    dset = dset.cache(cache_dir) if cache else dset\n",
    "    \n",
    "    # Map the functions to perform Augmentations\n",
    "    dset = dset.map(augment_fn, num_parallel_calls=AUTO) if augment else dset\n",
    "    dset = dset.map(transform, num_parallel_calls=AUTO) if augment else dset\n",
    "    dset = dset.repeat() if repeat else dset\n",
    "    dset = dset.shuffle(shuffle, seed=seed) if shuffle else dset\n",
    "    dset = dset.batch(bsize).prefetch(AUTO)\n",
    "    \n",
    "    return dset"
   ]
  },
  {
   "cell_type": "markdown",
   "metadata": {
    "papermill": {
     "duration": 0.013124,
     "end_time": "2021-07-29T18:25:38.257026",
     "exception": false,
     "start_time": "2021-07-29T18:25:38.243902",
     "status": "completed"
    },
    "tags": []
   },
   "source": [
    "<span style=\"color: #027fc1; font-family: Segoe UI; font-size: 1.9em; font-weight: 300;\">📥 EffNetV2 Architecture Selection</span>\n",
    "\n",
    "<br>\n",
    "<style type=\"text/css\">\n",
    ".tg  {border-collapse:collapse;border-spacing:0;}\n",
    ".tg td{border-color:black;border-style:solid;border-width:1px;font-family:Segoe UI, sans-serif;font-size:160px;\n",
    "  overflow:hidden;padding:20px 15px;word-break:normal;}\n",
    ".tg th{border-color:black;border-style:solid;border-width:1px;font-family:Segoe UI, sans-serif;font-size:160px;\n",
    "  font-weight:normal;overflow:hidden;padding:20px 15px;word-break:normal;}\n",
    ".tg .tg-0pky{border-color:inherit;text-align:centre;vertical-align:top}\n",
    "</style>\n",
    "<table class=\"tg\">\n",
    "<thead>\n",
    "  <tr>\n",
    "    <th class=\"tg-0pky\" style=\"font-size:16px;padding:5px 10px;text-align:center;font-family:Segoe UI;width:400px\">Model Architecture</th>\n",
    "  </tr>\n",
    "</thead>\n",
    "<tbody>\n",
    "  <tr>\n",
    "    <td class=\"tg-0pky\" style=\"font-size:14px;padding:5px 10px;text-align:center;font-family:Segoe UI;\">efficientnetv2-b0</td>\n",
    "  </tr>\n",
    "  <tr>\n",
    "    <td class=\"tg-0pky\" style=\"font-size:14px;padding:5px 10px;text-align:center;font-family:Segoe UI;\">efficientnetv2-b1</td>\n",
    "  </tr>\n",
    "  <tr>\n",
    "    <td class=\"tg-0pky\" style=\"font-size:14px;padding:5px 10px;text-align:center;font-family:Segoe UI;\">efficientnetv2-b2</td>\n",
    "  </tr>\n",
    "  <tr>\n",
    "    <td class=\"tg-0pky\" style=\"font-size:14px;padding:5px 10px;text-align:center;font-family:Segoe UI;\">efficientnetv2-b3</td>\n",
    "  </tr>\n",
    "  <tr>\n",
    "    <td class=\"tg-0pky\" style=\"font-size:14px;padding:5px 10px;text-align:center;font-family:Segoe UI;\">efficientnetv2-s</td>\n",
    "  </tr>\n",
    "  <tr>\n",
    "    <td class=\"tg-0pky\" style=\"font-size:14px;padding:5px 10px;text-align:center;font-family:Segoe UI;\">efficientnetv2-m</td>\n",
    "  </tr>\n",
    "  <tr>\n",
    "    <td class=\"tg-0pky\" style=\"font-size:14px;padding:5px 10px;text-align:center;font-family:Segoe UI;\">efficientnetv2-l</td>\n",
    "  </tr>\n",
    "  <tr>\n",
    "    <td class=\"tg-0pky\" style=\"font-size:14px;padding:5px 10px;text-align:center;font-family:Segoe UI;\">efficientnetv2-s-21k</td>\n",
    "  </tr>\n",
    "  <tr>\n",
    "    <td class=\"tg-0pky\" style=\"font-size:14px;padding:5px 10px;text-align:center;font-family:Segoe UI;\">efficientnetv2-m-21k</td>\n",
    "  </tr>\n",
    "  <tr>\n",
    "    <td class=\"tg-0pky\" style=\"font-size:14px;padding:5px 10px;text-align:center;font-family:Segoe UI;\">efficientnetv2-l-21k</td>\n",
    "  </tr>\n",
    "  <tr>\n",
    "    <td class=\"tg-0pky\" style=\"font-size:14px;padding:5px 10px;text-align:center;font-family:Segoe UI;\">efficientnetv2-s-21k-ft1k</td>\n",
    "  </tr>\n",
    "  <tr>\n",
    "    <td class=\"tg-0pky\" style=\"font-size:14px;padding:5px 10px;text-align:center;font-family:Segoe UI;\">efficientnetv2-m-21k-ft1k</td>\n",
    "  </tr>\n",
    "  <tr>\n",
    "    <td class=\"tg-0pky\" style=\"font-size:14px;padding:5px 10px;text-align:center;font-family:Segoe UI;\">efficientnetv2-l-21k-ft1k</td>\n",
    "  </tr>\n",
    "</tbody>\n",
    "</table>\n",
    "\n",
    "<br>\n",
    "\n",
    "<span style=\"font-family: Segoe UI; font-size: 1.2em;\">📌 The model architectures with <b>no suffixes</b> are pretrained on ImageNet1K. The ones with the <b>'21k'</b> as the suffix are pretrained on ImageNet21K and the ones with <b>'21k-ft1k'</b> as the suffix are pretrained on ImageNet21K and then finetuned on ImageNet1K.</span>\n",
    "\n",
    "<br>\n",
    "\n",
    " **ImageNet1K pretrained and finetuned models:**\n",
    "\n",
    "|      ImageNet1K   |     Top1 Acc.  |    Params   |  FLOPs   | Inference Latency | links  |\n",
    "|    ----------     |      ------    |    ------   | ------  | ------   |   ------   |\n",
    "|    EffNetV2-S     |    83.9%   |    21.5M    |  8.4B    | [V100/A100](g3doc/effnetv2-s-gpu.png) |  [ckpt](https://storage.googleapis.com/cloud-tpu-checkpoints/efficientnet/v2/efficientnetv2-s.tgz),  [tensorboard](https://tensorboard.dev/experiment/wozwYcXkRPia76RopgCLlg)\n",
    "|    EffNetV2-M     |    85.2%   |    54.1M    | 24.7B    | [V100/A100](g3doc/effnetv2-m-gpu.png) |  [ckpt](https://storage.googleapis.com/cloud-tpu-checkpoints/efficientnet/v2/efficientnetv2-m.tgz),  [tensorboard](https://tensorboard.dev/experiment/syoaqB2gTP6Vr0KRlrezmg)\n",
    "|    EffNetV2-L     |    85.7%   |   119.5M    | 56.3B    | [V100/A100](g3doc/effnetv2-l-gpu.png) |  [ckpt](https://storage.googleapis.com/cloud-tpu-checkpoints/efficientnet/v2/efficientnetv2-l.tgz),  [tensorboard](https://tensorboard.dev/experiment/qgnTQ5JZQ92nSex6ZlWBbQ)\n",
    "\n",
    "<br>\n",
    "\n",
    "**Models Pretrained on ImageNet21K pretrained and finetuned with ImageNet1K:**\n",
    "\n",
    "\n",
    "|  ImageNet21K  |  Pretrained models |  Finetuned ImageNet1K |\n",
    "|  ----------   |  ------            |         ------       |\n",
    "|  EffNetV2-S   |  [pretrain ckpt](https://storage.googleapis.com/cloud-tpu-checkpoints/efficientnet/v2/efficientnetv2-s-21k.tgz)  |  top1=84.9%,  [ckpt](https://storage.googleapis.com/cloud-tpu-checkpoints/efficientnet/v2/efficientnetv2-s-21k-ft1k.tgz),  [tensorboard](https://tensorboard.dev/experiment/7sga2olqTBeH4ioydel0hg/) |\n",
    "|  EffNetV2-M   |  [pretrain ckpt](https://storage.googleapis.com/cloud-tpu-checkpoints/efficientnet/v2/efficientnetv2-m-21k.tgz)  |  top1=86.2%,  [ckpt](https://storage.googleapis.com/cloud-tpu-checkpoints/efficientnet/v2/efficientnetv2-m-21k-ft1k.tgz),  [tensorboard](https://tensorboard.dev/experiment/HkV6ANZSQ6WI5GhlZa48xQ/) |\n",
    "|  EffNetV2-L   |  [pretrain ckpt](https://storage.googleapis.com/cloud-tpu-checkpoints/efficientnet/v2/efficientnetv2-l-21k.tgz)  |  top1=86.9%,  [ckpt](https://storage.googleapis.com/cloud-tpu-checkpoints/efficientnet/v2/efficientnetv2-l-21k-ft1k.tgz),  [tensorboard](https://tensorboard.dev/experiment/m9ZHx1L6SQu5iBYhXO5jOw/) |"
   ]
  },
  {
   "cell_type": "markdown",
   "metadata": {
    "papermill": {
     "duration": 0.013106,
     "end_time": "2021-07-29T18:25:38.283931",
     "exception": false,
     "start_time": "2021-07-29T18:25:38.270825",
     "status": "completed"
    },
    "tags": []
   },
   "source": [
    "<span style=\"color: #027fc1; font-family: Segoe UI; font-size: 1.9em; font-weight: 300;\">Global Config & Seeding</span>"
   ]
  },
  {
   "cell_type": "code",
   "execution_count": 4,
   "metadata": {
    "execution": {
     "iopub.execute_input": "2021-07-29T18:25:38.317229Z",
     "iopub.status.busy": "2021-07-29T18:25:38.316214Z",
     "iopub.status.idle": "2021-07-29T18:25:38.319186Z",
     "shell.execute_reply": "2021-07-29T18:25:38.318654Z",
     "shell.execute_reply.started": "2021-07-29T17:06:22.283338Z"
    },
    "papermill": {
     "duration": 0.021686,
     "end_time": "2021-07-29T18:25:38.319328",
     "exception": false,
     "start_time": "2021-07-29T18:25:38.297642",
     "status": "completed"
    },
    "tags": []
   },
   "outputs": [],
   "source": [
    "def seed_everything(SEED):\n",
    "    os.environ['PYTHONHASHSEED']=str(SEED)\n",
    "    random.seed(SEED)\n",
    "    np.random.seed(SEED)\n",
    "    tf.random.set_seed(SEED)\n",
    "    os.environ['TF_CUDNN_DETERMINISTIC'] = str(SEED)"
   ]
  },
  {
   "cell_type": "code",
   "execution_count": 5,
   "metadata": {
    "execution": {
     "iopub.execute_input": "2021-07-29T18:25:38.353156Z",
     "iopub.status.busy": "2021-07-29T18:25:38.352467Z",
     "iopub.status.idle": "2021-07-29T18:25:38.354533Z",
     "shell.execute_reply": "2021-07-29T18:25:38.355009Z",
     "shell.execute_reply.started": "2021-07-29T17:06:22.307087Z"
    },
    "papermill": {
     "duration": 0.022108,
     "end_time": "2021-07-29T18:25:38.355196",
     "exception": false,
     "start_time": "2021-07-29T18:25:38.333088",
     "status": "completed"
    },
    "tags": []
   },
   "outputs": [],
   "source": [
    "class Config:\n",
    "    seed = 333\n",
    "    job = 1\n",
    "    num_classes = 4\n",
    "    input_dims = (768, 768)\n",
    "    model_arch = \"efficientnetv2-l-21k-ft1k\" ## Choose model architecture\n",
    "    batch_size = 8*16\n",
    "    kfold = 7 # original: 5\n",
    "    n_epochs = 25 # original: 15\n",
    "    lr = 0.001\n",
    "    loss_func = 'categorical_crossentropy'\n",
    "    # Whether to finetune the whole model or just the top layer.\n",
    "    fine_tune = True\n",
    "    wandb_project = 'SIIM_classifier_public'\n",
    "    dataset = \"siim-covid19-images-metadata-256-512-768\"\n",
    "    \n",
    "    seed_everything(seed)\n",
    "    \n",
    "cfg = Config()"
   ]
  },
  {
   "cell_type": "markdown",
   "metadata": {
    "papermill": {
     "duration": 0.013617,
     "end_time": "2021-07-29T18:25:38.382845",
     "exception": false,
     "start_time": "2021-07-29T18:25:38.369228",
     "status": "completed"
    },
    "tags": []
   },
   "source": [
    "<span style=\"color: #027fc1; font-family: Segoe UI; font-size: 1.9em; font-weight: 300;\">KFold Split</span>"
   ]
  },
  {
   "cell_type": "code",
   "execution_count": 6,
   "metadata": {
    "execution": {
     "iopub.execute_input": "2021-07-29T18:25:38.418400Z",
     "iopub.status.busy": "2021-07-29T18:25:38.417707Z",
     "iopub.status.idle": "2021-07-29T18:25:38.788093Z",
     "shell.execute_reply": "2021-07-29T18:25:38.788856Z",
     "shell.execute_reply.started": "2021-07-29T17:06:22.323252Z"
    },
    "papermill": {
     "duration": 0.392317,
     "end_time": "2021-07-29T18:25:38.789046",
     "exception": false,
     "start_time": "2021-07-29T18:25:38.396729",
     "status": "completed"
    },
    "tags": []
   },
   "outputs": [
    {
     "data": {
      "text/html": [
       "<div>\n",
       "<style scoped>\n",
       "    .dataframe tbody tr th:only-of-type {\n",
       "        vertical-align: middle;\n",
       "    }\n",
       "\n",
       "    .dataframe tbody tr th {\n",
       "        vertical-align: top;\n",
       "    }\n",
       "\n",
       "    .dataframe thead th {\n",
       "        text-align: right;\n",
       "    }\n",
       "</style>\n",
       "<table border=\"1\" class=\"dataframe\">\n",
       "  <thead>\n",
       "    <tr style=\"text-align: right;\">\n",
       "      <th></th>\n",
       "      <th>id</th>\n",
       "      <th>folder_id</th>\n",
       "      <th>study_id</th>\n",
       "      <th>width</th>\n",
       "      <th>height</th>\n",
       "      <th>Negative for Pneumonia</th>\n",
       "      <th>Typical Appearance</th>\n",
       "      <th>Indeterminate Appearance</th>\n",
       "      <th>Atypical Appearance</th>\n",
       "      <th>fold</th>\n",
       "    </tr>\n",
       "  </thead>\n",
       "  <tbody>\n",
       "    <tr>\n",
       "      <th>4348</th>\n",
       "      <td>34b56732e1b2_image</td>\n",
       "      <td>cc0d7eb2ea8c</td>\n",
       "      <td>36d6d8418099_study</td>\n",
       "      <td>2220</td>\n",
       "      <td>2277</td>\n",
       "      <td>1</td>\n",
       "      <td>0</td>\n",
       "      <td>0</td>\n",
       "      <td>0</td>\n",
       "      <td>4</td>\n",
       "    </tr>\n",
       "    <tr>\n",
       "      <th>5505</th>\n",
       "      <td>364e2b97c131_image</td>\n",
       "      <td>8896c9291fc9</td>\n",
       "      <td>d0906bce2ac6_study</td>\n",
       "      <td>3000</td>\n",
       "      <td>2228</td>\n",
       "      <td>0</td>\n",
       "      <td>1</td>\n",
       "      <td>0</td>\n",
       "      <td>0</td>\n",
       "      <td>3</td>\n",
       "    </tr>\n",
       "    <tr>\n",
       "      <th>2076</th>\n",
       "      <td>70248cd9577f_image</td>\n",
       "      <td>6edba3a25a28</td>\n",
       "      <td>accb3f0a6276_study</td>\n",
       "      <td>2832</td>\n",
       "      <td>2320</td>\n",
       "      <td>0</td>\n",
       "      <td>0</td>\n",
       "      <td>1</td>\n",
       "      <td>0</td>\n",
       "      <td>2</td>\n",
       "    </tr>\n",
       "  </tbody>\n",
       "</table>\n",
       "</div>"
      ],
      "text/plain": [
       "                      id     folder_id            study_id  width  height  \\\n",
       "4348  34b56732e1b2_image  cc0d7eb2ea8c  36d6d8418099_study   2220    2277   \n",
       "5505  364e2b97c131_image  8896c9291fc9  d0906bce2ac6_study   3000    2228   \n",
       "2076  70248cd9577f_image  6edba3a25a28  accb3f0a6276_study   2832    2320   \n",
       "\n",
       "      Negative for Pneumonia  Typical Appearance  Indeterminate Appearance  \\\n",
       "4348                       1                   0                         0   \n",
       "5505                       0                   1                         0   \n",
       "2076                       0                   0                         1   \n",
       "\n",
       "      Atypical Appearance  fold  \n",
       "4348                    0     4  \n",
       "5505                    0     3  \n",
       "2076                    0     2  "
      ]
     },
     "execution_count": 6,
     "metadata": {},
     "output_type": "execute_result"
    }
   ],
   "source": [
    "# df = pd.read_csv('../input/siim-covid19-detection/train_study_level.csv')\n",
    "# df = pd.read_csv('../input/siim-covid19-images-metadata-256-512-768/images_metadata_256_512_768/train_meta_768x768.csv')\n",
    "df = pd.read_csv('../input/siim-covid19-images-metadata-256-512-768/images_metadata_256_512_768/train_meta_768x768.csv')\n",
    "study_df = pd.read_csv('../input/siim-covid19-detection/train_study_level.csv')\n",
    "study_df = study_df.rename({'id':'study_id'}, axis=1)\n",
    "df['study_id'] = df['study_id']+ '_study'\n",
    "df = pd.merge(df, study_df, on = 'study_id', how = 'left')\n",
    "\n",
    "label_cols = ['Negative for Pneumonia','Typical Appearance',\n",
    "            'Indeterminate Appearance','Atypical Appearance']\n",
    "\n",
    "gkf  = GroupKFold(n_splits=cfg.kfold)\n",
    "df['fold'] = -1\n",
    "for fold, (train_idx, val_idx) in enumerate(gkf.split(df, groups=df.study_id.tolist())):\n",
    "    df.loc[val_idx, 'fold'] = fold\n",
    "    \n",
    "df.to_csv('study_train_df.csv')\n",
    "df.sample(3)"
   ]
  },
  {
   "cell_type": "markdown",
   "metadata": {
    "papermill": {
     "duration": 0.014143,
     "end_time": "2021-07-29T18:25:38.817738",
     "exception": false,
     "start_time": "2021-07-29T18:25:38.803595",
     "status": "completed"
    },
    "tags": []
   },
   "source": [
    "<span style=\"color: #027fc1; font-family: Segoe UI; font-size: 1.9em; font-weight: 300;\">🚀 Training</span>\n",
    "\n",
    "We first find the GCS path of the selected EffNetV2 architecture from the EffNetV2 weights Kaggle dataset."
   ]
  },
  {
   "cell_type": "code",
   "execution_count": 7,
   "metadata": {
    "execution": {
     "iopub.execute_input": "2021-07-29T18:25:38.849496Z",
     "iopub.status.busy": "2021-07-29T18:25:38.848543Z",
     "iopub.status.idle": "2021-07-29T18:25:39.278396Z",
     "shell.execute_reply": "2021-07-29T18:25:39.277898Z",
     "shell.execute_reply.started": "2021-07-29T17:06:22.538479Z"
    },
    "papermill": {
     "duration": 0.446638,
     "end_time": "2021-07-29T18:25:39.278537",
     "exception": false,
     "start_time": "2021-07-29T18:25:38.831899",
     "status": "completed"
    },
    "tags": []
   },
   "outputs": [
    {
     "data": {
      "text/plain": [
       "'gs://kds-40f526733933c01f1885087fe24fcb06ce3f5c601cd74b3d084cfe68/tfhub_models/efficientnetv2-l-21k-ft1k/feature_vector'"
      ]
     },
     "execution_count": 7,
     "metadata": {},
     "output_type": "execute_result"
    }
   ],
   "source": [
    "# Get the TensorFlow Hub model URL\n",
    "hub_type = 'feature_vector' # ['classification', 'feature_vector']\n",
    "# Get the GCS path of EfficientNet Models\n",
    "DS_GCS_PATH = KaggleDatasets().get_gcs_path(\"efficientnetv2-tfhub-weight-files\")\n",
    "MODEL_GCS_PATH = f'{DS_GCS_PATH}/tfhub_models/{cfg.model_arch}/{hub_type}'\n",
    "MODEL_GCS_PATH"
   ]
  },
  {
   "cell_type": "code",
   "execution_count": 8,
   "metadata": {
    "execution": {
     "iopub.execute_input": "2021-07-29T18:25:39.312572Z",
     "iopub.status.busy": "2021-07-29T18:25:39.311685Z",
     "iopub.status.idle": "2021-07-29T18:25:40.543189Z",
     "shell.execute_reply": "2021-07-29T18:25:40.543738Z",
     "shell.execute_reply.started": "2021-07-29T17:06:23.010905Z"
    },
    "papermill": {
     "duration": 1.250761,
     "end_time": "2021-07-29T18:25:40.544045",
     "exception": false,
     "start_time": "2021-07-29T18:25:39.293284",
     "status": "completed"
    },
    "tags": []
   },
   "outputs": [
    {
     "name": "stderr",
     "output_type": "stream",
     "text": [
      "\u001b[34m\u001b[1mwandb\u001b[0m: W&B API key is configured (use `wandb login --relogin` to force relogin)\n",
      "\u001b[34m\u001b[1mwandb\u001b[0m: \u001b[33mWARNING\u001b[0m If you're specifying your api key in code, ensure this code is not shared publically.\n",
      "\u001b[34m\u001b[1mwandb\u001b[0m: \u001b[33mWARNING\u001b[0m Consider setting the WANDB_API_KEY environment variable, or running `wandb login` from the command line.\n",
      "\u001b[34m\u001b[1mwandb\u001b[0m: Appending key for api.wandb.ai to your netrc file: /root/.netrc\n"
     ]
    },
    {
     "data": {
      "text/plain": [
       "True"
      ]
     },
     "execution_count": 8,
     "metadata": {},
     "output_type": "execute_result"
    }
   ],
   "source": [
    "import wandb\n",
    "from kaggle_secrets import UserSecretsClient\n",
    "\n",
    "user_secrets = UserSecretsClient()\n",
    "# wandb_api = user_secrets.get_secret(\"wandb_key\") \n",
    "wandb.login(key='41abfcaa617f2319fc7edb9e6ef9f2081e6f7934')"
   ]
  },
  {
   "cell_type": "code",
   "execution_count": 9,
   "metadata": {
    "execution": {
     "iopub.execute_input": "2021-07-29T18:25:40.613810Z",
     "iopub.status.busy": "2021-07-29T18:25:40.607062Z",
     "iopub.status.idle": "2021-07-30T00:01:31.468348Z",
     "shell.execute_reply": "2021-07-30T00:01:31.467716Z"
    },
    "papermill": {
     "duration": 20150.908496,
     "end_time": "2021-07-30T00:01:31.468490",
     "exception": false,
     "start_time": "2021-07-29T18:25:40.559994",
     "status": "completed"
    },
    "tags": []
   },
   "outputs": [
    {
     "name": "stdout",
     "output_type": "stream",
     "text": [
      "\n",
      "Fold: 0\n"
     ]
    },
    {
     "name": "stderr",
     "output_type": "stream",
     "text": [
      "\u001b[34m\u001b[1mwandb\u001b[0m: Currently logged in as: \u001b[33mhaenara-shin\u001b[0m (use `wandb login --relogin` to force relogin)\n"
     ]
    },
    {
     "name": "stdout",
     "output_type": "stream",
     "text": [
      "Running on TPU: grpc://10.0.0.2:8470\n",
      "Running on 8 replicas\n",
      "Train Job: efficientnetv2-l-21k-ft1k_fold0_job1 \n",
      "Config\n",
      "{'batch_size': 128,\n",
      " 'dataset': 'siim-covid19-images-metadata-256-512-768',\n",
      " 'fine_tune': 'True',\n",
      " 'fold': 0,\n",
      " 'input_dims': '(768, 768)',\n",
      " 'job': 1,\n",
      " 'job_name': 'efficientnetv2-l-21k-ft1k_fold0_job1',\n",
      " 'kfold': 7,\n",
      " 'loss_func': 'categorical_crossentropy',\n",
      " 'lr': '0.001',\n",
      " 'model_arch': 'efficientnetv2-l-21k-ft1k',\n",
      " 'n_epochs': 25,\n",
      " 'num_classes': 4,\n",
      " 'seed': 333,\n",
      " 'wandb_project': 'SIIM_classifier_public'}\n"
     ]
    },
    {
     "name": "stderr",
     "output_type": "stream",
     "text": [
      "\u001b[34m\u001b[1mwandb\u001b[0m: wandb version 0.11.0 is available!  To upgrade, please run:\n",
      "\u001b[34m\u001b[1mwandb\u001b[0m:  $ pip install wandb --upgrade\n"
     ]
    },
    {
     "data": {
      "text/html": [
       "\n",
       "                Tracking run with wandb version 0.10.33<br/>\n",
       "                Syncing run <strong style=\"color:#cdcd00\">efficientnetv2-l-21k-ft1k_fold0_job1</strong> to <a href=\"https://wandb.ai\" target=\"_blank\">Weights & Biases</a> <a href=\"https://docs.wandb.com/integrations/jupyter.html\" target=\"_blank\">(Documentation)</a>.<br/>\n",
       "                Project page: <a href=\"https://wandb.ai/haenara-shin/SIIM_classifier_public\" target=\"_blank\">https://wandb.ai/haenara-shin/SIIM_classifier_public</a><br/>\n",
       "                Run page: <a href=\"https://wandb.ai/haenara-shin/SIIM_classifier_public/runs/29qgqwkr\" target=\"_blank\">https://wandb.ai/haenara-shin/SIIM_classifier_public/runs/29qgqwkr</a><br/>\n",
       "                Run data is saved locally in <code>/kaggle/working/wandb/run-20210729_182546-29qgqwkr</code><br/><br/>\n",
       "            "
      ],
      "text/plain": [
       "<IPython.core.display.HTML object>"
      ]
     },
     "metadata": {},
     "output_type": "display_data"
    },
    {
     "name": "stdout",
     "output_type": "stream",
     "text": [
      "Epoch 1/25\n",
      "42/42 [==============================] - 494s 5s/step - loss: 1.3516 - accuracy: 0.4833 - auc: 0.6116 - val_loss: 1.0645 - val_accuracy: 0.6044 - val_auc: 0.7498\n",
      "Epoch 2/25\n",
      "42/42 [==============================] - 90s 2s/step - loss: 1.0252 - accuracy: 0.6073 - auc: 0.6982 - val_loss: 0.9760 - val_accuracy: 0.6177 - val_auc: 0.7969\n",
      "Epoch 3/25\n",
      "42/42 [==============================] - 91s 2s/step - loss: 0.9496 - accuracy: 0.6383 - auc: 0.7478 - val_loss: 0.9513 - val_accuracy: 0.6254 - val_auc: 0.7740\n",
      "Epoch 4/25\n",
      "42/42 [==============================] - 90s 2s/step - loss: 0.9388 - accuracy: 0.6481 - auc: 0.7491 - val_loss: 0.9643 - val_accuracy: 0.6188 - val_auc: 0.7671\n",
      "Epoch 5/25\n",
      "42/42 [==============================] - 88s 2s/step - loss: 0.9503 - accuracy: 0.6325 - auc: 0.7494 - val_loss: 0.9329 - val_accuracy: 0.6309 - val_auc: 0.8015\n",
      "Epoch 6/25\n",
      "42/42 [==============================] - 90s 2s/step - loss: 0.9244 - accuracy: 0.6361 - auc: 0.7668 - val_loss: 0.8854 - val_accuracy: 0.6409 - val_auc: 0.8123\n",
      "Epoch 7/25\n",
      "42/42 [==============================] - 90s 2s/step - loss: 0.8910 - accuracy: 0.6550 - auc: 0.7810 - val_loss: 0.9631 - val_accuracy: 0.6232 - val_auc: 0.7884\n",
      "Epoch 8/25\n",
      "42/42 [==============================] - 88s 2s/step - loss: 0.8840 - accuracy: 0.6548 - auc: 0.7784 - val_loss: 1.0128 - val_accuracy: 0.6022 - val_auc: 0.7967\n",
      "Epoch 9/25\n",
      "42/42 [==============================] - 88s 2s/step - loss: 0.9006 - accuracy: 0.6565 - auc: 0.7778 - val_loss: 0.9662 - val_accuracy: 0.6177 - val_auc: 0.7797\n",
      "Epoch 10/25\n",
      "42/42 [==============================] - 88s 2s/step - loss: 0.8650 - accuracy: 0.6589 - auc: 0.8027 - val_loss: 0.8960 - val_accuracy: 0.6442 - val_auc: 0.8146\n",
      "Epoch 11/25\n",
      "42/42 [==============================] - 89s 2s/step - loss: 0.8107 - accuracy: 0.6864 - auc: 0.8209 - val_loss: 0.9097 - val_accuracy: 0.6420 - val_auc: 0.8100\n",
      "Epoch 12/25\n",
      "42/42 [==============================] - 88s 2s/step - loss: 0.7885 - accuracy: 0.6903 - auc: 0.8343 - val_loss: 0.9114 - val_accuracy: 0.6453 - val_auc: 0.8109\n",
      "Epoch 13/25\n",
      "42/42 [==============================] - 88s 2s/step - loss: 0.7867 - accuracy: 0.6934 - auc: 0.8301 - val_loss: 0.9039 - val_accuracy: 0.6475 - val_auc: 0.8143\n",
      "Epoch 14/25\n",
      "42/42 [==============================] - 88s 2s/step - loss: 0.7749 - accuracy: 0.6946 - auc: 0.8445 - val_loss: 0.8959 - val_accuracy: 0.6508 - val_auc: 0.8160\n",
      "Epoch 15/25\n",
      "42/42 [==============================] - 89s 2s/step - loss: 0.7658 - accuracy: 0.7049 - auc: 0.8409 - val_loss: 0.9008 - val_accuracy: 0.6442 - val_auc: 0.8161\n",
      "Epoch 16/25\n",
      "42/42 [==============================] - 88s 2s/step - loss: 0.7663 - accuracy: 0.7043 - auc: 0.8391 - val_loss: 0.8952 - val_accuracy: 0.6376 - val_auc: 0.8164\n",
      "Epoch 17/25\n",
      "42/42 [==============================] - 87s 2s/step - loss: 0.7832 - accuracy: 0.6976 - auc: 0.8321 - val_loss: 0.9032 - val_accuracy: 0.6453 - val_auc: 0.8152\n",
      "Epoch 18/25\n",
      "42/42 [==============================] - 88s 2s/step - loss: 0.7714 - accuracy: 0.6973 - auc: 0.8437 - val_loss: 0.9051 - val_accuracy: 0.6442 - val_auc: 0.8144\n",
      "Epoch 19/25\n",
      "42/42 [==============================] - 88s 2s/step - loss: 0.7715 - accuracy: 0.6941 - auc: 0.8415 - val_loss: 0.8971 - val_accuracy: 0.6475 - val_auc: 0.8160\n",
      "Epoch 20/25\n",
      "42/42 [==============================] - 88s 2s/step - loss: 0.7704 - accuracy: 0.6957 - auc: 0.8458 - val_loss: 0.9016 - val_accuracy: 0.6453 - val_auc: 0.8170\n",
      "Epoch 21/25\n",
      "42/42 [==============================] - 88s 2s/step - loss: 0.7846 - accuracy: 0.6955 - auc: 0.8380 - val_loss: 0.9053 - val_accuracy: 0.6453 - val_auc: 0.8142\n",
      "Epoch 22/25\n",
      "42/42 [==============================] - 89s 2s/step - loss: 0.7839 - accuracy: 0.6923 - auc: 0.8432 - val_loss: 0.9064 - val_accuracy: 0.6354 - val_auc: 0.8148\n",
      "Epoch 23/25\n",
      "42/42 [==============================] - 90s 2s/step - loss: 0.7682 - accuracy: 0.7037 - auc: 0.8423 - val_loss: 0.9018 - val_accuracy: 0.6464 - val_auc: 0.8154\n",
      "Epoch 24/25\n",
      "42/42 [==============================] - 89s 2s/step - loss: 0.7821 - accuracy: 0.6889 - auc: 0.8411 - val_loss: 0.9019 - val_accuracy: 0.6464 - val_auc: 0.8159\n",
      "Epoch 25/25\n",
      "42/42 [==============================] - 89s 2s/step - loss: 0.7620 - accuracy: 0.7016 - auc: 0.8469 - val_loss: 0.9032 - val_accuracy: 0.6453 - val_auc: 0.8156\n",
      "oof_aucs {0: 0.8170433044433594}\n"
     ]
    },
    {
     "data": {
      "text/html": [
       "<br/>Waiting for W&B process to finish, PID 156<br/>Program ended successfully."
      ],
      "text/plain": [
       "<IPython.core.display.HTML object>"
      ]
     },
     "metadata": {},
     "output_type": "display_data"
    },
    {
     "data": {
      "application/vnd.jupyter.widget-view+json": {
       "model_id": "7ad0e46bd38344cea1c5356c878210b5",
       "version_major": 2,
       "version_minor": 0
      },
      "text/plain": [
       "VBox(children=(Label(value=' 168.02MB of 168.02MB uploaded (0.00MB deduped)\\r'), FloatProgress(value=1.0, max=…"
      ]
     },
     "metadata": {},
     "output_type": "display_data"
    },
    {
     "data": {
      "text/html": [
       "Find user logs for this run at: <code>/kaggle/working/wandb/run-20210729_182546-29qgqwkr/logs/debug.log</code>"
      ],
      "text/plain": [
       "<IPython.core.display.HTML object>"
      ]
     },
     "metadata": {},
     "output_type": "display_data"
    },
    {
     "data": {
      "text/html": [
       "Find internal logs for this run at: <code>/kaggle/working/wandb/run-20210729_182546-29qgqwkr/logs/debug-internal.log</code>"
      ],
      "text/plain": [
       "<IPython.core.display.HTML object>"
      ]
     },
     "metadata": {},
     "output_type": "display_data"
    },
    {
     "data": {
      "text/html": [
       "<h3>Run summary:</h3><br/><style>\n",
       "    table.wandb td:nth-child(1) { padding: 0 10px; text-align: right }\n",
       "    </style><table class=\"wandb\">\n",
       "<tr><td>epoch</td><td>24</td></tr><tr><td>loss</td><td>0.75749</td></tr><tr><td>accuracy</td><td>0.70778</td></tr><tr><td>auc</td><td>0.84512</td></tr><tr><td>val_loss</td><td>0.90321</td></tr><tr><td>val_accuracy</td><td>0.6453</td></tr><tr><td>val_auc</td><td>0.81565</td></tr><tr><td>_runtime</td><td>2829</td></tr><tr><td>_timestamp</td><td>1627585976</td></tr><tr><td>_step</td><td>24</td></tr><tr><td>best_val_loss</td><td>0.88542</td></tr><tr><td>best_epoch</td><td>5</td></tr></table>"
      ],
      "text/plain": [
       "<IPython.core.display.HTML object>"
      ]
     },
     "metadata": {},
     "output_type": "display_data"
    },
    {
     "data": {
      "text/html": [
       "<h3>Run history:</h3><br/><style>\n",
       "    table.wandb td:nth-child(1) { padding: 0 10px; text-align: right }\n",
       "    </style><table class=\"wandb\">\n",
       "<tr><td>epoch</td><td>▁▁▂▂▂▂▃▃▃▄▄▄▅▅▅▅▆▆▆▇▇▇▇██</td></tr><tr><td>loss</td><td>█▅▄▄▄▄▃▃▃▂▂▁▁▁▁▁▁▁▁▁▁▁▁▁▁</td></tr><tr><td>accuracy</td><td>▁▄▅▅▅▅▆▅▆▆▇▇█████████▇███</td></tr><tr><td>auc</td><td>▁▃▄▅▅▅▆▆▆▇▇██████████████</td></tr><tr><td>val_loss</td><td>█▅▄▄▃▁▄▆▄▁▂▂▂▁▂▁▂▂▁▂▂▂▂▂▂</td></tr><tr><td>val_accuracy</td><td>▁▃▄▃▅▇▄▁▃▇▇▇██▇▆▇▇█▇▇▆▇▇▇</td></tr><tr><td>val_auc</td><td>▁▆▄▃▆█▅▆▄█▇▇█████████████</td></tr><tr><td>_runtime</td><td>▁▁▂▂▂▃▃▃▄▄▄▄▅▅▅▆▆▆▆▇▇▇▇██</td></tr><tr><td>_timestamp</td><td>▁▁▂▂▂▃▃▃▄▄▄▄▅▅▅▆▆▆▆▇▇▇▇██</td></tr><tr><td>_step</td><td>▁▁▂▂▂▂▃▃▃▄▄▄▅▅▅▅▆▆▆▇▇▇▇██</td></tr></table><br/>"
      ],
      "text/plain": [
       "<IPython.core.display.HTML object>"
      ]
     },
     "metadata": {},
     "output_type": "display_data"
    },
    {
     "data": {
      "text/html": [
       "Synced 5 W&B file(s), 1 media file(s), 0 artifact file(s) and 1 other file(s)"
      ],
      "text/plain": [
       "<IPython.core.display.HTML object>"
      ]
     },
     "metadata": {},
     "output_type": "display_data"
    },
    {
     "data": {
      "text/html": [
       "\n",
       "                    <br/>Synced <strong style=\"color:#cdcd00\">efficientnetv2-l-21k-ft1k_fold0_job1</strong>: <a href=\"https://wandb.ai/haenara-shin/SIIM_classifier_public/runs/29qgqwkr\" target=\"_blank\">https://wandb.ai/haenara-shin/SIIM_classifier_public/runs/29qgqwkr</a><br/>\n",
       "                "
      ],
      "text/plain": [
       "<IPython.core.display.HTML object>"
      ]
     },
     "metadata": {},
     "output_type": "display_data"
    },
    {
     "name": "stdout",
     "output_type": "stream",
     "text": [
      "\n",
      "\n",
      "\n"
     ]
    },
    {
     "data": {
      "image/png": "[encoded data removed]",
      "text/plain": [
       "<Figure size 1080x360 with 2 Axes>"
      ]
     },
     "metadata": {},
     "output_type": "display_data"
    },
    {
     "name": "stdout",
     "output_type": "stream",
     "text": [
      "\n",
      "Fold: 1\n",
      "Running on TPU: grpc://10.0.0.2:8470\n",
      "Running on 8 replicas\n",
      "Train Job: efficientnetv2-l-21k-ft1k_fold1_job1 \n",
      "Config\n",
      "{'batch_size': 128,\n",
      " 'dataset': 'siim-covid19-images-metadata-256-512-768',\n",
      " 'fine_tune': 'True',\n",
      " 'fold': 1,\n",
      " 'input_dims': '(768, 768)',\n",
      " 'job': 1,\n",
      " 'job_name': 'efficientnetv2-l-21k-ft1k_fold1_job1',\n",
      " 'kfold': 7,\n",
      " 'loss_func': 'categorical_crossentropy',\n",
      " 'lr': '0.001',\n",
      " 'model_arch': 'efficientnetv2-l-21k-ft1k',\n",
      " 'n_epochs': 25,\n",
      " 'num_classes': 4,\n",
      " 'seed': 333,\n",
      " 'wandb_project': 'SIIM_classifier_public'}\n"
     ]
    },
    {
     "name": "stderr",
     "output_type": "stream",
     "text": [
      "\u001b[34m\u001b[1mwandb\u001b[0m: wandb version 0.11.0 is available!  To upgrade, please run:\n",
      "\u001b[34m\u001b[1mwandb\u001b[0m:  $ pip install wandb --upgrade\n"
     ]
    },
    {
     "data": {
      "text/html": [
       "\n",
       "                Tracking run with wandb version 0.10.33<br/>\n",
       "                Syncing run <strong style=\"color:#cdcd00\">efficientnetv2-l-21k-ft1k_fold1_job1</strong> to <a href=\"https://wandb.ai\" target=\"_blank\">Weights & Biases</a> <a href=\"https://docs.wandb.com/integrations/jupyter.html\" target=\"_blank\">(Documentation)</a>.<br/>\n",
       "                Project page: <a href=\"https://wandb.ai/haenara-shin/SIIM_classifier_public\" target=\"_blank\">https://wandb.ai/haenara-shin/SIIM_classifier_public</a><br/>\n",
       "                Run page: <a href=\"https://wandb.ai/haenara-shin/SIIM_classifier_public/runs/139hqwjb\" target=\"_blank\">https://wandb.ai/haenara-shin/SIIM_classifier_public/runs/139hqwjb</a><br/>\n",
       "                Run data is saved locally in <code>/kaggle/working/wandb/run-20210729_191337-139hqwjb</code><br/><br/>\n",
       "            "
      ],
      "text/plain": [
       "<IPython.core.display.HTML object>"
      ]
     },
     "metadata": {},
     "output_type": "display_data"
    },
    {
     "name": "stdout",
     "output_type": "stream",
     "text": [
      "Epoch 1/25\n",
      "42/42 [==============================] - 445s 4s/step - loss: 1.3070 - accuracy: 0.5061 - auc: 0.6113 - val_loss: 1.1242 - val_accuracy: 0.5878 - val_auc: 0.7195\n",
      "Epoch 2/25\n",
      "42/42 [==============================] - 90s 2s/step - loss: 0.9967 - accuracy: 0.6168 - auc: 0.7143 - val_loss: 0.9593 - val_accuracy: 0.6144 - val_auc: 0.7691\n",
      "Epoch 3/25\n",
      "42/42 [==============================] - 89s 2s/step - loss: 0.9556 - accuracy: 0.6354 - auc: 0.7380 - val_loss: 1.0961 - val_accuracy: 0.5768 - val_auc: 0.7575\n",
      "Epoch 4/25\n",
      "42/42 [==============================] - 89s 2s/step - loss: 0.9568 - accuracy: 0.6260 - auc: 0.7470 - val_loss: 1.0041 - val_accuracy: 0.6122 - val_auc: 0.7686\n",
      "Epoch 5/25\n",
      "42/42 [==============================] - 89s 2s/step - loss: 0.9663 - accuracy: 0.6313 - auc: 0.7459 - val_loss: 0.9650 - val_accuracy: 0.6011 - val_auc: 0.7760\n",
      "Epoch 6/25\n",
      "42/42 [==============================] - 88s 2s/step - loss: 0.8907 - accuracy: 0.6615 - auc: 0.7809 - val_loss: 0.9090 - val_accuracy: 0.6188 - val_auc: 0.7985\n",
      "Epoch 7/25\n",
      "42/42 [==============================] - 90s 2s/step - loss: 0.8681 - accuracy: 0.6636 - auc: 0.7989 - val_loss: 0.9110 - val_accuracy: 0.6354 - val_auc: 0.8001\n",
      "Epoch 8/25\n",
      "42/42 [==============================] - 89s 2s/step - loss: 0.8584 - accuracy: 0.6639 - auc: 0.7994 - val_loss: 0.9071 - val_accuracy: 0.6331 - val_auc: 0.8013\n",
      "Epoch 9/25\n",
      "42/42 [==============================] - 89s 2s/step - loss: 0.8260 - accuracy: 0.6762 - auc: 0.8143 - val_loss: 0.9066 - val_accuracy: 0.6343 - val_auc: 0.8037\n",
      "Epoch 10/25\n",
      "42/42 [==============================] - 93s 2s/step - loss: 0.8328 - accuracy: 0.6841 - auc: 0.8066 - val_loss: 0.9130 - val_accuracy: 0.6343 - val_auc: 0.8037\n",
      "Epoch 11/25\n",
      "42/42 [==============================] - 88s 2s/step - loss: 0.8071 - accuracy: 0.6892 - auc: 0.8216 - val_loss: 0.9220 - val_accuracy: 0.6254 - val_auc: 0.8047\n",
      "Epoch 12/25\n",
      "42/42 [==============================] - 89s 2s/step - loss: 0.8038 - accuracy: 0.6879 - auc: 0.8260 - val_loss: 0.9218 - val_accuracy: 0.6287 - val_auc: 0.8014\n",
      "Epoch 13/25\n",
      "42/42 [==============================] - 88s 2s/step - loss: 0.7714 - accuracy: 0.7018 - auc: 0.8406 - val_loss: 0.9276 - val_accuracy: 0.6265 - val_auc: 0.8027\n",
      "Epoch 14/25\n",
      "42/42 [==============================] - 89s 2s/step - loss: 0.7717 - accuracy: 0.6969 - auc: 0.8400 - val_loss: 0.9273 - val_accuracy: 0.6210 - val_auc: 0.8032\n",
      "Epoch 15/25\n",
      "42/42 [==============================] - 89s 2s/step - loss: 0.8032 - accuracy: 0.6932 - auc: 0.8276 - val_loss: 0.9180 - val_accuracy: 0.6276 - val_auc: 0.8051\n",
      "Epoch 16/25\n",
      "42/42 [==============================] - 89s 2s/step - loss: 0.7603 - accuracy: 0.7034 - auc: 0.8466 - val_loss: 0.9189 - val_accuracy: 0.6287 - val_auc: 0.8052\n",
      "Epoch 17/25\n",
      "42/42 [==============================] - 89s 2s/step - loss: 0.7553 - accuracy: 0.7038 - auc: 0.8484 - val_loss: 0.9198 - val_accuracy: 0.6254 - val_auc: 0.8055\n",
      "Epoch 18/25\n",
      "42/42 [==============================] - 88s 2s/step - loss: 0.7791 - accuracy: 0.6876 - auc: 0.8421 - val_loss: 0.9210 - val_accuracy: 0.6243 - val_auc: 0.8042\n",
      "Epoch 19/25\n",
      "42/42 [==============================] - 88s 2s/step - loss: 0.7829 - accuracy: 0.6960 - auc: 0.8409 - val_loss: 0.9181 - val_accuracy: 0.6276 - val_auc: 0.8042\n",
      "Epoch 20/25\n",
      "42/42 [==============================] - 89s 2s/step - loss: 0.7834 - accuracy: 0.6973 - auc: 0.8348 - val_loss: 0.9181 - val_accuracy: 0.6343 - val_auc: 0.8055\n",
      "Epoch 21/25\n",
      "42/42 [==============================] - 89s 2s/step - loss: 0.7741 - accuracy: 0.7010 - auc: 0.8410 - val_loss: 0.9166 - val_accuracy: 0.6232 - val_auc: 0.8055\n",
      "Epoch 22/25\n",
      "42/42 [==============================] - 88s 2s/step - loss: 0.7835 - accuracy: 0.6939 - auc: 0.8367 - val_loss: 0.9166 - val_accuracy: 0.6276 - val_auc: 0.8063\n",
      "Epoch 23/25\n",
      "42/42 [==============================] - 89s 2s/step - loss: 0.7991 - accuracy: 0.6919 - auc: 0.8315 - val_loss: 0.9162 - val_accuracy: 0.6265 - val_auc: 0.8064\n",
      "Epoch 24/25\n",
      "42/42 [==============================] - 89s 2s/step - loss: 0.7863 - accuracy: 0.6902 - auc: 0.8385 - val_loss: 0.9197 - val_accuracy: 0.6254 - val_auc: 0.8052\n",
      "Epoch 25/25\n",
      "42/42 [==============================] - 89s 2s/step - loss: 0.7604 - accuracy: 0.7052 - auc: 0.8479 - val_loss: 0.9184 - val_accuracy: 0.6265 - val_auc: 0.8048\n",
      "oof_aucs {0: 0.8170433044433594, 1: 0.8063991665840149}\n"
     ]
    },
    {
     "data": {
      "text/html": [
       "<br/>Waiting for W&B process to finish, PID 866<br/>Program ended successfully."
      ],
      "text/plain": [
       "<IPython.core.display.HTML object>"
      ]
     },
     "metadata": {},
     "output_type": "display_data"
    },
    {
     "data": {
      "application/vnd.jupyter.widget-view+json": {
       "model_id": "bf334d8ffce44d799d8d9234b844f62c",
       "version_major": 2,
       "version_minor": 0
      },
      "text/plain": [
       "VBox(children=(Label(value=' 450.36MB of 450.36MB uploaded (0.00MB deduped)\\r'), FloatProgress(value=1.0, max=…"
      ]
     },
     "metadata": {},
     "output_type": "display_data"
    },
    {
     "data": {
      "text/html": [
       "Find user logs for this run at: <code>/kaggle/working/wandb/run-20210729_191337-139hqwjb/logs/debug.log</code>"
      ],
      "text/plain": [
       "<IPython.core.display.HTML object>"
      ]
     },
     "metadata": {},
     "output_type": "display_data"
    },
    {
     "data": {
      "text/html": [
       "Find internal logs for this run at: <code>/kaggle/working/wandb/run-20210729_191337-139hqwjb/logs/debug-internal.log</code>"
      ],
      "text/plain": [
       "<IPython.core.display.HTML object>"
      ]
     },
     "metadata": {},
     "output_type": "display_data"
    },
    {
     "data": {
      "text/html": [
       "<h3>Run summary:</h3><br/><style>\n",
       "    table.wandb td:nth-child(1) { padding: 0 10px; text-align: right }\n",
       "    </style><table class=\"wandb\">\n",
       "<tr><td>epoch</td><td>24</td></tr><tr><td>loss</td><td>0.75388</td></tr><tr><td>accuracy</td><td>0.71354</td></tr><tr><td>auc</td><td>0.84837</td></tr><tr><td>val_loss</td><td>0.91841</td></tr><tr><td>val_accuracy</td><td>0.62652</td></tr><tr><td>val_auc</td><td>0.80478</td></tr><tr><td>_runtime</td><td>2794</td></tr><tr><td>_timestamp</td><td>1627588811</td></tr><tr><td>_step</td><td>24</td></tr><tr><td>best_val_loss</td><td>0.90658</td></tr><tr><td>best_epoch</td><td>8</td></tr></table>"
      ],
      "text/plain": [
       "<IPython.core.display.HTML object>"
      ]
     },
     "metadata": {},
     "output_type": "display_data"
    },
    {
     "data": {
      "text/html": [
       "<h3>Run history:</h3><br/><style>\n",
       "    table.wandb td:nth-child(1) { padding: 0 10px; text-align: right }\n",
       "    </style><table class=\"wandb\">\n",
       "<tr><td>epoch</td><td>▁▁▂▂▂▂▃▃▃▄▄▄▅▅▅▅▆▆▆▇▇▇▇██</td></tr><tr><td>loss</td><td>█▅▅▄▅▃▃▃▂▂▂▂▁▁▂▁▁▁▁▁▁▁▁▁▁</td></tr><tr><td>accuracy</td><td>▁▄▄▅▄▆▆▆▆▇▇▇█▇▇▇█▇▇██▇█▇█</td></tr><tr><td>auc</td><td>▁▃▄▅▅▆▆▇▇▇▇▇█████████████</td></tr><tr><td>val_loss</td><td>█▃▇▄▃▁▁▁▁▁▁▁▂▂▁▁▁▁▁▁▁▁▁▁▁</td></tr><tr><td>val_accuracy</td><td>▂▅▁▅▄▆████▇▇▇▆▇▇▇▇▇█▇▇▇▇▇</td></tr><tr><td>val_auc</td><td>▁▅▄▅▆▇▇██████████████████</td></tr><tr><td>_runtime</td><td>▁▁▂▂▂▃▃▃▄▄▄▄▅▅▅▆▆▆▆▇▇▇▇██</td></tr><tr><td>_timestamp</td><td>▁▁▂▂▂▃▃▃▄▄▄▄▅▅▅▆▆▆▆▇▇▇▇██</td></tr><tr><td>_step</td><td>▁▁▂▂▂▂▃▃▃▄▄▄▅▅▅▅▆▆▆▇▇▇▇██</td></tr></table><br/>"
      ],
      "text/plain": [
       "<IPython.core.display.HTML object>"
      ]
     },
     "metadata": {},
     "output_type": "display_data"
    },
    {
     "data": {
      "text/html": [
       "Synced 5 W&B file(s), 1 media file(s), 0 artifact file(s) and 1 other file(s)"
      ],
      "text/plain": [
       "<IPython.core.display.HTML object>"
      ]
     },
     "metadata": {},
     "output_type": "display_data"
    },
    {
     "data": {
      "text/html": [
       "\n",
       "                    <br/>Synced <strong style=\"color:#cdcd00\">efficientnetv2-l-21k-ft1k_fold1_job1</strong>: <a href=\"https://wandb.ai/haenara-shin/SIIM_classifier_public/runs/139hqwjb\" target=\"_blank\">https://wandb.ai/haenara-shin/SIIM_classifier_public/runs/139hqwjb</a><br/>\n",
       "                "
      ],
      "text/plain": [
       "<IPython.core.display.HTML object>"
      ]
     },
     "metadata": {},
     "output_type": "display_data"
    },
    {
     "name": "stdout",
     "output_type": "stream",
     "text": [
      "\n",
      "\n",
      "\n"
     ]
    },
    {
     "data": {
      "image/png": "[encoded data removed]",
      "text/plain": [
       "<Figure size 1080x360 with 2 Axes>"
      ]
     },
     "metadata": {},
     "output_type": "display_data"
    },
    {
     "name": "stdout",
     "output_type": "stream",
     "text": [
      "\n",
      "Fold: 2\n",
      "Running on TPU: grpc://10.0.0.2:8470\n",
      "Running on 8 replicas\n",
      "Train Job: efficientnetv2-l-21k-ft1k_fold2_job1 \n",
      "Config\n",
      "{'batch_size': 128,\n",
      " 'dataset': 'siim-covid19-images-metadata-256-512-768',\n",
      " 'fine_tune': 'True',\n",
      " 'fold': 2,\n",
      " 'input_dims': '(768, 768)',\n",
      " 'job': 1,\n",
      " 'job_name': 'efficientnetv2-l-21k-ft1k_fold2_job1',\n",
      " 'kfold': 7,\n",
      " 'loss_func': 'categorical_crossentropy',\n",
      " 'lr': '0.001',\n",
      " 'model_arch': 'efficientnetv2-l-21k-ft1k',\n",
      " 'n_epochs': 25,\n",
      " 'num_classes': 4,\n",
      " 'seed': 333,\n",
      " 'wandb_project': 'SIIM_classifier_public'}\n"
     ]
    },
    {
     "name": "stderr",
     "output_type": "stream",
     "text": [
      "\u001b[34m\u001b[1mwandb\u001b[0m: wandb version 0.11.1 is available!  To upgrade, please run:\n",
      "\u001b[34m\u001b[1mwandb\u001b[0m:  $ pip install wandb --upgrade\n"
     ]
    },
    {
     "data": {
      "text/html": [
       "\n",
       "                Tracking run with wandb version 0.10.33<br/>\n",
       "                Syncing run <strong style=\"color:#cdcd00\">efficientnetv2-l-21k-ft1k_fold2_job1</strong> to <a href=\"https://wandb.ai\" target=\"_blank\">Weights & Biases</a> <a href=\"https://docs.wandb.com/integrations/jupyter.html\" target=\"_blank\">(Documentation)</a>.<br/>\n",
       "                Project page: <a href=\"https://wandb.ai/haenara-shin/SIIM_classifier_public\" target=\"_blank\">https://wandb.ai/haenara-shin/SIIM_classifier_public</a><br/>\n",
       "                Run page: <a href=\"https://wandb.ai/haenara-shin/SIIM_classifier_public/runs/k9me9xe2\" target=\"_blank\">https://wandb.ai/haenara-shin/SIIM_classifier_public/runs/k9me9xe2</a><br/>\n",
       "                Run data is saved locally in <code>/kaggle/working/wandb/run-20210729_200101-k9me9xe2</code><br/><br/>\n",
       "            "
      ],
      "text/plain": [
       "<IPython.core.display.HTML object>"
      ]
     },
     "metadata": {},
     "output_type": "display_data"
    },
    {
     "name": "stdout",
     "output_type": "stream",
     "text": [
      "Epoch 1/25\n",
      "42/42 [==============================] - 442s 4s/step - loss: 1.2979 - accuracy: 0.5035 - auc: 0.6066 - val_loss: 1.3072 - val_accuracy: 0.6254 - val_auc: 0.7062\n",
      "Epoch 2/25\n",
      "42/42 [==============================] - 89s 2s/step - loss: 1.0152 - accuracy: 0.5987 - auc: 0.7100 - val_loss: 0.9629 - val_accuracy: 0.6431 - val_auc: 0.7504\n",
      "Epoch 3/25\n",
      "42/42 [==============================] - 90s 2s/step - loss: 0.9956 - accuracy: 0.6110 - auc: 0.7282 - val_loss: 0.9305 - val_accuracy: 0.6497 - val_auc: 0.7809\n",
      "Epoch 4/25\n",
      "42/42 [==============================] - 90s 2s/step - loss: 0.9525 - accuracy: 0.6320 - auc: 0.7463 - val_loss: 0.9366 - val_accuracy: 0.6464 - val_auc: 0.7708\n",
      "Epoch 5/25\n",
      "42/42 [==============================] - 88s 2s/step - loss: 0.9187 - accuracy: 0.6484 - auc: 0.7562 - val_loss: 0.9320 - val_accuracy: 0.6442 - val_auc: 0.7681\n",
      "Epoch 6/25\n",
      "42/42 [==============================] - 88s 2s/step - loss: 0.9488 - accuracy: 0.6283 - auc: 0.7489 - val_loss: 0.9944 - val_accuracy: 0.6597 - val_auc: 0.7651\n",
      "Epoch 7/25\n",
      "42/42 [==============================] - 88s 2s/step - loss: 0.8977 - accuracy: 0.6550 - auc: 0.7842 - val_loss: 0.8726 - val_accuracy: 0.6685 - val_auc: 0.7970\n",
      "Epoch 8/25\n",
      "42/42 [==============================] - 90s 2s/step - loss: 0.8736 - accuracy: 0.6591 - auc: 0.7945 - val_loss: 0.8621 - val_accuracy: 0.6785 - val_auc: 0.8030\n",
      "Epoch 9/25\n",
      "42/42 [==============================] - 90s 2s/step - loss: 0.8360 - accuracy: 0.6674 - auc: 0.8127 - val_loss: 0.8727 - val_accuracy: 0.6663 - val_auc: 0.8007\n",
      "Epoch 10/25\n",
      "42/42 [==============================] - 88s 2s/step - loss: 0.8460 - accuracy: 0.6717 - auc: 0.8162 - val_loss: 0.8747 - val_accuracy: 0.6641 - val_auc: 0.7995\n",
      "Epoch 11/25\n",
      "42/42 [==============================] - 89s 2s/step - loss: 0.8130 - accuracy: 0.6801 - auc: 0.8241 - val_loss: 0.8634 - val_accuracy: 0.6762 - val_auc: 0.8112\n",
      "Epoch 12/25\n",
      "42/42 [==============================] - 89s 2s/step - loss: 0.8074 - accuracy: 0.6845 - auc: 0.8358 - val_loss: 0.8465 - val_accuracy: 0.6685 - val_auc: 0.8127\n",
      "Epoch 13/25\n",
      "42/42 [==============================] - 90s 2s/step - loss: 0.8028 - accuracy: 0.6918 - auc: 0.8295 - val_loss: 0.8533 - val_accuracy: 0.6674 - val_auc: 0.8112\n",
      "Epoch 14/25\n",
      "42/42 [==============================] - 88s 2s/step - loss: 0.7824 - accuracy: 0.6969 - auc: 0.8340 - val_loss: 0.8486 - val_accuracy: 0.6696 - val_auc: 0.8120\n",
      "Epoch 15/25\n",
      "42/42 [==============================] - 88s 2s/step - loss: 0.7915 - accuracy: 0.6889 - auc: 0.8363 - val_loss: 0.8509 - val_accuracy: 0.6564 - val_auc: 0.8110\n",
      "Epoch 16/25\n",
      "42/42 [==============================] - 87s 2s/step - loss: 0.7929 - accuracy: 0.6911 - auc: 0.8390 - val_loss: 0.8513 - val_accuracy: 0.6685 - val_auc: 0.8110\n",
      "Epoch 17/25\n",
      "42/42 [==============================] - 88s 2s/step - loss: 0.7868 - accuracy: 0.6841 - auc: 0.8323 - val_loss: 0.8501 - val_accuracy: 0.6641 - val_auc: 0.8122\n",
      "Epoch 18/25\n",
      "42/42 [==============================] - 92s 2s/step - loss: 0.7925 - accuracy: 0.6894 - auc: 0.8306 - val_loss: 0.8539 - val_accuracy: 0.6630 - val_auc: 0.8112\n",
      "Epoch 19/25\n",
      "42/42 [==============================] - 89s 2s/step - loss: 0.7745 - accuracy: 0.7015 - auc: 0.8420 - val_loss: 0.8520 - val_accuracy: 0.6674 - val_auc: 0.8109\n",
      "Epoch 20/25\n",
      "42/42 [==============================] - 88s 2s/step - loss: 0.7906 - accuracy: 0.6852 - auc: 0.8352 - val_loss: 0.8485 - val_accuracy: 0.6718 - val_auc: 0.8127\n",
      "Epoch 21/25\n",
      "42/42 [==============================] - 88s 2s/step - loss: 0.8069 - accuracy: 0.6890 - auc: 0.8330 - val_loss: 0.8536 - val_accuracy: 0.6652 - val_auc: 0.8098\n",
      "Epoch 22/25\n",
      "42/42 [==============================] - 89s 2s/step - loss: 0.7974 - accuracy: 0.6847 - auc: 0.8352 - val_loss: 0.8504 - val_accuracy: 0.6685 - val_auc: 0.8109\n",
      "Epoch 23/25\n",
      "42/42 [==============================] - 89s 2s/step - loss: 0.7840 - accuracy: 0.6882 - auc: 0.8346 - val_loss: 0.8532 - val_accuracy: 0.6608 - val_auc: 0.8122\n",
      "Epoch 24/25\n",
      "42/42 [==============================] - 89s 2s/step - loss: 0.8019 - accuracy: 0.6839 - auc: 0.8304 - val_loss: 0.8527 - val_accuracy: 0.6619 - val_auc: 0.8117\n",
      "Epoch 25/25\n",
      "42/42 [==============================] - 88s 2s/step - loss: 0.7656 - accuracy: 0.7090 - auc: 0.8388 - val_loss: 0.8511 - val_accuracy: 0.6652 - val_auc: 0.8119\n",
      "oof_aucs {0: 0.8170433044433594, 1: 0.8063991665840149, 2: 0.8126775622367859}\n"
     ]
    },
    {
     "data": {
      "text/html": [
       "<br/>Waiting for W&B process to finish, PID 1567<br/>Program ended successfully."
      ],
      "text/plain": [
       "<IPython.core.display.HTML object>"
      ]
     },
     "metadata": {},
     "output_type": "display_data"
    },
    {
     "data": {
      "application/vnd.jupyter.widget-view+json": {
       "model_id": "54122afd9d9d45f7a8f827be1385a77b",
       "version_major": 2,
       "version_minor": 0
      },
      "text/plain": [
       "VBox(children=(Label(value=' 450.36MB of 450.36MB uploaded (0.00MB deduped)\\r'), FloatProgress(value=1.0, max=…"
      ]
     },
     "metadata": {},
     "output_type": "display_data"
    },
    {
     "data": {
      "text/html": [
       "Find user logs for this run at: <code>/kaggle/working/wandb/run-20210729_200101-k9me9xe2/logs/debug.log</code>"
      ],
      "text/plain": [
       "<IPython.core.display.HTML object>"
      ]
     },
     "metadata": {},
     "output_type": "display_data"
    },
    {
     "data": {
      "text/html": [
       "Find internal logs for this run at: <code>/kaggle/working/wandb/run-20210729_200101-k9me9xe2/logs/debug-internal.log</code>"
      ],
      "text/plain": [
       "<IPython.core.display.HTML object>"
      ]
     },
     "metadata": {},
     "output_type": "display_data"
    },
    {
     "data": {
      "text/html": [
       "<h3>Run summary:</h3><br/><style>\n",
       "    table.wandb td:nth-child(1) { padding: 0 10px; text-align: right }\n",
       "    </style><table class=\"wandb\">\n",
       "<tr><td>epoch</td><td>24</td></tr><tr><td>loss</td><td>0.77385</td></tr><tr><td>accuracy</td><td>0.70387</td></tr><tr><td>auc</td><td>0.84342</td></tr><tr><td>val_loss</td><td>0.85111</td></tr><tr><td>val_accuracy</td><td>0.66519</td></tr><tr><td>val_auc</td><td>0.81189</td></tr><tr><td>_runtime</td><td>2811</td></tr><tr><td>_timestamp</td><td>1627591672</td></tr><tr><td>_step</td><td>24</td></tr><tr><td>best_val_loss</td><td>0.84649</td></tr><tr><td>best_epoch</td><td>11</td></tr></table>"
      ],
      "text/plain": [
       "<IPython.core.display.HTML object>"
      ]
     },
     "metadata": {},
     "output_type": "display_data"
    },
    {
     "data": {
      "text/html": [
       "<h3>Run history:</h3><br/><style>\n",
       "    table.wandb td:nth-child(1) { padding: 0 10px; text-align: right }\n",
       "    </style><table class=\"wandb\">\n",
       "<tr><td>epoch</td><td>▁▁▂▂▂▂▃▃▃▄▄▄▅▅▅▅▆▆▆▇▇▇▇██</td></tr><tr><td>loss</td><td>█▅▅▅▄▄▃▃▂▂▂▂▂▁▁▁▂▁▁▁▁▁▁▁▁</td></tr><tr><td>accuracy</td><td>▁▃▄▄▅▅▆▆▇▇▇▇██▇█▇▇█▇███▇█</td></tr><tr><td>auc</td><td>▁▃▄▄▅▅▆▆▇▇▇█▇████████████</td></tr><tr><td>val_loss</td><td>█▃▂▂▂▃▁▁▁▁▁▁▁▁▁▁▁▁▁▁▁▁▁▁▁</td></tr><tr><td>val_accuracy</td><td>▁▃▄▄▃▆▇█▆▆█▇▇▇▅▇▆▆▇▇▆▇▆▆▆</td></tr><tr><td>val_auc</td><td>▁▄▆▅▅▅▇▇▇▇███████████████</td></tr><tr><td>_runtime</td><td>▁▁▂▂▂▃▃▃▄▄▄▄▅▅▅▆▆▆▆▇▇▇▇██</td></tr><tr><td>_timestamp</td><td>▁▁▂▂▂▃▃▃▄▄▄▄▅▅▅▆▆▆▆▇▇▇▇██</td></tr><tr><td>_step</td><td>▁▁▂▂▂▂▃▃▃▄▄▄▅▅▅▅▆▆▆▇▇▇▇██</td></tr></table><br/>"
      ],
      "text/plain": [
       "<IPython.core.display.HTML object>"
      ]
     },
     "metadata": {},
     "output_type": "display_data"
    },
    {
     "data": {
      "text/html": [
       "Synced 5 W&B file(s), 1 media file(s), 0 artifact file(s) and 1 other file(s)"
      ],
      "text/plain": [
       "<IPython.core.display.HTML object>"
      ]
     },
     "metadata": {},
     "output_type": "display_data"
    },
    {
     "data": {
      "text/html": [
       "\n",
       "                    <br/>Synced <strong style=\"color:#cdcd00\">efficientnetv2-l-21k-ft1k_fold2_job1</strong>: <a href=\"https://wandb.ai/haenara-shin/SIIM_classifier_public/runs/k9me9xe2\" target=\"_blank\">https://wandb.ai/haenara-shin/SIIM_classifier_public/runs/k9me9xe2</a><br/>\n",
       "                "
      ],
      "text/plain": [
       "<IPython.core.display.HTML object>"
      ]
     },
     "metadata": {},
     "output_type": "display_data"
    },
    {
     "name": "stdout",
     "output_type": "stream",
     "text": [
      "\n",
      "\n",
      "\n"
     ]
    },
    {
     "data": {
      "image/png": "[encoded data removed]",
      "text/plain": [
       "<Figure size 1080x360 with 2 Axes>"
      ]
     },
     "metadata": {},
     "output_type": "display_data"
    },
    {
     "name": "stdout",
     "output_type": "stream",
     "text": [
      "\n",
      "Fold: 3\n",
      "Running on TPU: grpc://10.0.0.2:8470\n",
      "Running on 8 replicas\n",
      "Train Job: efficientnetv2-l-21k-ft1k_fold3_job1 \n",
      "Config\n",
      "{'batch_size': 128,\n",
      " 'dataset': 'siim-covid19-images-metadata-256-512-768',\n",
      " 'fine_tune': 'True',\n",
      " 'fold': 3,\n",
      " 'input_dims': '(768, 768)',\n",
      " 'job': 1,\n",
      " 'job_name': 'efficientnetv2-l-21k-ft1k_fold3_job1',\n",
      " 'kfold': 7,\n",
      " 'loss_func': 'categorical_crossentropy',\n",
      " 'lr': '0.001',\n",
      " 'model_arch': 'efficientnetv2-l-21k-ft1k',\n",
      " 'n_epochs': 25,\n",
      " 'num_classes': 4,\n",
      " 'seed': 333,\n",
      " 'wandb_project': 'SIIM_classifier_public'}\n"
     ]
    },
    {
     "name": "stderr",
     "output_type": "stream",
     "text": [
      "\u001b[34m\u001b[1mwandb\u001b[0m: wandb version 0.11.1 is available!  To upgrade, please run:\n",
      "\u001b[34m\u001b[1mwandb\u001b[0m:  $ pip install wandb --upgrade\n"
     ]
    },
    {
     "data": {
      "text/html": [
       "\n",
       "                Tracking run with wandb version 0.10.33<br/>\n",
       "                Syncing run <strong style=\"color:#cdcd00\">efficientnetv2-l-21k-ft1k_fold3_job1</strong> to <a href=\"https://wandb.ai\" target=\"_blank\">Weights & Biases</a> <a href=\"https://docs.wandb.com/integrations/jupyter.html\" target=\"_blank\">(Documentation)</a>.<br/>\n",
       "                Project page: <a href=\"https://wandb.ai/haenara-shin/SIIM_classifier_public\" target=\"_blank\">https://wandb.ai/haenara-shin/SIIM_classifier_public</a><br/>\n",
       "                Run page: <a href=\"https://wandb.ai/haenara-shin/SIIM_classifier_public/runs/1wvhaxlz\" target=\"_blank\">https://wandb.ai/haenara-shin/SIIM_classifier_public/runs/1wvhaxlz</a><br/>\n",
       "                Run data is saved locally in <code>/kaggle/working/wandb/run-20210729_204900-1wvhaxlz</code><br/><br/>\n",
       "            "
      ],
      "text/plain": [
       "<IPython.core.display.HTML object>"
      ]
     },
     "metadata": {},
     "output_type": "display_data"
    },
    {
     "name": "stdout",
     "output_type": "stream",
     "text": [
      "Epoch 1/25\n",
      "42/42 [==============================] - 438s 4s/step - loss: 1.2940 - accuracy: 0.4924 - auc: 0.6241 - val_loss: 1.3205 - val_accuracy: 0.6309 - val_auc: 0.7316\n",
      "Epoch 2/25\n",
      "42/42 [==============================] - 89s 2s/step - loss: 1.0068 - accuracy: 0.6157 - auc: 0.7136 - val_loss: 1.0386 - val_accuracy: 0.6320 - val_auc: 0.7551\n",
      "Epoch 3/25\n",
      "42/42 [==============================] - 90s 2s/step - loss: 0.9762 - accuracy: 0.6264 - auc: 0.7359 - val_loss: 1.0442 - val_accuracy: 0.6122 - val_auc: 0.7654\n",
      "Epoch 4/25\n",
      "42/42 [==============================] - 89s 2s/step - loss: 0.9623 - accuracy: 0.6366 - auc: 0.7366 - val_loss: 0.9022 - val_accuracy: 0.6564 - val_auc: 0.7965\n",
      "Epoch 5/25\n",
      "42/42 [==============================] - 89s 2s/step - loss: 0.9390 - accuracy: 0.6350 - auc: 0.7560 - val_loss: 0.9583 - val_accuracy: 0.6398 - val_auc: 0.7656\n",
      "Epoch 6/25\n",
      "42/42 [==============================] - 88s 2s/step - loss: 0.9445 - accuracy: 0.6279 - auc: 0.7589 - val_loss: 0.9188 - val_accuracy: 0.6320 - val_auc: 0.7839\n",
      "Epoch 7/25\n",
      "42/42 [==============================] - 88s 2s/step - loss: 0.9216 - accuracy: 0.6514 - auc: 0.7546 - val_loss: 1.0193 - val_accuracy: 0.6044 - val_auc: 0.7963\n",
      "Epoch 8/25\n",
      "42/42 [==============================] - 88s 2s/step - loss: 0.9129 - accuracy: 0.6503 - auc: 0.7785 - val_loss: 0.8569 - val_accuracy: 0.6696 - val_auc: 0.8146\n",
      "Epoch 9/25\n",
      "42/42 [==============================] - 90s 2s/step - loss: 0.8452 - accuracy: 0.6656 - auc: 0.8125 - val_loss: 0.8654 - val_accuracy: 0.6641 - val_auc: 0.8118\n",
      "Epoch 10/25\n",
      "42/42 [==============================] - 89s 2s/step - loss: 0.8206 - accuracy: 0.6745 - auc: 0.8221 - val_loss: 0.8559 - val_accuracy: 0.6840 - val_auc: 0.8154\n",
      "Epoch 11/25\n",
      "42/42 [==============================] - 90s 2s/step - loss: 0.8178 - accuracy: 0.6796 - auc: 0.8234 - val_loss: 0.8588 - val_accuracy: 0.6652 - val_auc: 0.8171\n",
      "Epoch 12/25\n",
      "42/42 [==============================] - 89s 2s/step - loss: 0.7976 - accuracy: 0.6926 - auc: 0.8292 - val_loss: 0.8555 - val_accuracy: 0.6773 - val_auc: 0.8175\n",
      "Epoch 13/25\n",
      "42/42 [==============================] - 90s 2s/step - loss: 0.7818 - accuracy: 0.6953 - auc: 0.8361 - val_loss: 0.8835 - val_accuracy: 0.6707 - val_auc: 0.8151\n",
      "Epoch 14/25\n",
      "42/42 [==============================] - 87s 2s/step - loss: 0.7829 - accuracy: 0.6910 - auc: 0.8391 - val_loss: 0.8899 - val_accuracy: 0.6619 - val_auc: 0.8155\n",
      "Epoch 15/25\n",
      "42/42 [==============================] - 88s 2s/step - loss: 0.7649 - accuracy: 0.7020 - auc: 0.8489 - val_loss: 0.8764 - val_accuracy: 0.6740 - val_auc: 0.8168\n",
      "Epoch 16/25\n",
      "42/42 [==============================] - 88s 2s/step - loss: 0.7437 - accuracy: 0.7073 - auc: 0.8546 - val_loss: 0.8690 - val_accuracy: 0.6729 - val_auc: 0.8179\n",
      "Epoch 17/25\n",
      "42/42 [==============================] - 88s 2s/step - loss: 0.7387 - accuracy: 0.7166 - auc: 0.8605 - val_loss: 0.8663 - val_accuracy: 0.6685 - val_auc: 0.8189\n",
      "Epoch 18/25\n",
      "42/42 [==============================] - 92s 2s/step - loss: 0.7331 - accuracy: 0.7122 - auc: 0.8591 - val_loss: 0.8645 - val_accuracy: 0.6685 - val_auc: 0.8189\n",
      "Epoch 19/25\n",
      "42/42 [==============================] - 88s 2s/step - loss: 0.7082 - accuracy: 0.7190 - auc: 0.8677 - val_loss: 0.8722 - val_accuracy: 0.6630 - val_auc: 0.8177\n",
      "Epoch 20/25\n",
      "42/42 [==============================] - 88s 2s/step - loss: 0.7193 - accuracy: 0.7192 - auc: 0.8631 - val_loss: 0.8706 - val_accuracy: 0.6707 - val_auc: 0.8187\n",
      "Epoch 21/25\n",
      "42/42 [==============================] - 88s 2s/step - loss: 0.7025 - accuracy: 0.7286 - auc: 0.8691 - val_loss: 0.8693 - val_accuracy: 0.6696 - val_auc: 0.8184\n",
      "Epoch 22/25\n",
      "42/42 [==============================] - 88s 2s/step - loss: 0.7325 - accuracy: 0.7176 - auc: 0.8634 - val_loss: 0.8686 - val_accuracy: 0.6696 - val_auc: 0.8187\n",
      "Epoch 23/25\n",
      "42/42 [==============================] - 88s 2s/step - loss: 0.7186 - accuracy: 0.7238 - auc: 0.8652 - val_loss: 0.8708 - val_accuracy: 0.6652 - val_auc: 0.8176\n",
      "Epoch 24/25\n",
      "42/42 [==============================] - 88s 2s/step - loss: 0.7290 - accuracy: 0.7135 - auc: 0.8598 - val_loss: 0.8662 - val_accuracy: 0.6718 - val_auc: 0.8191\n",
      "Epoch 25/25\n",
      "42/42 [==============================] - 88s 2s/step - loss: 0.7229 - accuracy: 0.7152 - auc: 0.8639 - val_loss: 0.8657 - val_accuracy: 0.6652 - val_auc: 0.8188\n",
      "oof_aucs {0: 0.8170433044433594, 1: 0.8063991665840149, 2: 0.8126775622367859, 3: 0.8191084265708923}\n"
     ]
    },
    {
     "data": {
      "text/html": [
       "<br/>Waiting for W&B process to finish, PID 2273<br/>Program ended successfully."
      ],
      "text/plain": [
       "<IPython.core.display.HTML object>"
      ]
     },
     "metadata": {},
     "output_type": "display_data"
    },
    {
     "data": {
      "application/vnd.jupyter.widget-view+json": {
       "model_id": "f7d702adfe7245738c83f6cf5d2c91aa",
       "version_major": 2,
       "version_minor": 0
      },
      "text/plain": [
       "VBox(children=(Label(value=' 450.36MB of 450.36MB uploaded (0.00MB deduped)\\r'), FloatProgress(value=1.0, max=…"
      ]
     },
     "metadata": {},
     "output_type": "display_data"
    },
    {
     "data": {
      "text/html": [
       "Find user logs for this run at: <code>/kaggle/working/wandb/run-20210729_204900-1wvhaxlz/logs/debug.log</code>"
      ],
      "text/plain": [
       "<IPython.core.display.HTML object>"
      ]
     },
     "metadata": {},
     "output_type": "display_data"
    },
    {
     "data": {
      "text/html": [
       "Find internal logs for this run at: <code>/kaggle/working/wandb/run-20210729_204900-1wvhaxlz/logs/debug-internal.log</code>"
      ],
      "text/plain": [
       "<IPython.core.display.HTML object>"
      ]
     },
     "metadata": {},
     "output_type": "display_data"
    },
    {
     "data": {
      "text/html": [
       "<h3>Run summary:</h3><br/><style>\n",
       "    table.wandb td:nth-child(1) { padding: 0 10px; text-align: right }\n",
       "    </style><table class=\"wandb\">\n",
       "<tr><td>epoch</td><td>24</td></tr><tr><td>loss</td><td>0.71179</td></tr><tr><td>accuracy</td><td>0.72433</td></tr><tr><td>auc</td><td>0.86743</td></tr><tr><td>val_loss</td><td>0.86567</td></tr><tr><td>val_accuracy</td><td>0.66519</td></tr><tr><td>val_auc</td><td>0.8188</td></tr><tr><td>_runtime</td><td>2815</td></tr><tr><td>_timestamp</td><td>1627594555</td></tr><tr><td>_step</td><td>24</td></tr><tr><td>best_val_loss</td><td>0.85554</td></tr><tr><td>best_epoch</td><td>11</td></tr></table>"
      ],
      "text/plain": [
       "<IPython.core.display.HTML object>"
      ]
     },
     "metadata": {},
     "output_type": "display_data"
    },
    {
     "data": {
      "text/html": [
       "<h3>Run history:</h3><br/><style>\n",
       "    table.wandb td:nth-child(1) { padding: 0 10px; text-align: right }\n",
       "    </style><table class=\"wandb\">\n",
       "<tr><td>epoch</td><td>▁▁▂▂▂▂▃▃▃▄▄▄▅▅▅▅▆▆▆▇▇▇▇██</td></tr><tr><td>loss</td><td>█▆▅▅▅▄▄▄▃▃▂▂▂▂▂▂▁▁▁▁▁▁▁▁▁</td></tr><tr><td>accuracy</td><td>▁▄▄▅▄▅▅▅▆▆▆▇▇▇▇▇█████████</td></tr><tr><td>auc</td><td>▁▃▄▄▄▅▅▅▆▇▇▇▇▇███████████</td></tr><tr><td>val_loss</td><td>█▄▄▂▃▂▃▁▁▁▁▁▁▂▁▁▁▁▁▁▁▁▁▁▁</td></tr><tr><td>val_accuracy</td><td>▃▃▂▆▄▃▁▇▆█▆▇▇▆▇▇▇▇▆▇▇▇▆▇▆</td></tr><tr><td>val_auc</td><td>▁▃▄▆▄▅▆█▇████████████████</td></tr><tr><td>_runtime</td><td>▁▁▂▂▂▃▃▃▄▄▄▄▅▅▅▆▆▆▆▇▇▇▇██</td></tr><tr><td>_timestamp</td><td>▁▁▂▂▂▃▃▃▄▄▄▄▅▅▅▆▆▆▆▇▇▇▇██</td></tr><tr><td>_step</td><td>▁▁▂▂▂▂▃▃▃▄▄▄▅▅▅▅▆▆▆▇▇▇▇██</td></tr></table><br/>"
      ],
      "text/plain": [
       "<IPython.core.display.HTML object>"
      ]
     },
     "metadata": {},
     "output_type": "display_data"
    },
    {
     "data": {
      "text/html": [
       "Synced 5 W&B file(s), 1 media file(s), 0 artifact file(s) and 1 other file(s)"
      ],
      "text/plain": [
       "<IPython.core.display.HTML object>"
      ]
     },
     "metadata": {},
     "output_type": "display_data"
    },
    {
     "data": {
      "text/html": [
       "\n",
       "                    <br/>Synced <strong style=\"color:#cdcd00\">efficientnetv2-l-21k-ft1k_fold3_job1</strong>: <a href=\"https://wandb.ai/haenara-shin/SIIM_classifier_public/runs/1wvhaxlz\" target=\"_blank\">https://wandb.ai/haenara-shin/SIIM_classifier_public/runs/1wvhaxlz</a><br/>\n",
       "                "
      ],
      "text/plain": [
       "<IPython.core.display.HTML object>"
      ]
     },
     "metadata": {},
     "output_type": "display_data"
    },
    {
     "name": "stdout",
     "output_type": "stream",
     "text": [
      "\n",
      "\n",
      "\n"
     ]
    },
    {
     "data": {
      "image/png": "[encoded data removed]",
      "text/plain": [
       "<Figure size 1080x360 with 2 Axes>"
      ]
     },
     "metadata": {},
     "output_type": "display_data"
    },
    {
     "name": "stdout",
     "output_type": "stream",
     "text": [
      "\n",
      "Fold: 4\n",
      "Running on TPU: grpc://10.0.0.2:8470\n",
      "Running on 8 replicas\n",
      "Train Job: efficientnetv2-l-21k-ft1k_fold4_job1 \n",
      "Config\n",
      "{'batch_size': 128,\n",
      " 'dataset': 'siim-covid19-images-metadata-256-512-768',\n",
      " 'fine_tune': 'True',\n",
      " 'fold': 4,\n",
      " 'input_dims': '(768, 768)',\n",
      " 'job': 1,\n",
      " 'job_name': 'efficientnetv2-l-21k-ft1k_fold4_job1',\n",
      " 'kfold': 7,\n",
      " 'loss_func': 'categorical_crossentropy',\n",
      " 'lr': '0.001',\n",
      " 'model_arch': 'efficientnetv2-l-21k-ft1k',\n",
      " 'n_epochs': 25,\n",
      " 'num_classes': 4,\n",
      " 'seed': 333,\n",
      " 'wandb_project': 'SIIM_classifier_public'}\n"
     ]
    },
    {
     "name": "stderr",
     "output_type": "stream",
     "text": [
      "\u001b[34m\u001b[1mwandb\u001b[0m: wandb version 0.11.1 is available!  To upgrade, please run:\n",
      "\u001b[34m\u001b[1mwandb\u001b[0m:  $ pip install wandb --upgrade\n"
     ]
    },
    {
     "data": {
      "text/html": [
       "\n",
       "                Tracking run with wandb version 0.10.33<br/>\n",
       "                Syncing run <strong style=\"color:#cdcd00\">efficientnetv2-l-21k-ft1k_fold4_job1</strong> to <a href=\"https://wandb.ai\" target=\"_blank\">Weights & Biases</a> <a href=\"https://docs.wandb.com/integrations/jupyter.html\" target=\"_blank\">(Documentation)</a>.<br/>\n",
       "                Project page: <a href=\"https://wandb.ai/haenara-shin/SIIM_classifier_public\" target=\"_blank\">https://wandb.ai/haenara-shin/SIIM_classifier_public</a><br/>\n",
       "                Run page: <a href=\"https://wandb.ai/haenara-shin/SIIM_classifier_public/runs/1luxwkwu\" target=\"_blank\">https://wandb.ai/haenara-shin/SIIM_classifier_public/runs/1luxwkwu</a><br/>\n",
       "                Run data is saved locally in <code>/kaggle/working/wandb/run-20210729_213658-1luxwkwu</code><br/><br/>\n",
       "            "
      ],
      "text/plain": [
       "<IPython.core.display.HTML object>"
      ]
     },
     "metadata": {},
     "output_type": "display_data"
    },
    {
     "name": "stdout",
     "output_type": "stream",
     "text": [
      "Epoch 1/25\n",
      "42/42 [==============================] - 449s 4s/step - loss: 1.3099 - accuracy: 0.5003 - auc: 0.6068 - val_loss: 1.0322 - val_accuracy: 0.5989 - val_auc: 0.7031\n",
      "Epoch 2/25\n",
      "42/42 [==============================] - 90s 2s/step - loss: 1.0146 - accuracy: 0.6095 - auc: 0.7115 - val_loss: 0.9356 - val_accuracy: 0.6619 - val_auc: 0.7529\n",
      "Epoch 3/25\n",
      "42/42 [==============================] - 89s 2s/step - loss: 0.9832 - accuracy: 0.6158 - auc: 0.7322 - val_loss: 0.9256 - val_accuracy: 0.6508 - val_auc: 0.7724\n",
      "Epoch 4/25\n",
      "42/42 [==============================] - 90s 2s/step - loss: 0.9415 - accuracy: 0.6418 - auc: 0.7511 - val_loss: 1.0843 - val_accuracy: 0.5890 - val_auc: 0.7432\n",
      "Epoch 5/25\n",
      "42/42 [==============================] - 88s 2s/step - loss: 0.9964 - accuracy: 0.6050 - auc: 0.7365 - val_loss: 0.9480 - val_accuracy: 0.6442 - val_auc: 0.7639\n",
      "Epoch 6/25\n",
      "42/42 [==============================] - 88s 2s/step - loss: 0.9301 - accuracy: 0.6433 - auc: 0.7661 - val_loss: 0.9220 - val_accuracy: 0.6564 - val_auc: 0.7735\n",
      "Epoch 7/25\n",
      "42/42 [==============================] - 90s 2s/step - loss: 0.9354 - accuracy: 0.6289 - auc: 0.7683 - val_loss: 0.9123 - val_accuracy: 0.6630 - val_auc: 0.7832\n",
      "Epoch 8/25\n",
      "42/42 [==============================] - 91s 2s/step - loss: 0.9061 - accuracy: 0.6512 - auc: 0.7834 - val_loss: 1.0096 - val_accuracy: 0.6575 - val_auc: 0.7682\n",
      "Epoch 9/25\n",
      "42/42 [==============================] - 88s 2s/step - loss: 0.9014 - accuracy: 0.6479 - auc: 0.7844 - val_loss: 0.9362 - val_accuracy: 0.6464 - val_auc: 0.7668\n",
      "Epoch 10/25\n",
      "42/42 [==============================] - 89s 2s/step - loss: 0.8760 - accuracy: 0.6554 - auc: 0.7955 - val_loss: 0.9043 - val_accuracy: 0.6541 - val_auc: 0.7757\n",
      "Epoch 11/25\n",
      "42/42 [==============================] - 90s 2s/step - loss: 0.8746 - accuracy: 0.6522 - auc: 0.7988 - val_loss: 0.9057 - val_accuracy: 0.6696 - val_auc: 0.7778\n",
      "Epoch 12/25\n",
      "42/42 [==============================] - 88s 2s/step - loss: 0.8603 - accuracy: 0.6638 - auc: 0.8028 - val_loss: 0.9159 - val_accuracy: 0.6564 - val_auc: 0.7911\n",
      "Epoch 13/25\n",
      "42/42 [==============================] - 88s 2s/step - loss: 0.8629 - accuracy: 0.6630 - auc: 0.8078 - val_loss: 0.9906 - val_accuracy: 0.6210 - val_auc: 0.7820\n",
      "Epoch 14/25\n",
      "42/42 [==============================] - 88s 2s/step - loss: 0.8610 - accuracy: 0.6587 - auc: 0.8091 - val_loss: 0.8918 - val_accuracy: 0.6663 - val_auc: 0.7946\n",
      "Epoch 15/25\n",
      "42/42 [==============================] - 91s 2s/step - loss: 0.7767 - accuracy: 0.7024 - auc: 0.8394 - val_loss: 0.9141 - val_accuracy: 0.6575 - val_auc: 0.7960\n",
      "Epoch 16/25\n",
      "42/42 [==============================] - 88s 2s/step - loss: 0.7734 - accuracy: 0.6917 - auc: 0.8493 - val_loss: 0.9066 - val_accuracy: 0.6608 - val_auc: 0.7999\n",
      "Epoch 17/25\n",
      "42/42 [==============================] - 88s 2s/step - loss: 0.7463 - accuracy: 0.6930 - auc: 0.8602 - val_loss: 0.9272 - val_accuracy: 0.6597 - val_auc: 0.7984\n",
      "Epoch 18/25\n",
      "42/42 [==============================] - 91s 2s/step - loss: 0.7287 - accuracy: 0.7121 - auc: 0.8631 - val_loss: 0.9211 - val_accuracy: 0.6586 - val_auc: 0.8006\n",
      "Epoch 19/25\n",
      "42/42 [==============================] - 88s 2s/step - loss: 0.7254 - accuracy: 0.7155 - auc: 0.8677 - val_loss: 0.9185 - val_accuracy: 0.6586 - val_auc: 0.8019\n",
      "Epoch 20/25\n",
      "42/42 [==============================] - 88s 2s/step - loss: 0.7154 - accuracy: 0.7179 - auc: 0.8706 - val_loss: 0.9165 - val_accuracy: 0.6519 - val_auc: 0.8008\n",
      "Epoch 21/25\n",
      "42/42 [==============================] - 89s 2s/step - loss: 0.7128 - accuracy: 0.7198 - auc: 0.8712 - val_loss: 0.9203 - val_accuracy: 0.6564 - val_auc: 0.8008\n",
      "Epoch 22/25\n",
      "42/42 [==============================] - 89s 2s/step - loss: 0.7241 - accuracy: 0.7116 - auc: 0.8644 - val_loss: 0.9208 - val_accuracy: 0.6530 - val_auc: 0.8011\n",
      "Epoch 23/25\n",
      "42/42 [==============================] - 89s 2s/step - loss: 0.7217 - accuracy: 0.7190 - auc: 0.8666 - val_loss: 0.9264 - val_accuracy: 0.6530 - val_auc: 0.7993\n",
      "Epoch 24/25\n",
      "42/42 [==============================] - 88s 2s/step - loss: 0.7224 - accuracy: 0.7141 - auc: 0.8687 - val_loss: 0.9219 - val_accuracy: 0.6541 - val_auc: 0.8003\n",
      "Epoch 25/25\n",
      "42/42 [==============================] - 88s 2s/step - loss: 0.7295 - accuracy: 0.7075 - auc: 0.8678 - val_loss: 0.9223 - val_accuracy: 0.6519 - val_auc: 0.8001\n",
      "oof_aucs {0: 0.8170433044433594, 1: 0.8063991665840149, 2: 0.8126775622367859, 3: 0.8191084265708923, 4: 0.801862895488739}\n"
     ]
    },
    {
     "data": {
      "text/html": [
       "<br/>Waiting for W&B process to finish, PID 2979<br/>Program ended successfully."
      ],
      "text/plain": [
       "<IPython.core.display.HTML object>"
      ]
     },
     "metadata": {},
     "output_type": "display_data"
    },
    {
     "data": {
      "application/vnd.jupyter.widget-view+json": {
       "model_id": "68ba631f6f7e4601a5499dab701d6341",
       "version_major": 2,
       "version_minor": 0
      },
      "text/plain": [
       "VBox(children=(Label(value=' 63.51MB of 63.51MB uploaded (0.00MB deduped)\\r'), FloatProgress(value=1.0, max=1.…"
      ]
     },
     "metadata": {},
     "output_type": "display_data"
    },
    {
     "data": {
      "text/html": [
       "Find user logs for this run at: <code>/kaggle/working/wandb/run-20210729_213658-1luxwkwu/logs/debug.log</code>"
      ],
      "text/plain": [
       "<IPython.core.display.HTML object>"
      ]
     },
     "metadata": {},
     "output_type": "display_data"
    },
    {
     "data": {
      "text/html": [
       "Find internal logs for this run at: <code>/kaggle/working/wandb/run-20210729_213658-1luxwkwu/logs/debug-internal.log</code>"
      ],
      "text/plain": [
       "<IPython.core.display.HTML object>"
      ]
     },
     "metadata": {},
     "output_type": "display_data"
    },
    {
     "data": {
      "text/html": [
       "<h3>Run summary:</h3><br/><style>\n",
       "    table.wandb td:nth-child(1) { padding: 0 10px; text-align: right }\n",
       "    </style><table class=\"wandb\">\n",
       "<tr><td>epoch</td><td>24</td></tr><tr><td>loss</td><td>0.71189</td></tr><tr><td>accuracy</td><td>0.71987</td></tr><tr><td>auc</td><td>0.87333</td></tr><tr><td>val_loss</td><td>0.9223</td></tr><tr><td>val_accuracy</td><td>0.65193</td></tr><tr><td>val_auc</td><td>0.80014</td></tr><tr><td>_runtime</td><td>2844</td></tr><tr><td>_timestamp</td><td>1627597462</td></tr><tr><td>_step</td><td>24</td></tr><tr><td>best_val_loss</td><td>0.89183</td></tr><tr><td>best_epoch</td><td>13</td></tr></table>"
      ],
      "text/plain": [
       "<IPython.core.display.HTML object>"
      ]
     },
     "metadata": {},
     "output_type": "display_data"
    },
    {
     "data": {
      "text/html": [
       "<h3>Run history:</h3><br/><style>\n",
       "    table.wandb td:nth-child(1) { padding: 0 10px; text-align: right }\n",
       "    </style><table class=\"wandb\">\n",
       "<tr><td>epoch</td><td>▁▁▂▂▂▂▃▃▃▄▄▄▅▅▅▅▆▆▆▇▇▇▇██</td></tr><tr><td>loss</td><td>█▆▅▅▅▅▄▄▄▄▄▃▃▃▂▂▂▁▁▁▁▁▁▁▁</td></tr><tr><td>accuracy</td><td>▁▃▄▄▄▄▄▅▅▅▅▅▅▆▇▇▇████████</td></tr><tr><td>auc</td><td>▁▃▄▄▄▅▅▅▅▆▆▆▆▆▇▇█████████</td></tr><tr><td>val_loss</td><td>▆▃▂█▃▂▂▅▃▁▂▂▅▁▂▂▂▂▂▂▂▂▂▂▂</td></tr><tr><td>val_accuracy</td><td>▂▇▆▁▆▇▇▇▆▇█▇▄█▇▇▇▇▇▆▇▇▇▇▆</td></tr><tr><td>val_auc</td><td>▁▅▆▄▅▆▇▆▆▆▆▇▇▇███████████</td></tr><tr><td>_runtime</td><td>▁▁▂▂▂▃▃▃▄▄▄▄▅▅▅▆▆▆▆▇▇▇▇██</td></tr><tr><td>_timestamp</td><td>▁▁▂▂▂▃▃▃▄▄▄▄▅▅▅▆▆▆▆▇▇▇▇██</td></tr><tr><td>_step</td><td>▁▁▂▂▂▂▃▃▃▄▄▄▅▅▅▅▆▆▆▇▇▇▇██</td></tr></table><br/>"
      ],
      "text/plain": [
       "<IPython.core.display.HTML object>"
      ]
     },
     "metadata": {},
     "output_type": "display_data"
    },
    {
     "data": {
      "text/html": [
       "Synced 5 W&B file(s), 1 media file(s), 0 artifact file(s) and 1 other file(s)"
      ],
      "text/plain": [
       "<IPython.core.display.HTML object>"
      ]
     },
     "metadata": {},
     "output_type": "display_data"
    },
    {
     "data": {
      "text/html": [
       "\n",
       "                    <br/>Synced <strong style=\"color:#cdcd00\">efficientnetv2-l-21k-ft1k_fold4_job1</strong>: <a href=\"https://wandb.ai/haenara-shin/SIIM_classifier_public/runs/1luxwkwu\" target=\"_blank\">https://wandb.ai/haenara-shin/SIIM_classifier_public/runs/1luxwkwu</a><br/>\n",
       "                "
      ],
      "text/plain": [
       "<IPython.core.display.HTML object>"
      ]
     },
     "metadata": {},
     "output_type": "display_data"
    },
    {
     "name": "stdout",
     "output_type": "stream",
     "text": [
      "\n",
      "\n",
      "\n"
     ]
    },
    {
     "data": {
      "image/png": "[encoded data removed]",
      "text/plain": [
       "<Figure size 1080x360 with 2 Axes>"
      ]
     },
     "metadata": {},
     "output_type": "display_data"
    },
    {
     "name": "stdout",
     "output_type": "stream",
     "text": [
      "\n",
      "Fold: 5\n",
      "Running on TPU: grpc://10.0.0.2:8470\n",
      "Running on 8 replicas\n",
      "Train Job: efficientnetv2-l-21k-ft1k_fold5_job1 \n",
      "Config\n",
      "{'batch_size': 128,\n",
      " 'dataset': 'siim-covid19-images-metadata-256-512-768',\n",
      " 'fine_tune': 'True',\n",
      " 'fold': 5,\n",
      " 'input_dims': '(768, 768)',\n",
      " 'job': 1,\n",
      " 'job_name': 'efficientnetv2-l-21k-ft1k_fold5_job1',\n",
      " 'kfold': 7,\n",
      " 'loss_func': 'categorical_crossentropy',\n",
      " 'lr': '0.001',\n",
      " 'model_arch': 'efficientnetv2-l-21k-ft1k',\n",
      " 'n_epochs': 25,\n",
      " 'num_classes': 4,\n",
      " 'seed': 333,\n",
      " 'wandb_project': 'SIIM_classifier_public'}\n"
     ]
    },
    {
     "name": "stderr",
     "output_type": "stream",
     "text": [
      "\u001b[34m\u001b[1mwandb\u001b[0m: wandb version 0.11.1 is available!  To upgrade, please run:\n",
      "\u001b[34m\u001b[1mwandb\u001b[0m:  $ pip install wandb --upgrade\n"
     ]
    },
    {
     "data": {
      "text/html": [
       "\n",
       "                Tracking run with wandb version 0.10.33<br/>\n",
       "                Syncing run <strong style=\"color:#cdcd00\">efficientnetv2-l-21k-ft1k_fold5_job1</strong> to <a href=\"https://wandb.ai\" target=\"_blank\">Weights & Biases</a> <a href=\"https://docs.wandb.com/integrations/jupyter.html\" target=\"_blank\">(Documentation)</a>.<br/>\n",
       "                Project page: <a href=\"https://wandb.ai/haenara-shin/SIIM_classifier_public\" target=\"_blank\">https://wandb.ai/haenara-shin/SIIM_classifier_public</a><br/>\n",
       "                Run page: <a href=\"https://wandb.ai/haenara-shin/SIIM_classifier_public/runs/3v11wovr\" target=\"_blank\">https://wandb.ai/haenara-shin/SIIM_classifier_public/runs/3v11wovr</a><br/>\n",
       "                Run data is saved locally in <code>/kaggle/working/wandb/run-20210729_222512-3v11wovr</code><br/><br/>\n",
       "            "
      ],
      "text/plain": [
       "<IPython.core.display.HTML object>"
      ]
     },
     "metadata": {},
     "output_type": "display_data"
    },
    {
     "name": "stdout",
     "output_type": "stream",
     "text": [
      "Epoch 1/25\n",
      "42/42 [==============================] - 436s 4s/step - loss: 1.3293 - accuracy: 0.4917 - auc: 0.6098 - val_loss: 1.0897 - val_accuracy: 0.6243 - val_auc: 0.7303\n",
      "Epoch 2/25\n",
      "42/42 [==============================] - 89s 2s/step - loss: 1.0261 - accuracy: 0.6064 - auc: 0.6911 - val_loss: 0.9607 - val_accuracy: 0.6265 - val_auc: 0.7670\n",
      "Epoch 3/25\n",
      "42/42 [==============================] - 90s 2s/step - loss: 0.9706 - accuracy: 0.6307 - auc: 0.7279 - val_loss: 0.9010 - val_accuracy: 0.6586 - val_auc: 0.7787\n",
      "Epoch 4/25\n",
      "42/42 [==============================] - 89s 2s/step - loss: 0.9615 - accuracy: 0.6314 - auc: 0.7452 - val_loss: 0.8663 - val_accuracy: 0.6586 - val_auc: 0.7936\n",
      "Epoch 5/25\n",
      "42/42 [==============================] - 90s 2s/step - loss: 0.9642 - accuracy: 0.6375 - auc: 0.7489 - val_loss: 0.8686 - val_accuracy: 0.6586 - val_auc: 0.7901\n",
      "Epoch 6/25\n",
      "42/42 [==============================] - 88s 2s/step - loss: 0.9066 - accuracy: 0.6469 - auc: 0.7763 - val_loss: 0.8989 - val_accuracy: 0.6718 - val_auc: 0.7918\n",
      "Epoch 7/25\n",
      "42/42 [==============================] - 88s 2s/step - loss: 0.9314 - accuracy: 0.6420 - auc: 0.7604 - val_loss: 0.9327 - val_accuracy: 0.6696 - val_auc: 0.7790\n",
      "Epoch 8/25\n",
      "42/42 [==============================] - 88s 2s/step - loss: 0.8876 - accuracy: 0.6494 - auc: 0.7936 - val_loss: 0.8376 - val_accuracy: 0.6862 - val_auc: 0.8072\n",
      "Epoch 9/25\n",
      "42/42 [==============================] - 86s 2s/step - loss: 0.8569 - accuracy: 0.6638 - auc: 0.8098 - val_loss: 0.8300 - val_accuracy: 0.6807 - val_auc: 0.8137\n",
      "Epoch 10/25\n",
      "42/42 [==============================] - 89s 2s/step - loss: 0.8365 - accuracy: 0.6661 - auc: 0.8244 - val_loss: 0.8287 - val_accuracy: 0.6807 - val_auc: 0.8098\n",
      "Epoch 11/25\n",
      "42/42 [==============================] - 89s 2s/step - loss: 0.8039 - accuracy: 0.6799 - auc: 0.8326 - val_loss: 0.8323 - val_accuracy: 0.6840 - val_auc: 0.8114\n",
      "Epoch 12/25\n",
      "42/42 [==============================] - 88s 2s/step - loss: 0.8009 - accuracy: 0.6908 - auc: 0.8313 - val_loss: 0.8456 - val_accuracy: 0.6740 - val_auc: 0.8087\n",
      "Epoch 13/25\n",
      "42/42 [==============================] - 88s 2s/step - loss: 0.7940 - accuracy: 0.6915 - auc: 0.8361 - val_loss: 0.8407 - val_accuracy: 0.6895 - val_auc: 0.8122\n",
      "Epoch 14/25\n",
      "42/42 [==============================] - 88s 2s/step - loss: 0.7730 - accuracy: 0.6899 - auc: 0.8448 - val_loss: 0.8426 - val_accuracy: 0.6796 - val_auc: 0.8124\n",
      "Epoch 15/25\n",
      "42/42 [==============================] - 88s 2s/step - loss: 0.7634 - accuracy: 0.7015 - auc: 0.8523 - val_loss: 0.8426 - val_accuracy: 0.6751 - val_auc: 0.8137\n",
      "Epoch 16/25\n",
      "42/42 [==============================] - 88s 2s/step - loss: 0.7429 - accuracy: 0.7084 - auc: 0.8536 - val_loss: 0.8516 - val_accuracy: 0.6696 - val_auc: 0.8106\n",
      "Epoch 17/25\n",
      "42/42 [==============================] - 89s 2s/step - loss: 0.7397 - accuracy: 0.7057 - auc: 0.8603 - val_loss: 0.8462 - val_accuracy: 0.6707 - val_auc: 0.8134\n",
      "Epoch 18/25\n",
      "42/42 [==============================] - 88s 2s/step - loss: 0.7400 - accuracy: 0.7140 - auc: 0.8547 - val_loss: 0.8482 - val_accuracy: 0.6740 - val_auc: 0.8116\n",
      "Epoch 19/25\n",
      "42/42 [==============================] - 89s 2s/step - loss: 0.7443 - accuracy: 0.7070 - auc: 0.8529 - val_loss: 0.8461 - val_accuracy: 0.6707 - val_auc: 0.8116\n",
      "Epoch 20/25\n",
      "42/42 [==============================] - 92s 2s/step - loss: 0.7412 - accuracy: 0.7084 - auc: 0.8595 - val_loss: 0.8441 - val_accuracy: 0.6740 - val_auc: 0.8119\n",
      "Epoch 21/25\n",
      "42/42 [==============================] - 89s 2s/step - loss: 0.7396 - accuracy: 0.7032 - auc: 0.8621 - val_loss: 0.8489 - val_accuracy: 0.6718 - val_auc: 0.8121\n",
      "Epoch 22/25\n",
      "42/42 [==============================] - 89s 2s/step - loss: 0.7288 - accuracy: 0.7114 - auc: 0.8615 - val_loss: 0.8479 - val_accuracy: 0.6740 - val_auc: 0.8117\n",
      "Epoch 23/25\n",
      "42/42 [==============================] - 89s 2s/step - loss: 0.7286 - accuracy: 0.7142 - auc: 0.8610 - val_loss: 0.8456 - val_accuracy: 0.6740 - val_auc: 0.8131\n",
      "Epoch 24/25\n",
      "42/42 [==============================] - 88s 2s/step - loss: 0.7532 - accuracy: 0.7099 - auc: 0.8572 - val_loss: 0.8448 - val_accuracy: 0.6762 - val_auc: 0.8145\n",
      "Epoch 25/25\n",
      "42/42 [==============================] - 89s 2s/step - loss: 0.7373 - accuracy: 0.7053 - auc: 0.8571 - val_loss: 0.8440 - val_accuracy: 0.6729 - val_auc: 0.8136\n",
      "oof_aucs {0: 0.8170433044433594, 1: 0.8063991665840149, 2: 0.8126775622367859, 3: 0.8191084265708923, 4: 0.801862895488739, 5: 0.8144789934158325}\n"
     ]
    },
    {
     "data": {
      "text/html": [
       "<br/>Waiting for W&B process to finish, PID 3691<br/>Program ended successfully."
      ],
      "text/plain": [
       "<IPython.core.display.HTML object>"
      ]
     },
     "metadata": {},
     "output_type": "display_data"
    },
    {
     "data": {
      "application/vnd.jupyter.widget-view+json": {
       "model_id": "3dfdb92ffe234ac2b434eea40e9fcdd4",
       "version_major": 2,
       "version_minor": 0
      },
      "text/plain": [
       "VBox(children=(Label(value=' 91.68MB of 91.68MB uploaded (0.00MB deduped)\\r'), FloatProgress(value=1.0, max=1.…"
      ]
     },
     "metadata": {},
     "output_type": "display_data"
    },
    {
     "data": {
      "text/html": [
       "Find user logs for this run at: <code>/kaggle/working/wandb/run-20210729_222512-3v11wovr/logs/debug.log</code>"
      ],
      "text/plain": [
       "<IPython.core.display.HTML object>"
      ]
     },
     "metadata": {},
     "output_type": "display_data"
    },
    {
     "data": {
      "text/html": [
       "Find internal logs for this run at: <code>/kaggle/working/wandb/run-20210729_222512-3v11wovr/logs/debug-internal.log</code>"
      ],
      "text/plain": [
       "<IPython.core.display.HTML object>"
      ]
     },
     "metadata": {},
     "output_type": "display_data"
    },
    {
     "data": {
      "text/html": [
       "<h3>Run summary:</h3><br/><style>\n",
       "    table.wandb td:nth-child(1) { padding: 0 10px; text-align: right }\n",
       "    </style><table class=\"wandb\">\n",
       "<tr><td>epoch</td><td>24</td></tr><tr><td>loss</td><td>0.73671</td></tr><tr><td>accuracy</td><td>0.70629</td></tr><tr><td>auc</td><td>0.85931</td></tr><tr><td>val_loss</td><td>0.84402</td></tr><tr><td>val_accuracy</td><td>0.67293</td></tr><tr><td>val_auc</td><td>0.81363</td></tr><tr><td>_runtime</td><td>2824</td></tr><tr><td>_timestamp</td><td>1627600336</td></tr><tr><td>_step</td><td>24</td></tr><tr><td>best_val_loss</td><td>0.82875</td></tr><tr><td>best_epoch</td><td>9</td></tr></table>"
      ],
      "text/plain": [
       "<IPython.core.display.HTML object>"
      ]
     },
     "metadata": {},
     "output_type": "display_data"
    },
    {
     "data": {
      "text/html": [
       "<h3>Run history:</h3><br/><style>\n",
       "    table.wandb td:nth-child(1) { padding: 0 10px; text-align: right }\n",
       "    </style><table class=\"wandb\">\n",
       "<tr><td>epoch</td><td>▁▁▂▂▂▂▃▃▃▄▄▄▅▅▅▅▆▆▆▇▇▇▇██</td></tr><tr><td>loss</td><td>█▅▅▄▄▄▄▃▃▂▂▂▂▁▁▁▁▁▁▁▁▁▁▁▁</td></tr><tr><td>accuracy</td><td>▁▄▅▅▅▅▅▆▇▆▆▇▇▇▇██████████</td></tr><tr><td>auc</td><td>▁▃▄▄▅▅▅▆▇▇▇▇▇████████████</td></tr><tr><td>val_loss</td><td>█▅▃▂▂▃▄▁▁▁▁▁▁▁▁▂▁▂▁▁▂▂▁▁▁</td></tr><tr><td>val_accuracy</td><td>▁▁▅▅▅▆▆█▇▇▇▆█▇▆▆▆▆▆▆▆▆▆▇▆</td></tr><tr><td>val_auc</td><td>▁▄▅▆▆▆▅▇█████████████████</td></tr><tr><td>_runtime</td><td>▁▁▂▂▂▃▃▃▄▄▄▅▅▅▅▆▆▆▆▇▇▇▇██</td></tr><tr><td>_timestamp</td><td>▁▁▂▂▂▃▃▃▄▄▄▅▅▅▅▆▆▆▆▇▇▇▇██</td></tr><tr><td>_step</td><td>▁▁▂▂▂▂▃▃▃▄▄▄▅▅▅▅▆▆▆▇▇▇▇██</td></tr></table><br/>"
      ],
      "text/plain": [
       "<IPython.core.display.HTML object>"
      ]
     },
     "metadata": {},
     "output_type": "display_data"
    },
    {
     "data": {
      "text/html": [
       "Synced 5 W&B file(s), 1 media file(s), 0 artifact file(s) and 1 other file(s)"
      ],
      "text/plain": [
       "<IPython.core.display.HTML object>"
      ]
     },
     "metadata": {},
     "output_type": "display_data"
    },
    {
     "data": {
      "text/html": [
       "\n",
       "                    <br/>Synced <strong style=\"color:#cdcd00\">efficientnetv2-l-21k-ft1k_fold5_job1</strong>: <a href=\"https://wandb.ai/haenara-shin/SIIM_classifier_public/runs/3v11wovr\" target=\"_blank\">https://wandb.ai/haenara-shin/SIIM_classifier_public/runs/3v11wovr</a><br/>\n",
       "                "
      ],
      "text/plain": [
       "<IPython.core.display.HTML object>"
      ]
     },
     "metadata": {},
     "output_type": "display_data"
    },
    {
     "name": "stdout",
     "output_type": "stream",
     "text": [
      "\n",
      "\n",
      "\n"
     ]
    },
    {
     "data": {
      "image/png": "[encoded data removed]",
      "text/plain": [
       "<Figure size 1080x360 with 2 Axes>"
      ]
     },
     "metadata": {},
     "output_type": "display_data"
    },
    {
     "name": "stdout",
     "output_type": "stream",
     "text": [
      "\n",
      "Fold: 6\n",
      "Running on TPU: grpc://10.0.0.2:8470\n",
      "Running on 8 replicas\n",
      "Train Job: efficientnetv2-l-21k-ft1k_fold6_job1 \n",
      "Config\n",
      "{'batch_size': 128,\n",
      " 'dataset': 'siim-covid19-images-metadata-256-512-768',\n",
      " 'fine_tune': 'True',\n",
      " 'fold': 6,\n",
      " 'input_dims': '(768, 768)',\n",
      " 'job': 1,\n",
      " 'job_name': 'efficientnetv2-l-21k-ft1k_fold6_job1',\n",
      " 'kfold': 7,\n",
      " 'loss_func': 'categorical_crossentropy',\n",
      " 'lr': '0.001',\n",
      " 'model_arch': 'efficientnetv2-l-21k-ft1k',\n",
      " 'n_epochs': 25,\n",
      " 'num_classes': 4,\n",
      " 'seed': 333,\n",
      " 'wandb_project': 'SIIM_classifier_public'}\n"
     ]
    },
    {
     "name": "stderr",
     "output_type": "stream",
     "text": [
      "\u001b[34m\u001b[1mwandb\u001b[0m: wandb version 0.11.1 is available!  To upgrade, please run:\n",
      "\u001b[34m\u001b[1mwandb\u001b[0m:  $ pip install wandb --upgrade\n"
     ]
    },
    {
     "data": {
      "text/html": [
       "\n",
       "                Tracking run with wandb version 0.10.33<br/>\n",
       "                Syncing run <strong style=\"color:#cdcd00\">efficientnetv2-l-21k-ft1k_fold6_job1</strong> to <a href=\"https://wandb.ai\" target=\"_blank\">Weights & Biases</a> <a href=\"https://docs.wandb.com/integrations/jupyter.html\" target=\"_blank\">(Documentation)</a>.<br/>\n",
       "                Project page: <a href=\"https://wandb.ai/haenara-shin/SIIM_classifier_public\" target=\"_blank\">https://wandb.ai/haenara-shin/SIIM_classifier_public</a><br/>\n",
       "                Run page: <a href=\"https://wandb.ai/haenara-shin/SIIM_classifier_public/runs/322ickn6\" target=\"_blank\">https://wandb.ai/haenara-shin/SIIM_classifier_public/runs/322ickn6</a><br/>\n",
       "                Run data is saved locally in <code>/kaggle/working/wandb/run-20210729_231304-322ickn6</code><br/><br/>\n",
       "            "
      ],
      "text/plain": [
       "<IPython.core.display.HTML object>"
      ]
     },
     "metadata": {},
     "output_type": "display_data"
    },
    {
     "name": "stdout",
     "output_type": "stream",
     "text": [
      "Epoch 1/25\n",
      "42/42 [==============================] - 446s 3s/step - loss: 1.2954 - accuracy: 0.4905 - auc: 0.5998 - val_loss: 1.1402 - val_accuracy: 0.5918 - val_auc: 0.7161\n",
      "Epoch 2/25\n",
      "42/42 [==============================] - 88s 2s/step - loss: 1.0323 - accuracy: 0.6008 - auc: 0.6900 - val_loss: 0.9252 - val_accuracy: 0.6670 - val_auc: 0.7446\n",
      "Epoch 3/25\n",
      "42/42 [==============================] - 88s 2s/step - loss: 1.0308 - accuracy: 0.6118 - auc: 0.6991 - val_loss: 0.8933 - val_accuracy: 0.6781 - val_auc: 0.7567\n",
      "Epoch 4/25\n",
      "42/42 [==============================] - 89s 2s/step - loss: 0.9839 - accuracy: 0.6185 - auc: 0.7337 - val_loss: 0.9919 - val_accuracy: 0.6095 - val_auc: 0.7671\n",
      "Epoch 5/25\n",
      "42/42 [==============================] - 87s 2s/step - loss: 0.9824 - accuracy: 0.6119 - auc: 0.7391 - val_loss: 0.8578 - val_accuracy: 0.6814 - val_auc: 0.7640\n",
      "Epoch 6/25\n",
      "42/42 [==============================] - 89s 2s/step - loss: 0.9544 - accuracy: 0.6313 - auc: 0.7558 - val_loss: 0.8505 - val_accuracy: 0.6770 - val_auc: 0.7813\n",
      "Epoch 7/25\n",
      "42/42 [==============================] - 89s 2s/step - loss: 0.9397 - accuracy: 0.6352 - auc: 0.7619 - val_loss: 0.9078 - val_accuracy: 0.6427 - val_auc: 0.7806\n",
      "Epoch 8/25\n",
      "42/42 [==============================] - 87s 2s/step - loss: 0.9385 - accuracy: 0.6344 - auc: 0.7658 - val_loss: 0.8555 - val_accuracy: 0.6715 - val_auc: 0.7726\n",
      "Epoch 9/25\n",
      "42/42 [==============================] - 88s 2s/step - loss: 0.9273 - accuracy: 0.6453 - auc: 0.7653 - val_loss: 0.8480 - val_accuracy: 0.6715 - val_auc: 0.7874\n",
      "Epoch 10/25\n",
      "42/42 [==============================] - 90s 2s/step - loss: 0.9064 - accuracy: 0.6426 - auc: 0.7850 - val_loss: 0.8424 - val_accuracy: 0.6681 - val_auc: 0.7882\n",
      "Epoch 11/25\n",
      "42/42 [==============================] - 89s 2s/step - loss: 0.8899 - accuracy: 0.6570 - auc: 0.7955 - val_loss: 0.8439 - val_accuracy: 0.6781 - val_auc: 0.7833\n",
      "Epoch 12/25\n",
      "42/42 [==============================] - 88s 2s/step - loss: 0.8755 - accuracy: 0.6608 - auc: 0.7922 - val_loss: 0.8689 - val_accuracy: 0.6681 - val_auc: 0.7998\n",
      "Epoch 13/25\n",
      "42/42 [==============================] - 88s 2s/step - loss: 0.9100 - accuracy: 0.6519 - auc: 0.7827 - val_loss: 0.8814 - val_accuracy: 0.6615 - val_auc: 0.7855\n",
      "Epoch 14/25\n",
      "42/42 [==============================] - 88s 2s/step - loss: 0.8620 - accuracy: 0.6604 - auc: 0.8150 - val_loss: 0.8129 - val_accuracy: 0.6914 - val_auc: 0.8094\n",
      "Epoch 15/25\n",
      "42/42 [==============================] - 89s 2s/step - loss: 0.7837 - accuracy: 0.6943 - auc: 0.8399 - val_loss: 0.8162 - val_accuracy: 0.7002 - val_auc: 0.8095\n",
      "Epoch 16/25\n",
      "42/42 [==============================] - 88s 2s/step - loss: 0.7897 - accuracy: 0.6946 - auc: 0.8421 - val_loss: 0.8290 - val_accuracy: 0.6892 - val_auc: 0.8055\n",
      "Epoch 17/25\n",
      "42/42 [==============================] - 88s 2s/step - loss: 0.7642 - accuracy: 0.7024 - auc: 0.8482 - val_loss: 0.8273 - val_accuracy: 0.6903 - val_auc: 0.8143\n",
      "Epoch 18/25\n",
      "42/42 [==============================] - 89s 2s/step - loss: 0.7526 - accuracy: 0.7099 - auc: 0.8603 - val_loss: 0.8304 - val_accuracy: 0.6914 - val_auc: 0.8109\n",
      "Epoch 19/25\n",
      "42/42 [==============================] - 88s 2s/step - loss: 0.7346 - accuracy: 0.7072 - auc: 0.8643 - val_loss: 0.8267 - val_accuracy: 0.6936 - val_auc: 0.8114\n",
      "Epoch 20/25\n",
      "42/42 [==============================] - 88s 2s/step - loss: 0.7429 - accuracy: 0.7113 - auc: 0.8570 - val_loss: 0.8346 - val_accuracy: 0.6892 - val_auc: 0.8102\n",
      "Epoch 21/25\n",
      "42/42 [==============================] - 91s 2s/step - loss: 0.7483 - accuracy: 0.7087 - auc: 0.8598 - val_loss: 0.8350 - val_accuracy: 0.6858 - val_auc: 0.8108\n",
      "Epoch 22/25\n",
      "42/42 [==============================] - 87s 2s/step - loss: 0.7500 - accuracy: 0.7056 - auc: 0.8572 - val_loss: 0.8320 - val_accuracy: 0.6892 - val_auc: 0.8126\n",
      "Epoch 23/25\n",
      "42/42 [==============================] - 89s 2s/step - loss: 0.7506 - accuracy: 0.7065 - auc: 0.8590 - val_loss: 0.8332 - val_accuracy: 0.6858 - val_auc: 0.8121\n",
      "Epoch 24/25\n",
      "42/42 [==============================] - 88s 2s/step - loss: 0.7443 - accuracy: 0.7089 - auc: 0.8593 - val_loss: 0.8372 - val_accuracy: 0.6847 - val_auc: 0.8089\n",
      "Epoch 25/25\n",
      "42/42 [==============================] - 88s 2s/step - loss: 0.7496 - accuracy: 0.7013 - auc: 0.8606 - val_loss: 0.8381 - val_accuracy: 0.6836 - val_auc: 0.8116\n",
      "oof_aucs {0: 0.8170433044433594, 1: 0.8063991665840149, 2: 0.8126775622367859, 3: 0.8191084265708923, 4: 0.801862895488739, 5: 0.8144789934158325, 6: 0.8142947554588318}\n"
     ]
    },
    {
     "data": {
      "text/html": [
       "<br/>Waiting for W&B process to finish, PID 4397<br/>Program ended successfully."
      ],
      "text/plain": [
       "<IPython.core.display.HTML object>"
      ]
     },
     "metadata": {},
     "output_type": "display_data"
    },
    {
     "data": {
      "application/vnd.jupyter.widget-view+json": {
       "model_id": "337059481b414667b78ed7398a2a482a",
       "version_major": 2,
       "version_minor": 0
      },
      "text/plain": [
       "VBox(children=(Label(value=' 450.36MB of 450.36MB uploaded (0.00MB deduped)\\r'), FloatProgress(value=1.0, max=…"
      ]
     },
     "metadata": {},
     "output_type": "display_data"
    },
    {
     "data": {
      "text/html": [
       "Find user logs for this run at: <code>/kaggle/working/wandb/run-20210729_231304-322ickn6/logs/debug.log</code>"
      ],
      "text/plain": [
       "<IPython.core.display.HTML object>"
      ]
     },
     "metadata": {},
     "output_type": "display_data"
    },
    {
     "data": {
      "text/html": [
       "Find internal logs for this run at: <code>/kaggle/working/wandb/run-20210729_231304-322ickn6/logs/debug-internal.log</code>"
      ],
      "text/plain": [
       "<IPython.core.display.HTML object>"
      ]
     },
     "metadata": {},
     "output_type": "display_data"
    },
    {
     "data": {
      "text/html": [
       "<h3>Run summary:</h3><br/><style>\n",
       "    table.wandb td:nth-child(1) { padding: 0 10px; text-align: right }\n",
       "    </style><table class=\"wandb\">\n",
       "<tr><td>epoch</td><td>24</td></tr><tr><td>loss</td><td>0.74071</td></tr><tr><td>accuracy</td><td>0.70703</td></tr><tr><td>auc</td><td>0.86132</td></tr><tr><td>val_loss</td><td>0.83808</td></tr><tr><td>val_accuracy</td><td>0.68363</td></tr><tr><td>val_auc</td><td>0.81162</td></tr><tr><td>_runtime</td><td>2856</td></tr><tr><td>_timestamp</td><td>1627603241</td></tr><tr><td>_step</td><td>24</td></tr><tr><td>best_val_loss</td><td>0.81286</td></tr><tr><td>best_epoch</td><td>13</td></tr></table>"
      ],
      "text/plain": [
       "<IPython.core.display.HTML object>"
      ]
     },
     "metadata": {},
     "output_type": "display_data"
    },
    {
     "data": {
      "text/html": [
       "<h3>Run history:</h3><br/><style>\n",
       "    table.wandb td:nth-child(1) { padding: 0 10px; text-align: right }\n",
       "    </style><table class=\"wandb\">\n",
       "<tr><td>epoch</td><td>▁▁▂▂▂▂▃▃▃▄▄▄▅▅▅▅▆▆▆▇▇▇▇██</td></tr><tr><td>loss</td><td>█▆▅▅▅▅▄▄▄▄▄▃▃▃▂▂▁▁▁▁▁▁▁▁▁</td></tr><tr><td>accuracy</td><td>▁▃▄▄▄▄▅▄▅▅▅▆▆▆▇▇▇███████▇</td></tr><tr><td>auc</td><td>▁▃▃▄▄▅▅▅▅▆▆▆▆▇▇▇█████████</td></tr><tr><td>val_loss</td><td>█▃▃▅▂▂▃▂▂▂▂▂▂▁▁▁▁▁▁▁▁▁▁▂▂</td></tr><tr><td>val_accuracy</td><td>▁▆▇▂▇▇▄▆▆▆▇▆▆▇█▇▇▇█▇▇▇▇▇▇</td></tr><tr><td>val_auc</td><td>▁▃▄▅▄▆▆▅▆▆▆▇▆██▇█████████</td></tr><tr><td>_runtime</td><td>▁▁▂▂▂▃▃▃▄▄▄▄▅▅▅▆▆▆▆▇▇▇▇██</td></tr><tr><td>_timestamp</td><td>▁▁▂▂▂▃▃▃▄▄▄▄▅▅▅▆▆▆▆▇▇▇▇██</td></tr><tr><td>_step</td><td>▁▁▂▂▂▂▃▃▃▄▄▄▅▅▅▅▆▆▆▇▇▇▇██</td></tr></table><br/>"
      ],
      "text/plain": [
       "<IPython.core.display.HTML object>"
      ]
     },
     "metadata": {},
     "output_type": "display_data"
    },
    {
     "data": {
      "text/html": [
       "Synced 5 W&B file(s), 1 media file(s), 0 artifact file(s) and 1 other file(s)"
      ],
      "text/plain": [
       "<IPython.core.display.HTML object>"
      ]
     },
     "metadata": {},
     "output_type": "display_data"
    },
    {
     "data": {
      "text/html": [
       "\n",
       "                    <br/>Synced <strong style=\"color:#cdcd00\">efficientnetv2-l-21k-ft1k_fold6_job1</strong>: <a href=\"https://wandb.ai/haenara-shin/SIIM_classifier_public/runs/322ickn6\" target=\"_blank\">https://wandb.ai/haenara-shin/SIIM_classifier_public/runs/322ickn6</a><br/>\n",
       "                "
      ],
      "text/plain": [
       "<IPython.core.display.HTML object>"
      ]
     },
     "metadata": {},
     "output_type": "display_data"
    },
    {
     "name": "stdout",
     "output_type": "stream",
     "text": [
      "\n",
      "\n",
      "\n"
     ]
    },
    {
     "data": {
      "image/png": "[encoded data removed]",
      "text/plain": [
       "<Figure size 1080x360 with 2 Axes>"
      ]
     },
     "metadata": {},
     "output_type": "display_data"
    },
    {
     "name": "stdout",
     "output_type": "stream",
     "text": [
      "\n",
      "----------------------------------------\n",
      "CV AUC: 0.8122664434569222\n",
      "----------------------------------------\n"
     ]
    }
   ],
   "source": [
    "DISPLAY_PLOT = True\n",
    "oof_aucs = dict()\n",
    "\n",
    "# Get the GCS path of the images from the Kaggle dataset\n",
    "GCS_DS_PATH = KaggleDatasets().get_gcs_path(cfg.dataset)\n",
    "\n",
    "for fold in range(cfg.kfold):\n",
    "    \n",
    "    print(\"\\nFold:\", fold)\n",
    "    \n",
    "    # Define TPU strategy and clear TPU\n",
    "    strategy = auto_select_accelerator()\n",
    "    \n",
    "    # Converting global config class object to a dictionary to log using Wandb\n",
    "    config_dict = dict(vars(Config))\n",
    "    config_dict = {k:(v if type(v)==int else str(v)) for (k,v) in config_dict.items() if '__' not in k}\n",
    "    config_dict['fold'] = fold\n",
    "    config_dict['job_name'] = f\"{config_dict['model_arch']}_fold{fold}_job{config_dict['job']}\"\n",
    "    print(\"Train Job:\", config_dict['job_name'], \"\\nConfig\")\n",
    "    pprint.pprint(config_dict)\n",
    "\n",
    "    wandb.init(project=cfg.wandb_project, name=config_dict['job_name'], config=config_dict)\n",
    "\n",
    "    valid_paths = GCS_DS_PATH + '/images_metadata_256_512_768/train_768x768/' + df[df['fold']==fold]['id'] + '.png' #\"/train/\"\n",
    "    train_paths = GCS_DS_PATH + '/images_metadata_256_512_768/train_768x768/' + df[df['fold']!=fold]['id'] + '.png' #\"/train/\" \n",
    "    valid_labels = df[df['fold']==fold][label_cols].values\n",
    "    train_labels = df[df['fold']!=fold][label_cols].values\n",
    "\n",
    "    decoder = build_decoder(with_labels=True, target_size=cfg.input_dims, ext='png')\n",
    "    test_decoder = build_decoder(with_labels=False, target_size=cfg.input_dims, ext='png')\n",
    "\n",
    "    train_dataset = build_dataset(\n",
    "        train_paths, train_labels, bsize=cfg.batch_size, decode_fn=decoder\n",
    "    )\n",
    "\n",
    "    valid_dataset = build_dataset(\n",
    "        valid_paths, valid_labels, bsize=cfg.batch_size, decode_fn=decoder,\n",
    "        repeat=False, shuffle=False, augment=False\n",
    "    )\n",
    "\n",
    "    num_classes = cfg.num_classes if cfg.num_classes else train_labels.shape[1]\n",
    "\n",
    "    with strategy.scope():\n",
    "        model = tf.keras.Sequential([\n",
    "            # Explicitly define the input shape so the model can be properly\n",
    "            # loaded by the TFLiteConverter\n",
    "            tf.keras.layers.InputLayer(input_shape=[cfg.input_dims[0], cfg.input_dims[1], 3]),\n",
    "            tfhub.KerasLayer(MODEL_GCS_PATH, trainable=cfg.fine_tune),\n",
    "            tf.keras.layers.Dropout(rate=0.1),\n",
    "            tf.keras.layers.Dense(num_classes,\n",
    "                                  activation='softmax')\n",
    "        ])\n",
    "\n",
    "        model.build((None, cfg.input_dims[0], cfg.input_dims[1], 3))\n",
    "#         model.summary()\n",
    "\n",
    "        metrics = ['accuracy', tf.keras.metrics.AUC(name='auc', multi_label=True)]\n",
    "        model.compile(\n",
    "          optimizer=tf.keras.optimizers.Adam(learning_rate=cfg.lr),\n",
    "          loss=cfg.loss_func,\n",
    "          metrics=metrics)\n",
    "\n",
    "    steps_per_epoch = train_paths.shape[0] // cfg.batch_size\n",
    "    callbacks = [\n",
    "        tf.keras.callbacks.ModelCheckpoint(f'model{fold}.h5',\n",
    "                                           save_best_only=True,\n",
    "                                           monitor='val_loss',\n",
    "                                           mode='min'),\n",
    "        wandb.keras.WandbCallback(save_model=True,\n",
    "                      monitor='val_loss',\n",
    "                      mode='min'),\n",
    "        tf.keras.callbacks.ReduceLROnPlateau(monitor=\"val_loss\",\n",
    "                                             patience=3,\n",
    "                                             min_lr=1e-6,\n",
    "                                             mode='min'),\n",
    "                ]\n",
    "\n",
    "    history = model.fit(\n",
    "        train_dataset, \n",
    "        epochs=cfg.n_epochs,\n",
    "        verbose=1,\n",
    "        callbacks=callbacks,\n",
    "        steps_per_epoch=steps_per_epoch,\n",
    "        validation_data=valid_dataset)\n",
    "\n",
    "    history_df = pd.DataFrame(history.history)\n",
    "    history_df.to_csv(f'history{fold}.csv')\n",
    "\n",
    "    del decoder, test_decoder, train_dataset, valid_dataset, model\n",
    "    gc.collect()\n",
    "\n",
    "    oof_aucs[fold] = float(np.max(history.history['val_auc']))\n",
    "    print(\"oof_aucs\", oof_aucs)\n",
    "    \n",
    "    wandb.finish()\n",
    "    \n",
    "    # Plot Training History\n",
    "    if DISPLAY_PLOT:\n",
    "        print (\"\\n\\n\")\n",
    "        plt.figure(figsize=(15,5))\n",
    "        plt.plot(np.arange(len(history.history['auc'])), history.history['auc'],\n",
    "                 '-o', label='Train auc', color='#ff7f0e')\n",
    "        plt.plot(np.arange(len(history.history['auc'])), history.history['val_auc'],\n",
    "                 '-o', label='Val auc', color='#1f77b4')\n",
    "        x = np.argmax(history.history['val_auc'])\n",
    "        y = np.max(history.history['val_auc'])\n",
    "        xdist = plt.xlim()[1] - plt.xlim()[0]\n",
    "        ydist = plt.ylim()[1] - plt.ylim()[0]\n",
    "        plt.scatter(x,y,s=200, color='#1f77b4')\n",
    "        plt.text(x-0.03*xdist, y-0.13*ydist, 'Max AUC\\n%.2f'%y, size=10)\n",
    "        plt.ylabel('auc', size=14)\n",
    "        plt.xlabel('Epoch', size=14)\n",
    "        plt.legend(loc=2)\n",
    "\n",
    "        plt2 = plt.gca().twinx()\n",
    "        plt2.plot(np.arange(len(history.history['auc'])),\n",
    "                  history.history['loss'],'-o', label='Train Loss', color='#2ca02c')\n",
    "        plt2.plot(np.arange(len(history.history['auc'])),\n",
    "                  history.history['val_loss'],'-o', label='Val Loss', color='#d62728')\n",
    "        x = np.argmin(history.history['val_loss'])\n",
    "        y = np.min(history.history['val_loss'])\n",
    "        ydist = plt.ylim()[1] - plt.ylim()[0]\n",
    "        plt.scatter(x, y, s=200, color='#d62728')\n",
    "        plt.text(x-0.03*xdist, y+0.05*ydist,'Min Loss', size=10)\n",
    "        plt.ylabel('Loss', size=14)\n",
    "        plt.title(f\"{config_dict['job_name']} Size - {cfg.input_dims}\")\n",
    "        plt.legend(loc=3)\n",
    "        plt.savefig(f'fig{fold}.png')\n",
    "        plt.show()\n",
    "        \n",
    "print(\"\\n\"+\"-\"*40)\n",
    "print(\"CV AUC:\", sum(list(oof_aucs.values()))/cfg.kfold)\n",
    "print(\"-\"*40)"
   ]
  },
  {
   "cell_type": "code",
   "execution_count": 10,
   "metadata": {
    "execution": {
     "iopub.execute_input": "2021-07-30T00:01:36.289928Z",
     "iopub.status.busy": "2021-07-30T00:01:36.205312Z",
     "iopub.status.idle": "2021-07-30T00:01:37.591897Z",
     "shell.execute_reply": "2021-07-30T00:01:37.590959Z"
    },
    "papermill": {
     "duration": 3.748494,
     "end_time": "2021-07-30T00:01:37.592041",
     "exception": false,
     "start_time": "2021-07-30T00:01:33.843547",
     "status": "completed"
    },
    "tags": []
   },
   "outputs": [],
   "source": [
    "!rm -r /kaggle/working/wandb"
   ]
  },
  {
   "cell_type": "markdown",
   "metadata": {
    "papermill": {
     "duration": 2.548889,
     "end_time": "2021-07-30T00:01:42.550949",
     "exception": false,
     "start_time": "2021-07-30T00:01:40.002060",
     "status": "completed"
    },
    "tags": []
   },
   "source": [
    "<p style='text-align: center;'><span style=\"color: #000508; font-family: Segoe UI; font-size: 2.7em; font-weight: 300;\">HAVE A GREAT DAY!</span></p>\n",
    "\n",
    "<p style='text-align: center;'><span style=\"color: #000508; font-family: Segoe UI; font-size: 1.3em; font-weight: 300;\">Let me know if you have any suggestions!</span></p>"
   ]
  }
 ],
 "metadata": {
  "kernelspec": {
   "display_name": "Python 3",
   "language": "python",
   "name": "python3"
  },
  "language_info": {
   "codemirror_mode": {
    "name": "ipython",
    "version": 3
   },
   "file_extension": ".py",
   "mimetype": "text/x-python",
   "name": "python",
   "nbconvert_exporter": "python",
   "pygments_lexer": "ipython3",
   "version": "3.7.6"
  },
  "papermill": {
   "default_parameters": {},
   "duration": 20184.979068,
   "end_time": "2021-07-30T00:01:48.450902",
   "environment_variables": {},
   "exception": null,
   "input_path": "__notebook__.ipynb",
   "output_path": "__notebook__.ipynb",
   "parameters": {},
   "start_time": "2021-07-29T18:25:23.471834",
   "version": "2.3.3"
  },
  "widgets": {
   "application/vnd.jupyter.widget-state+json": {
    "state": {
     "01502b567cc84078ba6fba17aec359a7": {
      "model_module": "@jupyter-widgets/controls",
      "model_module_version": "1.5.0",
      "model_name": "ProgressStyleModel",
      "state": {
       "_model_module": "@jupyter-widgets/controls",
       "_model_module_version": "1.5.0",
       "_model_name": "ProgressStyleModel",
       "_view_count": null,
       "_view_module": "@jupyter-widgets/base",
       "_view_module_version": "1.2.0",
       "_view_name": "StyleView",
       "bar_color": null,
       "description_width": ""
      }
     },
     "06860d5e08434fd1bbe738858b4605c2": {
      "model_module": "@jupyter-widgets/base",
      "model_module_version": "1.2.0",
      "model_name": "LayoutModel",
      "state": {
       "_model_module": "@jupyter-widgets/base",
       "_model_module_version": "1.2.0",
       "_model_name": "LayoutModel",
       "_view_count": null,
       "_view_module": "@jupyter-widgets/base",
       "_view_module_version": "1.2.0",
       "_view_name": "LayoutView",
       "align_content": null,
       "align_items": null,
       "align_self": null,
       "border": null,
       "bottom": null,
       "display": null,
       "flex": null,
       "flex_flow": null,
       "grid_area": null,
       "grid_auto_columns": null,
       "grid_auto_flow": null,
       "grid_auto_rows": null,
       "grid_column": null,
       "grid_gap": null,
       "grid_row": null,
       "grid_template_areas": null,
       "grid_template_columns": null,
       "grid_template_rows": null,
       "height": null,
       "justify_content": null,
       "justify_items": null,
       "left": null,
       "margin": null,
       "max_height": null,
       "max_width": null,
       "min_height": null,
       "min_width": null,
       "object_fit": null,
       "object_position": null,
       "order": null,
       "overflow": null,
       "overflow_x": null,
       "overflow_y": null,
       "padding": null,
       "right": null,
       "top": null,
       "visibility": null,
       "width": null
      }
     },
     "16cfcc73a3774edebaf43d015528550b": {
      "model_module": "@jupyter-widgets/controls",
      "model_module_version": "1.5.0",
      "model_name": "FloatProgressModel",
      "state": {
       "_dom_classes": [],
       "_model_module": "@jupyter-widgets/controls",
       "_model_module_version": "1.5.0",
       "_model_name": "FloatProgressModel",
       "_view_count": null,
       "_view_module": "@jupyter-widgets/controls",
       "_view_module_version": "1.5.0",
       "_view_name": "ProgressView",
       "bar_style": "",
       "description": "",
       "description_tooltip": null,
       "layout": "IPY_MODEL_a07ed33fdb4c4dea9f01a7bb4ad8d40e",
       "max": 1,
       "min": 0,
       "orientation": "horizontal",
       "style": "IPY_MODEL_fc00162a80344a63a4012fc9ab33a5b9",
       "value": 1
      }
     },
     "19b5d81a57fe4e77a062a00d4d0c3430": {
      "model_module": "@jupyter-widgets/base",
      "model_module_version": "1.2.0",
      "model_name": "LayoutModel",
      "state": {
       "_model_module": "@jupyter-widgets/base",
       "_model_module_version": "1.2.0",
       "_model_name": "LayoutModel",
       "_view_count": null,
       "_view_module": "@jupyter-widgets/base",
       "_view_module_version": "1.2.0",
       "_view_name": "LayoutView",
       "align_content": null,
       "align_items": null,
       "align_self": null,
       "border": null,
       "bottom": null,
       "display": null,
       "flex": null,
       "flex_flow": null,
       "grid_area": null,
       "grid_auto_columns": null,
       "grid_auto_flow": null,
       "grid_auto_rows": null,
       "grid_column": null,
       "grid_gap": null,
       "grid_row": null,
       "grid_template_areas": null,
       "grid_template_columns": null,
       "grid_template_rows": null,
       "height": null,
       "justify_content": null,
       "justify_items": null,
       "left": null,
       "margin": null,
       "max_height": null,
       "max_width": null,
       "min_height": null,
       "min_width": null,
       "object_fit": null,
       "object_position": null,
       "order": null,
       "overflow": null,
       "overflow_x": null,
       "overflow_y": null,
       "padding": null,
       "right": null,
       "top": null,
       "visibility": null,
       "width": null
      }
     },
     "1b2ddf59b2f54c7f90880f2727e57c4a": {
      "model_module": "@jupyter-widgets/controls",
      "model_module_version": "1.5.0",
      "model_name": "LabelModel",
      "state": {
       "_dom_classes": [],
       "_model_module": "@jupyter-widgets/controls",
       "_model_module_version": "1.5.0",
       "_model_name": "LabelModel",
       "_view_count": null,
       "_view_module": "@jupyter-widgets/controls",
       "_view_module_version": "1.5.0",
       "_view_name": "LabelView",
       "description": "",
       "description_tooltip": null,
       "layout": "IPY_MODEL_675e32e0f94f47de8543c75df8c6b485",
       "placeholder": "​",
       "style": "IPY_MODEL_37d2b35dde714e8b98ae38979a402402",
       "value": " 1347.04MB of 1347.04MB uploaded (0.00MB deduped)\r"
      }
     },
     "1b4be98d329b4e7891e02a943bbc96b3": {
      "model_module": "@jupyter-widgets/controls",
      "model_module_version": "1.5.0",
      "model_name": "LabelModel",
      "state": {
       "_dom_classes": [],
       "_model_module": "@jupyter-widgets/controls",
       "_model_module_version": "1.5.0",
       "_model_name": "LabelModel",
       "_view_count": null,
       "_view_module": "@jupyter-widgets/controls",
       "_view_module_version": "1.5.0",
       "_view_name": "LabelView",
       "description": "",
       "description_tooltip": null,
       "layout": "IPY_MODEL_1fe1cb63a3ec4cb5b63ff54c0b8ae5da",
       "placeholder": "​",
       "style": "IPY_MODEL_2853530655e14ac3a736dee4e0136162",
       "value": " 1347.04MB of 1347.04MB uploaded (0.00MB deduped)\r"
      }
     },
     "1be78ee497ec409db0407007796d0bd5": {
      "model_module": "@jupyter-widgets/base",
      "model_module_version": "1.2.0",
      "model_name": "LayoutModel",
      "state": {
       "_model_module": "@jupyter-widgets/base",
       "_model_module_version": "1.2.0",
       "_model_name": "LayoutModel",
       "_view_count": null,
       "_view_module": "@jupyter-widgets/base",
       "_view_module_version": "1.2.0",
       "_view_name": "LayoutView",
       "align_content": null,
       "align_items": null,
       "align_self": null,
       "border": null,
       "bottom": null,
       "display": null,
       "flex": null,
       "flex_flow": null,
       "grid_area": null,
       "grid_auto_columns": null,
       "grid_auto_flow": null,
       "grid_auto_rows": null,
       "grid_column": null,
       "grid_gap": null,
       "grid_row": null,
       "grid_template_areas": null,
       "grid_template_columns": null,
       "grid_template_rows": null,
       "height": null,
       "justify_content": null,
       "justify_items": null,
       "left": null,
       "margin": null,
       "max_height": null,
       "max_width": null,
       "min_height": null,
       "min_width": null,
       "object_fit": null,
       "object_position": null,
       "order": null,
       "overflow": null,
       "overflow_x": null,
       "overflow_y": null,
       "padding": null,
       "right": null,
       "top": null,
       "visibility": null,
       "width": null
      }
     },
     "1fe1cb63a3ec4cb5b63ff54c0b8ae5da": {
      "model_module": "@jupyter-widgets/base",
      "model_module_version": "1.2.0",
      "model_name": "LayoutModel",
      "state": {
       "_model_module": "@jupyter-widgets/base",
       "_model_module_version": "1.2.0",
       "_model_name": "LayoutModel",
       "_view_count": null,
       "_view_module": "@jupyter-widgets/base",
       "_view_module_version": "1.2.0",
       "_view_name": "LayoutView",
       "align_content": null,
       "align_items": null,
       "align_self": null,
       "border": null,
       "bottom": null,
       "display": null,
       "flex": null,
       "flex_flow": null,
       "grid_area": null,
       "grid_auto_columns": null,
       "grid_auto_flow": null,
       "grid_auto_rows": null,
       "grid_column": null,
       "grid_gap": null,
       "grid_row": null,
       "grid_template_areas": null,
       "grid_template_columns": null,
       "grid_template_rows": null,
       "height": null,
       "justify_content": null,
       "justify_items": null,
       "left": null,
       "margin": null,
       "max_height": null,
       "max_width": null,
       "min_height": null,
       "min_width": null,
       "object_fit": null,
       "object_position": null,
       "order": null,
       "overflow": null,
       "overflow_x": null,
       "overflow_y": null,
       "padding": null,
       "right": null,
       "top": null,
       "visibility": null,
       "width": null
      }
     },
     "2853530655e14ac3a736dee4e0136162": {
      "model_module": "@jupyter-widgets/controls",
      "model_module_version": "1.5.0",
      "model_name": "DescriptionStyleModel",
      "state": {
       "_model_module": "@jupyter-widgets/controls",
       "_model_module_version": "1.5.0",
       "_model_name": "DescriptionStyleModel",
       "_view_count": null,
       "_view_module": "@jupyter-widgets/base",
       "_view_module_version": "1.2.0",
       "_view_name": "StyleView",
       "description_width": ""
      }
     },
     "2f9b43cacbec4977b09f351e093b397a": {
      "model_module": "@jupyter-widgets/controls",
      "model_module_version": "1.5.0",
      "model_name": "FloatProgressModel",
      "state": {
       "_dom_classes": [],
       "_model_module": "@jupyter-widgets/controls",
       "_model_module_version": "1.5.0",
       "_model_name": "FloatProgressModel",
       "_view_count": null,
       "_view_module": "@jupyter-widgets/controls",
       "_view_module_version": "1.5.0",
       "_view_name": "ProgressView",
       "bar_style": "",
       "description": "",
       "description_tooltip": null,
       "layout": "IPY_MODEL_ff4584a29df24bd59c0c3ebf343a773a",
       "max": 1,
       "min": 0,
       "orientation": "horizontal",
       "style": "IPY_MODEL_01502b567cc84078ba6fba17aec359a7",
       "value": 1
      }
     },
     "337059481b414667b78ed7398a2a482a": {
      "model_module": "@jupyter-widgets/controls",
      "model_module_version": "1.5.0",
      "model_name": "VBoxModel",
      "state": {
       "_dom_classes": [],
       "_model_module": "@jupyter-widgets/controls",
       "_model_module_version": "1.5.0",
       "_model_name": "VBoxModel",
       "_view_count": null,
       "_view_module": "@jupyter-widgets/controls",
       "_view_module_version": "1.5.0",
       "_view_name": "VBoxView",
       "box_style": "",
       "children": [
        "IPY_MODEL_1b4be98d329b4e7891e02a943bbc96b3",
        "IPY_MODEL_e59a75ac7945400fb80b953faec08bd1"
       ],
       "layout": "IPY_MODEL_afb427a4f34245c6b6d49fba3adc6519"
      }
     },
     "37b1b011ea7f481094c1bae109e6006f": {
      "model_module": "@jupyter-widgets/base",
      "model_module_version": "1.2.0",
      "model_name": "LayoutModel",
      "state": {
       "_model_module": "@jupyter-widgets/base",
       "_model_module_version": "1.2.0",
       "_model_name": "LayoutModel",
       "_view_count": null,
       "_view_module": "@jupyter-widgets/base",
       "_view_module_version": "1.2.0",
       "_view_name": "LayoutView",
       "align_content": null,
       "align_items": null,
       "align_self": null,
       "border": null,
       "bottom": null,
       "display": null,
       "flex": null,
       "flex_flow": null,
       "grid_area": null,
       "grid_auto_columns": null,
       "grid_auto_flow": null,
       "grid_auto_rows": null,
       "grid_column": null,
       "grid_gap": null,
       "grid_row": null,
       "grid_template_areas": null,
       "grid_template_columns": null,
       "grid_template_rows": null,
       "height": null,
       "justify_content": null,
       "justify_items": null,
       "left": null,
       "margin": null,
       "max_height": null,
       "max_width": null,
       "min_height": null,
       "min_width": null,
       "object_fit": null,
       "object_position": null,
       "order": null,
       "overflow": null,
       "overflow_x": null,
       "overflow_y": null,
       "padding": null,
       "right": null,
       "top": null,
       "visibility": null,
       "width": null
      }
     },
     "37d2b35dde714e8b98ae38979a402402": {
      "model_module": "@jupyter-widgets/controls",
      "model_module_version": "1.5.0",
      "model_name": "DescriptionStyleModel",
      "state": {
       "_model_module": "@jupyter-widgets/controls",
       "_model_module_version": "1.5.0",
       "_model_name": "DescriptionStyleModel",
       "_view_count": null,
       "_view_module": "@jupyter-widgets/base",
       "_view_module_version": "1.2.0",
       "_view_name": "StyleView",
       "description_width": ""
      }
     },
     "3bf0d5f957234607925fa9145da33ef8": {
      "model_module": "@jupyter-widgets/controls",
      "model_module_version": "1.5.0",
      "model_name": "LabelModel",
      "state": {
       "_dom_classes": [],
       "_model_module": "@jupyter-widgets/controls",
       "_model_module_version": "1.5.0",
       "_model_name": "LabelModel",
       "_view_count": null,
       "_view_module": "@jupyter-widgets/controls",
       "_view_module_version": "1.5.0",
       "_view_name": "LabelView",
       "description": "",
       "description_tooltip": null,
       "layout": "IPY_MODEL_93e3ce7c62004966b1108bd5c3bde168",
       "placeholder": "​",
       "style": "IPY_MODEL_e900240072bd4b3fb14ba910f526b17c",
       "value": " 1347.04MB of 1347.04MB uploaded (0.00MB deduped)\r"
      }
     },
     "3dfdb92ffe234ac2b434eea40e9fcdd4": {
      "model_module": "@jupyter-widgets/controls",
      "model_module_version": "1.5.0",
      "model_name": "VBoxModel",
      "state": {
       "_dom_classes": [],
       "_model_module": "@jupyter-widgets/controls",
       "_model_module_version": "1.5.0",
       "_model_name": "VBoxModel",
       "_view_count": null,
       "_view_module": "@jupyter-widgets/controls",
       "_view_module_version": "1.5.0",
       "_view_name": "VBoxView",
       "box_style": "",
       "children": [
        "IPY_MODEL_7e1a5a6634f74a24bfc45b68a52d3ff8",
        "IPY_MODEL_53149b4b2b0247f4ad435910a4abed3b"
       ],
       "layout": "IPY_MODEL_4491732fdb8a4869b7dad5ccfe0af593"
      }
     },
     "409fa41ae5954e7ab715eb8c92826034": {
      "model_module": "@jupyter-widgets/base",
      "model_module_version": "1.2.0",
      "model_name": "LayoutModel",
      "state": {
       "_model_module": "@jupyter-widgets/base",
       "_model_module_version": "1.2.0",
       "_model_name": "LayoutModel",
       "_view_count": null,
       "_view_module": "@jupyter-widgets/base",
       "_view_module_version": "1.2.0",
       "_view_name": "LayoutView",
       "align_content": null,
       "align_items": null,
       "align_self": null,
       "border": null,
       "bottom": null,
       "display": null,
       "flex": null,
       "flex_flow": null,
       "grid_area": null,
       "grid_auto_columns": null,
       "grid_auto_flow": null,
       "grid_auto_rows": null,
       "grid_column": null,
       "grid_gap": null,
       "grid_row": null,
       "grid_template_areas": null,
       "grid_template_columns": null,
       "grid_template_rows": null,
       "height": null,
       "justify_content": null,
       "justify_items": null,
       "left": null,
       "margin": null,
       "max_height": null,
       "max_width": null,
       "min_height": null,
       "min_width": null,
       "object_fit": null,
       "object_position": null,
       "order": null,
       "overflow": null,
       "overflow_x": null,
       "overflow_y": null,
       "padding": null,
       "right": null,
       "top": null,
       "visibility": null,
       "width": null
      }
     },
     "42950d81f9aa464d81e46b81593d3f33": {
      "model_module": "@jupyter-widgets/controls",
      "model_module_version": "1.5.0",
      "model_name": "LabelModel",
      "state": {
       "_dom_classes": [],
       "_model_module": "@jupyter-widgets/controls",
       "_model_module_version": "1.5.0",
       "_model_name": "LabelModel",
       "_view_count": null,
       "_view_module": "@jupyter-widgets/controls",
       "_view_module_version": "1.5.0",
       "_view_name": "LabelView",
       "description": "",
       "description_tooltip": null,
       "layout": "IPY_MODEL_f44a542547364153b286c71a956bf75b",
       "placeholder": "​",
       "style": "IPY_MODEL_a3e4b882b114476b8b39bf0e68b895ff",
       "value": " 1347.04MB of 1347.04MB uploaded (0.00MB deduped)\r"
      }
     },
     "4491732fdb8a4869b7dad5ccfe0af593": {
      "model_module": "@jupyter-widgets/base",
      "model_module_version": "1.2.0",
      "model_name": "LayoutModel",
      "state": {
       "_model_module": "@jupyter-widgets/base",
       "_model_module_version": "1.2.0",
       "_model_name": "LayoutModel",
       "_view_count": null,
       "_view_module": "@jupyter-widgets/base",
       "_view_module_version": "1.2.0",
       "_view_name": "LayoutView",
       "align_content": null,
       "align_items": null,
       "align_self": null,
       "border": null,
       "bottom": null,
       "display": null,
       "flex": null,
       "flex_flow": null,
       "grid_area": null,
       "grid_auto_columns": null,
       "grid_auto_flow": null,
       "grid_auto_rows": null,
       "grid_column": null,
       "grid_gap": null,
       "grid_row": null,
       "grid_template_areas": null,
       "grid_template_columns": null,
       "grid_template_rows": null,
       "height": null,
       "justify_content": null,
       "justify_items": null,
       "left": null,
       "margin": null,
       "max_height": null,
       "max_width": null,
       "min_height": null,
       "min_width": null,
       "object_fit": null,
       "object_position": null,
       "order": null,
       "overflow": null,
       "overflow_x": null,
       "overflow_y": null,
       "padding": null,
       "right": null,
       "top": null,
       "visibility": null,
       "width": null
      }
     },
     "4ea62c687ee24e09ad9904a414174a26": {
      "model_module": "@jupyter-widgets/controls",
      "model_module_version": "1.5.0",
      "model_name": "FloatProgressModel",
      "state": {
       "_dom_classes": [],
       "_model_module": "@jupyter-widgets/controls",
       "_model_module_version": "1.5.0",
       "_model_name": "FloatProgressModel",
       "_view_count": null,
       "_view_module": "@jupyter-widgets/controls",
       "_view_module_version": "1.5.0",
       "_view_name": "ProgressView",
       "bar_style": "",
       "description": "",
       "description_tooltip": null,
       "layout": "IPY_MODEL_19b5d81a57fe4e77a062a00d4d0c3430",
       "max": 1,
       "min": 0,
       "orientation": "horizontal",
       "style": "IPY_MODEL_91fcb846759a46a4ac75224fbb062fd5",
       "value": 1
      }
     },
     "51f5edc6a63a458c8a6c2f41e7406b79": {
      "model_module": "@jupyter-widgets/controls",
      "model_module_version": "1.5.0",
      "model_name": "ProgressStyleModel",
      "state": {
       "_model_module": "@jupyter-widgets/controls",
       "_model_module_version": "1.5.0",
       "_model_name": "ProgressStyleModel",
       "_view_count": null,
       "_view_module": "@jupyter-widgets/base",
       "_view_module_version": "1.2.0",
       "_view_name": "StyleView",
       "bar_color": null,
       "description_width": ""
      }
     },
     "53149b4b2b0247f4ad435910a4abed3b": {
      "model_module": "@jupyter-widgets/controls",
      "model_module_version": "1.5.0",
      "model_name": "FloatProgressModel",
      "state": {
       "_dom_classes": [],
       "_model_module": "@jupyter-widgets/controls",
       "_model_module_version": "1.5.0",
       "_model_name": "FloatProgressModel",
       "_view_count": null,
       "_view_module": "@jupyter-widgets/controls",
       "_view_module_version": "1.5.0",
       "_view_name": "ProgressView",
       "bar_style": "",
       "description": "",
       "description_tooltip": null,
       "layout": "IPY_MODEL_e0b17f62bf2e4fc9a892170c14332463",
       "max": 1,
       "min": 0,
       "orientation": "horizontal",
       "style": "IPY_MODEL_6723b68062004e189ca6b6702c9a2c9c",
       "value": 1
      }
     },
     "54122afd9d9d45f7a8f827be1385a77b": {
      "model_module": "@jupyter-widgets/controls",
      "model_module_version": "1.5.0",
      "model_name": "VBoxModel",
      "state": {
       "_dom_classes": [],
       "_model_module": "@jupyter-widgets/controls",
       "_model_module_version": "1.5.0",
       "_model_name": "VBoxModel",
       "_view_count": null,
       "_view_module": "@jupyter-widgets/controls",
       "_view_module_version": "1.5.0",
       "_view_name": "VBoxView",
       "box_style": "",
       "children": [
        "IPY_MODEL_1b2ddf59b2f54c7f90880f2727e57c4a",
        "IPY_MODEL_db24288a2a6b47009c904af3157258d3"
       ],
       "layout": "IPY_MODEL_ee6421a77f1f4ed1a2c2e3b0190159d9"
      }
     },
     "5b24bdfc2c9b4cd097843296cfbc2d89": {
      "model_module": "@jupyter-widgets/base",
      "model_module_version": "1.2.0",
      "model_name": "LayoutModel",
      "state": {
       "_model_module": "@jupyter-widgets/base",
       "_model_module_version": "1.2.0",
       "_model_name": "LayoutModel",
       "_view_count": null,
       "_view_module": "@jupyter-widgets/base",
       "_view_module_version": "1.2.0",
       "_view_name": "LayoutView",
       "align_content": null,
       "align_items": null,
       "align_self": null,
       "border": null,
       "bottom": null,
       "display": null,
       "flex": null,
       "flex_flow": null,
       "grid_area": null,
       "grid_auto_columns": null,
       "grid_auto_flow": null,
       "grid_auto_rows": null,
       "grid_column": null,
       "grid_gap": null,
       "grid_row": null,
       "grid_template_areas": null,
       "grid_template_columns": null,
       "grid_template_rows": null,
       "height": null,
       "justify_content": null,
       "justify_items": null,
       "left": null,
       "margin": null,
       "max_height": null,
       "max_width": null,
       "min_height": null,
       "min_width": null,
       "object_fit": null,
       "object_position": null,
       "order": null,
       "overflow": null,
       "overflow_x": null,
       "overflow_y": null,
       "padding": null,
       "right": null,
       "top": null,
       "visibility": null,
       "width": null
      }
     },
     "5d86059144a14ce4b56ff61eb38af77e": {
      "model_module": "@jupyter-widgets/controls",
      "model_module_version": "1.5.0",
      "model_name": "FloatProgressModel",
      "state": {
       "_dom_classes": [],
       "_model_module": "@jupyter-widgets/controls",
       "_model_module_version": "1.5.0",
       "_model_name": "FloatProgressModel",
       "_view_count": null,
       "_view_module": "@jupyter-widgets/controls",
       "_view_module_version": "1.5.0",
       "_view_name": "ProgressView",
       "bar_style": "",
       "description": "",
       "description_tooltip": null,
       "layout": "IPY_MODEL_5b24bdfc2c9b4cd097843296cfbc2d89",
       "max": 1,
       "min": 0,
       "orientation": "horizontal",
       "style": "IPY_MODEL_fadda6888ec94a80ab02fead5d319af8",
       "value": 1
      }
     },
     "6723b68062004e189ca6b6702c9a2c9c": {
      "model_module": "@jupyter-widgets/controls",
      "model_module_version": "1.5.0",
      "model_name": "ProgressStyleModel",
      "state": {
       "_model_module": "@jupyter-widgets/controls",
       "_model_module_version": "1.5.0",
       "_model_name": "ProgressStyleModel",
       "_view_count": null,
       "_view_module": "@jupyter-widgets/base",
       "_view_module_version": "1.2.0",
       "_view_name": "StyleView",
       "bar_color": null,
       "description_width": ""
      }
     },
     "673c5cb016174552a528dbfb2414dd20": {
      "model_module": "@jupyter-widgets/base",
      "model_module_version": "1.2.0",
      "model_name": "LayoutModel",
      "state": {
       "_model_module": "@jupyter-widgets/base",
       "_model_module_version": "1.2.0",
       "_model_name": "LayoutModel",
       "_view_count": null,
       "_view_module": "@jupyter-widgets/base",
       "_view_module_version": "1.2.0",
       "_view_name": "LayoutView",
       "align_content": null,
       "align_items": null,
       "align_self": null,
       "border": null,
       "bottom": null,
       "display": null,
       "flex": null,
       "flex_flow": null,
       "grid_area": null,
       "grid_auto_columns": null,
       "grid_auto_flow": null,
       "grid_auto_rows": null,
       "grid_column": null,
       "grid_gap": null,
       "grid_row": null,
       "grid_template_areas": null,
       "grid_template_columns": null,
       "grid_template_rows": null,
       "height": null,
       "justify_content": null,
       "justify_items": null,
       "left": null,
       "margin": null,
       "max_height": null,
       "max_width": null,
       "min_height": null,
       "min_width": null,
       "object_fit": null,
       "object_position": null,
       "order": null,
       "overflow": null,
       "overflow_x": null,
       "overflow_y": null,
       "padding": null,
       "right": null,
       "top": null,
       "visibility": null,
       "width": null
      }
     },
     "675e32e0f94f47de8543c75df8c6b485": {
      "model_module": "@jupyter-widgets/base",
      "model_module_version": "1.2.0",
      "model_name": "LayoutModel",
      "state": {
       "_model_module": "@jupyter-widgets/base",
       "_model_module_version": "1.2.0",
       "_model_name": "LayoutModel",
       "_view_count": null,
       "_view_module": "@jupyter-widgets/base",
       "_view_module_version": "1.2.0",
       "_view_name": "LayoutView",
       "align_content": null,
       "align_items": null,
       "align_self": null,
       "border": null,
       "bottom": null,
       "display": null,
       "flex": null,
       "flex_flow": null,
       "grid_area": null,
       "grid_auto_columns": null,
       "grid_auto_flow": null,
       "grid_auto_rows": null,
       "grid_column": null,
       "grid_gap": null,
       "grid_row": null,
       "grid_template_areas": null,
       "grid_template_columns": null,
       "grid_template_rows": null,
       "height": null,
       "justify_content": null,
       "justify_items": null,
       "left": null,
       "margin": null,
       "max_height": null,
       "max_width": null,
       "min_height": null,
       "min_width": null,
       "object_fit": null,
       "object_position": null,
       "order": null,
       "overflow": null,
       "overflow_x": null,
       "overflow_y": null,
       "padding": null,
       "right": null,
       "top": null,
       "visibility": null,
       "width": null
      }
     },
     "68ba631f6f7e4601a5499dab701d6341": {
      "model_module": "@jupyter-widgets/controls",
      "model_module_version": "1.5.0",
      "model_name": "VBoxModel",
      "state": {
       "_dom_classes": [],
       "_model_module": "@jupyter-widgets/controls",
       "_model_module_version": "1.5.0",
       "_model_name": "VBoxModel",
       "_view_count": null,
       "_view_module": "@jupyter-widgets/controls",
       "_view_module_version": "1.5.0",
       "_view_name": "VBoxView",
       "box_style": "",
       "children": [
        "IPY_MODEL_42950d81f9aa464d81e46b81593d3f33",
        "IPY_MODEL_4ea62c687ee24e09ad9904a414174a26"
       ],
       "layout": "IPY_MODEL_772498982b6e47eaa9661bdb886cfae3"
      }
     },
     "772498982b6e47eaa9661bdb886cfae3": {
      "model_module": "@jupyter-widgets/base",
      "model_module_version": "1.2.0",
      "model_name": "LayoutModel",
      "state": {
       "_model_module": "@jupyter-widgets/base",
       "_model_module_version": "1.2.0",
       "_model_name": "LayoutModel",
       "_view_count": null,
       "_view_module": "@jupyter-widgets/base",
       "_view_module_version": "1.2.0",
       "_view_name": "LayoutView",
       "align_content": null,
       "align_items": null,
       "align_self": null,
       "border": null,
       "bottom": null,
       "display": null,
       "flex": null,
       "flex_flow": null,
       "grid_area": null,
       "grid_auto_columns": null,
       "grid_auto_flow": null,
       "grid_auto_rows": null,
       "grid_column": null,
       "grid_gap": null,
       "grid_row": null,
       "grid_template_areas": null,
       "grid_template_columns": null,
       "grid_template_rows": null,
       "height": null,
       "justify_content": null,
       "justify_items": null,
       "left": null,
       "margin": null,
       "max_height": null,
       "max_width": null,
       "min_height": null,
       "min_width": null,
       "object_fit": null,
       "object_position": null,
       "order": null,
       "overflow": null,
       "overflow_x": null,
       "overflow_y": null,
       "padding": null,
       "right": null,
       "top": null,
       "visibility": null,
       "width": null
      }
     },
     "7ad0e46bd38344cea1c5356c878210b5": {
      "model_module": "@jupyter-widgets/controls",
      "model_module_version": "1.5.0",
      "model_name": "VBoxModel",
      "state": {
       "_dom_classes": [],
       "_model_module": "@jupyter-widgets/controls",
       "_model_module_version": "1.5.0",
       "_model_name": "VBoxModel",
       "_view_count": null,
       "_view_module": "@jupyter-widgets/controls",
       "_view_module_version": "1.5.0",
       "_view_name": "VBoxView",
       "box_style": "",
       "children": [
        "IPY_MODEL_3bf0d5f957234607925fa9145da33ef8",
        "IPY_MODEL_2f9b43cacbec4977b09f351e093b397a"
       ],
       "layout": "IPY_MODEL_37b1b011ea7f481094c1bae109e6006f"
      }
     },
     "7e1a5a6634f74a24bfc45b68a52d3ff8": {
      "model_module": "@jupyter-widgets/controls",
      "model_module_version": "1.5.0",
      "model_name": "LabelModel",
      "state": {
       "_dom_classes": [],
       "_model_module": "@jupyter-widgets/controls",
       "_model_module_version": "1.5.0",
       "_model_name": "LabelModel",
       "_view_count": null,
       "_view_module": "@jupyter-widgets/controls",
       "_view_module_version": "1.5.0",
       "_view_name": "LabelView",
       "description": "",
       "description_tooltip": null,
       "layout": "IPY_MODEL_409fa41ae5954e7ab715eb8c92826034",
       "placeholder": "​",
       "style": "IPY_MODEL_ceb0dc0162b54ef389e7341155052729",
       "value": " 1347.04MB of 1347.04MB uploaded (0.00MB deduped)\r"
      }
     },
     "82cb21fd500947bf8a1a80abccf73f9c": {
      "model_module": "@jupyter-widgets/base",
      "model_module_version": "1.2.0",
      "model_name": "LayoutModel",
      "state": {
       "_model_module": "@jupyter-widgets/base",
       "_model_module_version": "1.2.0",
       "_model_name": "LayoutModel",
       "_view_count": null,
       "_view_module": "@jupyter-widgets/base",
       "_view_module_version": "1.2.0",
       "_view_name": "LayoutView",
       "align_content": null,
       "align_items": null,
       "align_self": null,
       "border": null,
       "bottom": null,
       "display": null,
       "flex": null,
       "flex_flow": null,
       "grid_area": null,
       "grid_auto_columns": null,
       "grid_auto_flow": null,
       "grid_auto_rows": null,
       "grid_column": null,
       "grid_gap": null,
       "grid_row": null,
       "grid_template_areas": null,
       "grid_template_columns": null,
       "grid_template_rows": null,
       "height": null,
       "justify_content": null,
       "justify_items": null,
       "left": null,
       "margin": null,
       "max_height": null,
       "max_width": null,
       "min_height": null,
       "min_width": null,
       "object_fit": null,
       "object_position": null,
       "order": null,
       "overflow": null,
       "overflow_x": null,
       "overflow_y": null,
       "padding": null,
       "right": null,
       "top": null,
       "visibility": null,
       "width": null
      }
     },
     "91fcb846759a46a4ac75224fbb062fd5": {
      "model_module": "@jupyter-widgets/controls",
      "model_module_version": "1.5.0",
      "model_name": "ProgressStyleModel",
      "state": {
       "_model_module": "@jupyter-widgets/controls",
       "_model_module_version": "1.5.0",
       "_model_name": "ProgressStyleModel",
       "_view_count": null,
       "_view_module": "@jupyter-widgets/base",
       "_view_module_version": "1.2.0",
       "_view_name": "StyleView",
       "bar_color": null,
       "description_width": ""
      }
     },
     "92c0278a179841cbb820ca806f02686c": {
      "model_module": "@jupyter-widgets/controls",
      "model_module_version": "1.5.0",
      "model_name": "LabelModel",
      "state": {
       "_dom_classes": [],
       "_model_module": "@jupyter-widgets/controls",
       "_model_module_version": "1.5.0",
       "_model_name": "LabelModel",
       "_view_count": null,
       "_view_module": "@jupyter-widgets/controls",
       "_view_module_version": "1.5.0",
       "_view_name": "LabelView",
       "description": "",
       "description_tooltip": null,
       "layout": "IPY_MODEL_06860d5e08434fd1bbe738858b4605c2",
       "placeholder": "​",
       "style": "IPY_MODEL_dc5f424ed4be4b53ac9a6b879db1e5df",
       "value": " 1347.04MB of 1347.04MB uploaded (0.00MB deduped)\r"
      }
     },
     "9309ae7b27364e6693dd7de2e4164026": {
      "model_module": "@jupyter-widgets/base",
      "model_module_version": "1.2.0",
      "model_name": "LayoutModel",
      "state": {
       "_model_module": "@jupyter-widgets/base",
       "_model_module_version": "1.2.0",
       "_model_name": "LayoutModel",
       "_view_count": null,
       "_view_module": "@jupyter-widgets/base",
       "_view_module_version": "1.2.0",
       "_view_name": "LayoutView",
       "align_content": null,
       "align_items": null,
       "align_self": null,
       "border": null,
       "bottom": null,
       "display": null,
       "flex": null,
       "flex_flow": null,
       "grid_area": null,
       "grid_auto_columns": null,
       "grid_auto_flow": null,
       "grid_auto_rows": null,
       "grid_column": null,
       "grid_gap": null,
       "grid_row": null,
       "grid_template_areas": null,
       "grid_template_columns": null,
       "grid_template_rows": null,
       "height": null,
       "justify_content": null,
       "justify_items": null,
       "left": null,
       "margin": null,
       "max_height": null,
       "max_width": null,
       "min_height": null,
       "min_width": null,
       "object_fit": null,
       "object_position": null,
       "order": null,
       "overflow": null,
       "overflow_x": null,
       "overflow_y": null,
       "padding": null,
       "right": null,
       "top": null,
       "visibility": null,
       "width": null
      }
     },
     "93e3ce7c62004966b1108bd5c3bde168": {
      "model_module": "@jupyter-widgets/base",
      "model_module_version": "1.2.0",
      "model_name": "LayoutModel",
      "state": {
       "_model_module": "@jupyter-widgets/base",
       "_model_module_version": "1.2.0",
       "_model_name": "LayoutModel",
       "_view_count": null,
       "_view_module": "@jupyter-widgets/base",
       "_view_module_version": "1.2.0",
       "_view_name": "LayoutView",
       "align_content": null,
       "align_items": null,
       "align_self": null,
       "border": null,
       "bottom": null,
       "display": null,
       "flex": null,
       "flex_flow": null,
       "grid_area": null,
       "grid_auto_columns": null,
       "grid_auto_flow": null,
       "grid_auto_rows": null,
       "grid_column": null,
       "grid_gap": null,
       "grid_row": null,
       "grid_template_areas": null,
       "grid_template_columns": null,
       "grid_template_rows": null,
       "height": null,
       "justify_content": null,
       "justify_items": null,
       "left": null,
       "margin": null,
       "max_height": null,
       "max_width": null,
       "min_height": null,
       "min_width": null,
       "object_fit": null,
       "object_position": null,
       "order": null,
       "overflow": null,
       "overflow_x": null,
       "overflow_y": null,
       "padding": null,
       "right": null,
       "top": null,
       "visibility": null,
       "width": null
      }
     },
     "96c0c15f30f3468ab3d0e1a281425e6b": {
      "model_module": "@jupyter-widgets/controls",
      "model_module_version": "1.5.0",
      "model_name": "LabelModel",
      "state": {
       "_dom_classes": [],
       "_model_module": "@jupyter-widgets/controls",
       "_model_module_version": "1.5.0",
       "_model_name": "LabelModel",
       "_view_count": null,
       "_view_module": "@jupyter-widgets/controls",
       "_view_module_version": "1.5.0",
       "_view_name": "LabelView",
       "description": "",
       "description_tooltip": null,
       "layout": "IPY_MODEL_d0939bb6342f4cda9a2f454030e328a6",
       "placeholder": "​",
       "style": "IPY_MODEL_a6079455d95d4187a1ec80d6a28e624e",
       "value": " 1347.04MB of 1347.04MB uploaded (0.00MB deduped)\r"
      }
     },
     "a07ed33fdb4c4dea9f01a7bb4ad8d40e": {
      "model_module": "@jupyter-widgets/base",
      "model_module_version": "1.2.0",
      "model_name": "LayoutModel",
      "state": {
       "_model_module": "@jupyter-widgets/base",
       "_model_module_version": "1.2.0",
       "_model_name": "LayoutModel",
       "_view_count": null,
       "_view_module": "@jupyter-widgets/base",
       "_view_module_version": "1.2.0",
       "_view_name": "LayoutView",
       "align_content": null,
       "align_items": null,
       "align_self": null,
       "border": null,
       "bottom": null,
       "display": null,
       "flex": null,
       "flex_flow": null,
       "grid_area": null,
       "grid_auto_columns": null,
       "grid_auto_flow": null,
       "grid_auto_rows": null,
       "grid_column": null,
       "grid_gap": null,
       "grid_row": null,
       "grid_template_areas": null,
       "grid_template_columns": null,
       "grid_template_rows": null,
       "height": null,
       "justify_content": null,
       "justify_items": null,
       "left": null,
       "margin": null,
       "max_height": null,
       "max_width": null,
       "min_height": null,
       "min_width": null,
       "object_fit": null,
       "object_position": null,
       "order": null,
       "overflow": null,
       "overflow_x": null,
       "overflow_y": null,
       "padding": null,
       "right": null,
       "top": null,
       "visibility": null,
       "width": null
      }
     },
     "a3e4b882b114476b8b39bf0e68b895ff": {
      "model_module": "@jupyter-widgets/controls",
      "model_module_version": "1.5.0",
      "model_name": "DescriptionStyleModel",
      "state": {
       "_model_module": "@jupyter-widgets/controls",
       "_model_module_version": "1.5.0",
       "_model_name": "DescriptionStyleModel",
       "_view_count": null,
       "_view_module": "@jupyter-widgets/base",
       "_view_module_version": "1.2.0",
       "_view_name": "StyleView",
       "description_width": ""
      }
     },
     "a6079455d95d4187a1ec80d6a28e624e": {
      "model_module": "@jupyter-widgets/controls",
      "model_module_version": "1.5.0",
      "model_name": "DescriptionStyleModel",
      "state": {
       "_model_module": "@jupyter-widgets/controls",
       "_model_module_version": "1.5.0",
       "_model_name": "DescriptionStyleModel",
       "_view_count": null,
       "_view_module": "@jupyter-widgets/base",
       "_view_module_version": "1.2.0",
       "_view_name": "StyleView",
       "description_width": ""
      }
     },
     "afb427a4f34245c6b6d49fba3adc6519": {
      "model_module": "@jupyter-widgets/base",
      "model_module_version": "1.2.0",
      "model_name": "LayoutModel",
      "state": {
       "_model_module": "@jupyter-widgets/base",
       "_model_module_version": "1.2.0",
       "_model_name": "LayoutModel",
       "_view_count": null,
       "_view_module": "@jupyter-widgets/base",
       "_view_module_version": "1.2.0",
       "_view_name": "LayoutView",
       "align_content": null,
       "align_items": null,
       "align_self": null,
       "border": null,
       "bottom": null,
       "display": null,
       "flex": null,
       "flex_flow": null,
       "grid_area": null,
       "grid_auto_columns": null,
       "grid_auto_flow": null,
       "grid_auto_rows": null,
       "grid_column": null,
       "grid_gap": null,
       "grid_row": null,
       "grid_template_areas": null,
       "grid_template_columns": null,
       "grid_template_rows": null,
       "height": null,
       "justify_content": null,
       "justify_items": null,
       "left": null,
       "margin": null,
       "max_height": null,
       "max_width": null,
       "min_height": null,
       "min_width": null,
       "object_fit": null,
       "object_position": null,
       "order": null,
       "overflow": null,
       "overflow_x": null,
       "overflow_y": null,
       "padding": null,
       "right": null,
       "top": null,
       "visibility": null,
       "width": null
      }
     },
     "bf334d8ffce44d799d8d9234b844f62c": {
      "model_module": "@jupyter-widgets/controls",
      "model_module_version": "1.5.0",
      "model_name": "VBoxModel",
      "state": {
       "_dom_classes": [],
       "_model_module": "@jupyter-widgets/controls",
       "_model_module_version": "1.5.0",
       "_model_name": "VBoxModel",
       "_view_count": null,
       "_view_module": "@jupyter-widgets/controls",
       "_view_module_version": "1.5.0",
       "_view_name": "VBoxView",
       "box_style": "",
       "children": [
        "IPY_MODEL_92c0278a179841cbb820ca806f02686c",
        "IPY_MODEL_16cfcc73a3774edebaf43d015528550b"
       ],
       "layout": "IPY_MODEL_673c5cb016174552a528dbfb2414dd20"
      }
     },
     "ceb0dc0162b54ef389e7341155052729": {
      "model_module": "@jupyter-widgets/controls",
      "model_module_version": "1.5.0",
      "model_name": "DescriptionStyleModel",
      "state": {
       "_model_module": "@jupyter-widgets/controls",
       "_model_module_version": "1.5.0",
       "_model_name": "DescriptionStyleModel",
       "_view_count": null,
       "_view_module": "@jupyter-widgets/base",
       "_view_module_version": "1.2.0",
       "_view_name": "StyleView",
       "description_width": ""
      }
     },
     "d0939bb6342f4cda9a2f454030e328a6": {
      "model_module": "@jupyter-widgets/base",
      "model_module_version": "1.2.0",
      "model_name": "LayoutModel",
      "state": {
       "_model_module": "@jupyter-widgets/base",
       "_model_module_version": "1.2.0",
       "_model_name": "LayoutModel",
       "_view_count": null,
       "_view_module": "@jupyter-widgets/base",
       "_view_module_version": "1.2.0",
       "_view_name": "LayoutView",
       "align_content": null,
       "align_items": null,
       "align_self": null,
       "border": null,
       "bottom": null,
       "display": null,
       "flex": null,
       "flex_flow": null,
       "grid_area": null,
       "grid_auto_columns": null,
       "grid_auto_flow": null,
       "grid_auto_rows": null,
       "grid_column": null,
       "grid_gap": null,
       "grid_row": null,
       "grid_template_areas": null,
       "grid_template_columns": null,
       "grid_template_rows": null,
       "height": null,
       "justify_content": null,
       "justify_items": null,
       "left": null,
       "margin": null,
       "max_height": null,
       "max_width": null,
       "min_height": null,
       "min_width": null,
       "object_fit": null,
       "object_position": null,
       "order": null,
       "overflow": null,
       "overflow_x": null,
       "overflow_y": null,
       "padding": null,
       "right": null,
       "top": null,
       "visibility": null,
       "width": null
      }
     },
     "db24288a2a6b47009c904af3157258d3": {
      "model_module": "@jupyter-widgets/controls",
      "model_module_version": "1.5.0",
      "model_name": "FloatProgressModel",
      "state": {
       "_dom_classes": [],
       "_model_module": "@jupyter-widgets/controls",
       "_model_module_version": "1.5.0",
       "_model_name": "FloatProgressModel",
       "_view_count": null,
       "_view_module": "@jupyter-widgets/controls",
       "_view_module_version": "1.5.0",
       "_view_name": "ProgressView",
       "bar_style": "",
       "description": "",
       "description_tooltip": null,
       "layout": "IPY_MODEL_82cb21fd500947bf8a1a80abccf73f9c",
       "max": 1,
       "min": 0,
       "orientation": "horizontal",
       "style": "IPY_MODEL_dbba136bc456405fa3dc99d3f0bc4c2b",
       "value": 1
      }
     },
     "dbba136bc456405fa3dc99d3f0bc4c2b": {
      "model_module": "@jupyter-widgets/controls",
      "model_module_version": "1.5.0",
      "model_name": "ProgressStyleModel",
      "state": {
       "_model_module": "@jupyter-widgets/controls",
       "_model_module_version": "1.5.0",
       "_model_name": "ProgressStyleModel",
       "_view_count": null,
       "_view_module": "@jupyter-widgets/base",
       "_view_module_version": "1.2.0",
       "_view_name": "StyleView",
       "bar_color": null,
       "description_width": ""
      }
     },
     "dc5f424ed4be4b53ac9a6b879db1e5df": {
      "model_module": "@jupyter-widgets/controls",
      "model_module_version": "1.5.0",
      "model_name": "DescriptionStyleModel",
      "state": {
       "_model_module": "@jupyter-widgets/controls",
       "_model_module_version": "1.5.0",
       "_model_name": "DescriptionStyleModel",
       "_view_count": null,
       "_view_module": "@jupyter-widgets/base",
       "_view_module_version": "1.2.0",
       "_view_name": "StyleView",
       "description_width": ""
      }
     },
     "e0b17f62bf2e4fc9a892170c14332463": {
      "model_module": "@jupyter-widgets/base",
      "model_module_version": "1.2.0",
      "model_name": "LayoutModel",
      "state": {
       "_model_module": "@jupyter-widgets/base",
       "_model_module_version": "1.2.0",
       "_model_name": "LayoutModel",
       "_view_count": null,
       "_view_module": "@jupyter-widgets/base",
       "_view_module_version": "1.2.0",
       "_view_name": "LayoutView",
       "align_content": null,
       "align_items": null,
       "align_self": null,
       "border": null,
       "bottom": null,
       "display": null,
       "flex": null,
       "flex_flow": null,
       "grid_area": null,
       "grid_auto_columns": null,
       "grid_auto_flow": null,
       "grid_auto_rows": null,
       "grid_column": null,
       "grid_gap": null,
       "grid_row": null,
       "grid_template_areas": null,
       "grid_template_columns": null,
       "grid_template_rows": null,
       "height": null,
       "justify_content": null,
       "justify_items": null,
       "left": null,
       "margin": null,
       "max_height": null,
       "max_width": null,
       "min_height": null,
       "min_width": null,
       "object_fit": null,
       "object_position": null,
       "order": null,
       "overflow": null,
       "overflow_x": null,
       "overflow_y": null,
       "padding": null,
       "right": null,
       "top": null,
       "visibility": null,
       "width": null
      }
     },
     "e59a75ac7945400fb80b953faec08bd1": {
      "model_module": "@jupyter-widgets/controls",
      "model_module_version": "1.5.0",
      "model_name": "FloatProgressModel",
      "state": {
       "_dom_classes": [],
       "_model_module": "@jupyter-widgets/controls",
       "_model_module_version": "1.5.0",
       "_model_name": "FloatProgressModel",
       "_view_count": null,
       "_view_module": "@jupyter-widgets/controls",
       "_view_module_version": "1.5.0",
       "_view_name": "ProgressView",
       "bar_style": "",
       "description": "",
       "description_tooltip": null,
       "layout": "IPY_MODEL_9309ae7b27364e6693dd7de2e4164026",
       "max": 1,
       "min": 0,
       "orientation": "horizontal",
       "style": "IPY_MODEL_51f5edc6a63a458c8a6c2f41e7406b79",
       "value": 1
      }
     },
     "e900240072bd4b3fb14ba910f526b17c": {
      "model_module": "@jupyter-widgets/controls",
      "model_module_version": "1.5.0",
      "model_name": "DescriptionStyleModel",
      "state": {
       "_model_module": "@jupyter-widgets/controls",
       "_model_module_version": "1.5.0",
       "_model_name": "DescriptionStyleModel",
       "_view_count": null,
       "_view_module": "@jupyter-widgets/base",
       "_view_module_version": "1.2.0",
       "_view_name": "StyleView",
       "description_width": ""
      }
     },
     "ee6421a77f1f4ed1a2c2e3b0190159d9": {
      "model_module": "@jupyter-widgets/base",
      "model_module_version": "1.2.0",
      "model_name": "LayoutModel",
      "state": {
       "_model_module": "@jupyter-widgets/base",
       "_model_module_version": "1.2.0",
       "_model_name": "LayoutModel",
       "_view_count": null,
       "_view_module": "@jupyter-widgets/base",
       "_view_module_version": "1.2.0",
       "_view_name": "LayoutView",
       "align_content": null,
       "align_items": null,
       "align_self": null,
       "border": null,
       "bottom": null,
       "display": null,
       "flex": null,
       "flex_flow": null,
       "grid_area": null,
       "grid_auto_columns": null,
       "grid_auto_flow": null,
       "grid_auto_rows": null,
       "grid_column": null,
       "grid_gap": null,
       "grid_row": null,
       "grid_template_areas": null,
       "grid_template_columns": null,
       "grid_template_rows": null,
       "height": null,
       "justify_content": null,
       "justify_items": null,
       "left": null,
       "margin": null,
       "max_height": null,
       "max_width": null,
       "min_height": null,
       "min_width": null,
       "object_fit": null,
       "object_position": null,
       "order": null,
       "overflow": null,
       "overflow_x": null,
       "overflow_y": null,
       "padding": null,
       "right": null,
       "top": null,
       "visibility": null,
       "width": null
      }
     },
     "f44a542547364153b286c71a956bf75b": {
      "model_module": "@jupyter-widgets/base",
      "model_module_version": "1.2.0",
      "model_name": "LayoutModel",
      "state": {
       "_model_module": "@jupyter-widgets/base",
       "_model_module_version": "1.2.0",
       "_model_name": "LayoutModel",
       "_view_count": null,
       "_view_module": "@jupyter-widgets/base",
       "_view_module_version": "1.2.0",
       "_view_name": "LayoutView",
       "align_content": null,
       "align_items": null,
       "align_self": null,
       "border": null,
       "bottom": null,
       "display": null,
       "flex": null,
       "flex_flow": null,
       "grid_area": null,
       "grid_auto_columns": null,
       "grid_auto_flow": null,
       "grid_auto_rows": null,
       "grid_column": null,
       "grid_gap": null,
       "grid_row": null,
       "grid_template_areas": null,
       "grid_template_columns": null,
       "grid_template_rows": null,
       "height": null,
       "justify_content": null,
       "justify_items": null,
       "left": null,
       "margin": null,
       "max_height": null,
       "max_width": null,
       "min_height": null,
       "min_width": null,
       "object_fit": null,
       "object_position": null,
       "order": null,
       "overflow": null,
       "overflow_x": null,
       "overflow_y": null,
       "padding": null,
       "right": null,
       "top": null,
       "visibility": null,
       "width": null
      }
     },
     "f7d702adfe7245738c83f6cf5d2c91aa": {
      "model_module": "@jupyter-widgets/controls",
      "model_module_version": "1.5.0",
      "model_name": "VBoxModel",
      "state": {
       "_dom_classes": [],
       "_model_module": "@jupyter-widgets/controls",
       "_model_module_version": "1.5.0",
       "_model_name": "VBoxModel",
       "_view_count": null,
       "_view_module": "@jupyter-widgets/controls",
       "_view_module_version": "1.5.0",
       "_view_name": "VBoxView",
       "box_style": "",
       "children": [
        "IPY_MODEL_96c0c15f30f3468ab3d0e1a281425e6b",
        "IPY_MODEL_5d86059144a14ce4b56ff61eb38af77e"
       ],
       "layout": "IPY_MODEL_1be78ee497ec409db0407007796d0bd5"
      }
     },
     "fadda6888ec94a80ab02fead5d319af8": {
      "model_module": "@jupyter-widgets/controls",
      "model_module_version": "1.5.0",
      "model_name": "ProgressStyleModel",
      "state": {
       "_model_module": "@jupyter-widgets/controls",
       "_model_module_version": "1.5.0",
       "_model_name": "ProgressStyleModel",
       "_view_count": null,
       "_view_module": "@jupyter-widgets/base",
       "_view_module_version": "1.2.0",
       "_view_name": "StyleView",
       "bar_color": null,
       "description_width": ""
      }
     },
     "fc00162a80344a63a4012fc9ab33a5b9": {
      "model_module": "@jupyter-widgets/controls",
      "model_module_version": "1.5.0",
      "model_name": "ProgressStyleModel",
      "state": {
       "_model_module": "@jupyter-widgets/controls",
       "_model_module_version": "1.5.0",
       "_model_name": "ProgressStyleModel",
       "_view_count": null,
       "_view_module": "@jupyter-widgets/base",
       "_view_module_version": "1.2.0",
       "_view_name": "StyleView",
       "bar_color": null,
       "description_width": ""
      }
     },
     "ff4584a29df24bd59c0c3ebf343a773a": {
      "model_module": "@jupyter-widgets/base",
      "model_module_version": "1.2.0",
      "model_name": "LayoutModel",
      "state": {
       "_model_module": "@jupyter-widgets/base",
       "_model_module_version": "1.2.0",
       "_model_name": "LayoutModel",
       "_view_count": null,
       "_view_module": "@jupyter-widgets/base",
       "_view_module_version": "1.2.0",
       "_view_name": "LayoutView",
       "align_content": null,
       "align_items": null,
       "align_self": null,
       "border": null,
       "bottom": null,
       "display": null,
       "flex": null,
       "flex_flow": null,
       "grid_area": null,
       "grid_auto_columns": null,
       "grid_auto_flow": null,
       "grid_auto_rows": null,
       "grid_column": null,
       "grid_gap": null,
       "grid_row": null,
       "grid_template_areas": null,
       "grid_template_columns": null,
       "grid_template_rows": null,
       "height": null,
       "justify_content": null,
       "justify_items": null,
       "left": null,
       "margin": null,
       "max_height": null,
       "max_width": null,
       "min_height": null,
       "min_width": null,
       "object_fit": null,
       "object_position": null,
       "order": null,
       "overflow": null,
       "overflow_x": null,
       "overflow_y": null,
       "padding": null,
       "right": null,
       "top": null,
       "visibility": null,
       "width": null
      }
     }
    },
    "version_major": 2,
    "version_minor": 0
   }
  }
 },
 "nbformat": 4,
 "nbformat_minor": 5
}
